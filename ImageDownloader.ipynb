{
 "cells": [
  {
   "cell_type": "code",
   "execution_count": 83,
   "id": "72c3a73b-4923-4e13-a342-aa76e7e22f31",
   "metadata": {},
   "outputs": [],
   "source": [
    "from duckduckgo_search import ddg_images\n",
    "from fastcore.all import *\n",
    "\n",
    "def search_images(term, max_images=200): return L(ddg_images(term, max_results=max_images)).itemgot('image')\n",
    "\n",
    "from fastdownload import download_url\n",
    "\n",
    "from fastai.vision.all import *\n",
    "import timm\n",
    "import numpy as np\n",
    "import requests\n",
    "from bs4 import BeautifulSoup as bs4\n",
    "import pandas as pd"
   ]
  },
  {
   "cell_type": "code",
   "execution_count": null,
   "id": "20482b3c-fd5d-427a-bd3b-9fce68f946dd",
   "metadata": {},
   "outputs": [],
   "source": []
  },
  {
   "cell_type": "code",
   "execution_count": 5,
   "id": "0de893d5-eb87-4424-b5d6-0f749e14a053",
   "metadata": {},
   "outputs": [],
   "source": [
    "page_t = requests.get('https://boardgamegeek.com/image/2669798')"
   ]
  },
  {
   "cell_type": "code",
   "execution_count": 6,
   "id": "64868e71-25a3-4739-b9ac-e747d9ec4d62",
   "metadata": {},
   "outputs": [],
   "source": [
    "soup_t = bs4(page_t.content, 'html.parser')"
   ]
  },
  {
   "cell_type": "code",
   "execution_count": 7,
   "id": "589e3ec2-35d3-4c44-89e6-f3d849db0ae2",
   "metadata": {},
   "outputs": [],
   "source": [
    "def extract_img(image_number): \n",
    "    page = requests.get('https://boardgamegeek.com/image/'+str(image_number))\n",
    "    soup = bs4(page.content, 'html.parser')\n",
    "    uncleaned_image_link=(str(soup.find('link',href=re.compile(r'geekdo-images'))))\n",
    "    patt= re.compile(r'https.*'+str(image_number)+r'[^\"]*')\n",
    "    image_link=patt.findall(uncleaned_image_link) #add an assertion that the list is nonempty\n",
    "    \n",
    "    uncleaned_game_name=(str(soup.find('link',rel='canonical')))\n",
    "    patt2= re.compile(str(image_number)+r'/[^\"]*')\n",
    "    game_name=patt2.findall(uncleaned_game_name) #add an assertion that the list is nonempty\n",
    "    if len(image_link)==0 or len(game_name)==0:\n",
    "        return 'invalid', uncleaned_image_link +'\\n' + uncleaned_game_name +'\\n' +str(soup)\n",
    "    return game_name[0][8:], image_link[0]  #,page, soup, uncleaned_image_link, patt,"
   ]
  },
  {
   "cell_type": "code",
   "execution_count": 8,
   "id": "f3338278-ee06-4804-b48b-4e288af3456f",
   "metadata": {},
   "outputs": [],
   "source": [
    "page_t = requests.get('https://boardgamegeek.com/image/'+str(2669812))\n",
    "soup_t = bs4(page_t.content, 'html.parser')\n",
    "uncleaned_image_link_t=(str(soup_t.find('link',href=re.compile(r'geekdo-images'))))\n",
    "patt_t= re.compile(r'https.*'+str(2669812)+r'[^\"]*')\n",
    "image_link_t=patt_t.findall(uncleaned_image_link_t)"
   ]
  },
  {
   "cell_type": "code",
   "execution_count": 9,
   "id": "f5268a15-8c63-454c-9057-43ec8c3c410b",
   "metadata": {},
   "outputs": [
    {
     "data": {
      "text/plain": [
       "True"
      ]
     },
     "execution_count": 9,
     "metadata": {},
     "output_type": "execute_result"
    }
   ],
   "source": [
    "page_t.status_code==404"
   ]
  },
  {
   "cell_type": "code",
   "execution_count": 10,
   "id": "68f2ea61-4f0f-4987-ab8b-2404fcf2db18",
   "metadata": {},
   "outputs": [
    {
     "data": {
      "text/plain": [
       "('gloomhaven',\n",
       " 'https://cf.geekdo-images.com/HNMHfQ49oxs8ig-IEmNQWQ__imagepage/img/nNo4l2NjXToU3DCoBnMIbDExJu0=/fit-in/900x600/filters:no_upscale():strip_icc()/pic2669798.png')"
      ]
     },
     "execution_count": 10,
     "metadata": {},
     "output_type": "execute_result"
    }
   ],
   "source": [
    "extract_img(2669798)"
   ]
  },
  {
   "cell_type": "code",
   "execution_count": 11,
   "id": "8aa0078f-4cd0-4edd-ade9-e4d124a0ad55",
   "metadata": {},
   "outputs": [
    {
     "data": {
      "text/plain": [
       "('jmaydet',\n",
       " 'https://cf.geekdo-images.com/0WHEngboBp96fNQmqVNjiQ__imagepage/img/95blS1S21dYclnS_bMi7ws_pRq8=/fit-in/900x600/filters:no_upscale():strip_icc()/pic2669900.jpg')"
      ]
     },
     "execution_count": 11,
     "metadata": {},
     "output_type": "execute_result"
    }
   ],
   "source": [
    "extract_img(2669900)"
   ]
  },
  {
   "cell_type": "code",
   "execution_count": 75,
   "id": "c537ad25-7009-45bb-97af-0d5b0093eb5b",
   "metadata": {},
   "outputs": [],
   "source": [
    "def get_links_simple(start,stop):\n",
    "    linklist=[]\n",
    "    errorlist=[]\n",
    "    for image_number in range(start,stop): # can vectorize this using numpy - output is then first a single vector that we split into links and errors afterwards\n",
    "        if image_number%100==0 and image_number!=0:\n",
    "                print(image_number)\n",
    "        page = requests.get('https://boardgamegeek.com/image/'+str(image_number))\n",
    "        if page.status_code==404:\n",
    "            errorlist.append([image_number,404,None])#None for vectorization\n",
    "        else:\n",
    "            soup = bs4(page.content, 'html.parser')\n",
    "            uncleaned_image_link=(str(soup.find('link',href=re.compile(r'geekdo-images')))) #isolates the full link element to the image\n",
    "            patt= re.compile(r'https.*'+str(image_number)+r'[^\"]*')  \n",
    "            image_link=patt.findall(uncleaned_image_link) #removes everything except the link iteself\n",
    "\n",
    "            uncleaned_game_name=(str(soup.find('link',rel='canonical'))) \n",
    "            patt2= re.compile(str(image_number)+r'/[^\"]*')\n",
    "            game_name=patt2.findall(uncleaned_game_name)\n",
    "            \n",
    "            if image_link==[] or game_name==[]:\n",
    "                errorlist.append([image_number, page.status_code,None]) #None for vectorization\n",
    "            else: \n",
    "                linklist.append([image_number,game_name[0][8:],image_link[0]])\n",
    "            \n",
    "    return [linklist, errorlist]"
   ]
  },
  {
   "cell_type": "code",
   "execution_count": 40,
   "id": "0522aa0f-8236-4f01-90c0-1bd7dda72652",
   "metadata": {},
   "outputs": [
    {
     "name": "stdout",
     "output_type": "stream",
     "text": [
      "2669800\n"
     ]
    }
   ],
   "source": [
    "l1 = get_links(2669798,2669806)"
   ]
  },
  {
   "cell_type": "code",
   "execution_count": 41,
   "id": "659e0ecb-c59b-4192-b147-b5638f3f79ec",
   "metadata": {},
   "outputs": [
    {
     "data": {
      "text/plain": [
       "([[2669798,\n",
       "   'gloomhaven',\n",
       "   'https://cf.geekdo-images.com/HNMHfQ49oxs8ig-IEmNQWQ__imagepage/img/nNo4l2NjXToU3DCoBnMIbDExJu0=/fit-in/900x600/filters:no_upscale():strip_icc()/pic2669798.png'],\n",
       "  [2669799,\n",
       "   'paying-peiper',\n",
       "   'https://cf.geekdo-images.com/HOsk9e2uJ9WxZoSMT0RMxQ__imagepage/img/bl0d18X72meL8hTCf4isAoA1uvE=/fit-in/900x600/filters:no_upscale():strip_icc()/pic2669799.jpg'],\n",
       "  [2669800,\n",
       "   'paying-peiper',\n",
       "   'https://cf.geekdo-images.com/OLOEUjwxOoePxzZYI6eWFA__imagepage/img/wVft8ypQmpBmD7gMWMuvgBIQ_YI=/fit-in/900x600/filters:no_upscale():strip_icc()/pic2669800.jpg'],\n",
       "  [2669801,\n",
       "   'rayz2112',\n",
       "   'https://cf.geekdo-images.com/rlKIMylDNnmAqtp-n_DvyA__imagepage/img/88bhzKCFSKWNtvgJSPGOjFqqLfc=/fit-in/900x600/filters:no_upscale():strip_icc()/pic2669801.jpg'],\n",
       "  [2669802,\n",
       "   'mystery-abbey',\n",
       "   'https://cf.geekdo-images.com/YaUXlvHosnsl1kul2Y9ctQ__imagepage/img/HeErbWb2ooRBTubTsqXp0lB5JeI=/fit-in/900x600/filters:no_upscale():strip_icc()/pic2669802.jpg'],\n",
       "  [2669803,\n",
       "   'bubble-guppies-fin-tastic-field-trip-game',\n",
       "   'https://cf.geekdo-images.com/ofg7U7VKaAWeiBN3fOBRJA__imagepage/img/rZSkZrsQVeDVDKxlagnv6Fw3Ct8=/fit-in/900x600/filters:no_upscale():strip_icc()/pic2669803.jpg'],\n",
       "  [2669804,\n",
       "   'bkindt',\n",
       "   'https://cf.geekdo-images.com/vJu8vrO5e5QzfGNlo0Y6Lg__imagepage/img/g-con0lszeUryJ3RvSthGYYWUhM=/fit-in/900x600/filters:no_upscale():strip_icc()/pic2669804.jpg'],\n",
       "  [2669805,\n",
       "   'dash-peiper',\n",
       "   'https://cf.geekdo-images.com/75liFy-l1VhNuZp7GX-Diw__imagepage/img/hotfQ2sm9eNdOj2MJXqN1ADjJr0=/fit-in/900x600/filters:no_upscale():strip_icc()/pic2669805.jpg']],\n",
       " [])"
      ]
     },
     "execution_count": 41,
     "metadata": {},
     "output_type": "execute_result"
    }
   ],
   "source": [
    "l1"
   ]
  },
  {
   "cell_type": "code",
   "execution_count": 42,
   "id": "ec7a357b-cc80-44dc-a950-9738efaf4372",
   "metadata": {},
   "outputs": [],
   "source": [
    "l2 = get_links(2669806,2669816)"
   ]
  },
  {
   "cell_type": "code",
   "execution_count": 43,
   "id": "cec9ca03-1ee8-44a1-8dce-554c7078c327",
   "metadata": {},
   "outputs": [
    {
     "data": {
      "text/plain": [
       "([[2669806,\n",
       "   'jrtracy',\n",
       "   'https://cf.geekdo-images.com/YCweY_9JFsQRKXdk29ngRQ__imagepage/img/5DoGDinpQ-L_1ig2EzTsjrhlNB8=/fit-in/900x600/filters:no_upscale():strip_icc()/pic2669806.jpg'],\n",
       "  [2669807,\n",
       "   'advanced-bernard-jean-deuxieme-edition',\n",
       "   'https://cf.geekdo-images.com/G5jo2pjgd0nEp87P8XSabw__imagepage/img/HdarJ6bTxwGgQXeWFHF7qmR3B7Y=/fit-in/900x600/filters:no_upscale():strip_icc()/pic2669807.jpg'],\n",
       "  [2669808,\n",
       "   '2tomatoes-games',\n",
       "   'https://cf.geekdo-images.com/CCuAdnh3YNAppn1It5kVIQ__imagepage/img/2BJeY96lIwqiGfw1MF7o4MsFpH4=/fit-in/900x600/filters:no_upscale():strip_icc()/pic2669808.png'],\n",
       "  [2669809,\n",
       "   'yellow-tome-beyond-mists',\n",
       "   'https://cf.geekdo-images.com/EkgxFg18utzTEik5QOrNkg__imagepage/img/raZYRidljUCKiqcpWTS9mWgQbYg=/fit-in/900x600/filters:no_upscale():strip_icc()/pic2669809.png'],\n",
       "  [2669810,\n",
       "   'blur-hand-quicker-die',\n",
       "   'https://cf.geekdo-images.com/DNGILi56eeCzJcflHKjKag__imagepage/img/iT_H5bt2raRHVhRN1KOAgaWLYNw=/fit-in/900x600/filters:no_upscale():strip_icc()/pic2669810.png'],\n",
       "  [2669811,\n",
       "   'blackjack-river',\n",
       "   'https://cf.geekdo-images.com/p4tVv57hqDlOUoc6JxZpgQ__imagepage/img/ez3SgWHVcDiQgVabvTMYIuGhQGQ=/fit-in/900x600/filters:no_upscale():strip_icc()/pic2669811.jpg']],\n",
       " [[2669812, 404, None],\n",
       "  [2669813, 404, None],\n",
       "  [2669814, 404, None],\n",
       "  [2669815, 404, None]])"
      ]
     },
     "execution_count": 43,
     "metadata": {},
     "output_type": "execute_result"
    }
   ],
   "source": [
    "l2"
   ]
  },
  {
   "cell_type": "code",
   "execution_count": 44,
   "id": "40e60a4e-7d08-452f-b88f-8a7655ca3ed4",
   "metadata": {},
   "outputs": [
    {
     "data": {
      "text/plain": [
       "([[2669798,\n",
       "   'gloomhaven',\n",
       "   'https://cf.geekdo-images.com/HNMHfQ49oxs8ig-IEmNQWQ__imagepage/img/nNo4l2NjXToU3DCoBnMIbDExJu0=/fit-in/900x600/filters:no_upscale():strip_icc()/pic2669798.png'],\n",
       "  [2669799,\n",
       "   'paying-peiper',\n",
       "   'https://cf.geekdo-images.com/HOsk9e2uJ9WxZoSMT0RMxQ__imagepage/img/bl0d18X72meL8hTCf4isAoA1uvE=/fit-in/900x600/filters:no_upscale():strip_icc()/pic2669799.jpg'],\n",
       "  [2669800,\n",
       "   'paying-peiper',\n",
       "   'https://cf.geekdo-images.com/OLOEUjwxOoePxzZYI6eWFA__imagepage/img/wVft8ypQmpBmD7gMWMuvgBIQ_YI=/fit-in/900x600/filters:no_upscale():strip_icc()/pic2669800.jpg'],\n",
       "  [2669801,\n",
       "   'rayz2112',\n",
       "   'https://cf.geekdo-images.com/rlKIMylDNnmAqtp-n_DvyA__imagepage/img/88bhzKCFSKWNtvgJSPGOjFqqLfc=/fit-in/900x600/filters:no_upscale():strip_icc()/pic2669801.jpg'],\n",
       "  [2669802,\n",
       "   'mystery-abbey',\n",
       "   'https://cf.geekdo-images.com/YaUXlvHosnsl1kul2Y9ctQ__imagepage/img/HeErbWb2ooRBTubTsqXp0lB5JeI=/fit-in/900x600/filters:no_upscale():strip_icc()/pic2669802.jpg'],\n",
       "  [2669803,\n",
       "   'bubble-guppies-fin-tastic-field-trip-game',\n",
       "   'https://cf.geekdo-images.com/ofg7U7VKaAWeiBN3fOBRJA__imagepage/img/rZSkZrsQVeDVDKxlagnv6Fw3Ct8=/fit-in/900x600/filters:no_upscale():strip_icc()/pic2669803.jpg'],\n",
       "  [2669804,\n",
       "   'bkindt',\n",
       "   'https://cf.geekdo-images.com/vJu8vrO5e5QzfGNlo0Y6Lg__imagepage/img/g-con0lszeUryJ3RvSthGYYWUhM=/fit-in/900x600/filters:no_upscale():strip_icc()/pic2669804.jpg'],\n",
       "  [2669805,\n",
       "   'dash-peiper',\n",
       "   'https://cf.geekdo-images.com/75liFy-l1VhNuZp7GX-Diw__imagepage/img/hotfQ2sm9eNdOj2MJXqN1ADjJr0=/fit-in/900x600/filters:no_upscale():strip_icc()/pic2669805.jpg']],\n",
       " [])"
      ]
     },
     "execution_count": 44,
     "metadata": {},
     "output_type": "execute_result"
    }
   ],
   "source": [
    "l1"
   ]
  },
  {
   "cell_type": "code",
   "execution_count": 52,
   "id": "8b9a04f5-eae3-4d36-b6ff-38ab25db56d5",
   "metadata": {},
   "outputs": [],
   "source": [
    "def get_links(image_number): #vectorization?\n",
    "    page = requests.get('https://boardgamegeek.com/image/'+str(image_number))\n",
    "    if page.status_code==404:\n",
    "        game_name='404'\n",
    "        image_link=None\n",
    "    else:\n",
    "        soup = bs4(page.content, 'html.parser')\n",
    "        uncleaned_image_link=(str(soup.find('link',href=re.compile(r'geekdo-images')))) #isolates the full link element to the image\n",
    "        patt= re.compile(r'https.*'+str(image_number)+r'[^\"]*')  \n",
    "        image_link=patt.findall(uncleaned_image_link) #removes everything except the link iteself\n",
    "\n",
    "        uncleaned_game_name=(str(soup.find('link',rel='canonical'))) \n",
    "        patt2= re.compile(str(image_number)+r'/[^\"]*')\n",
    "        game_name=patt2.findall(uncleaned_game_name)\n",
    "\n",
    "        if image_link==[] or game_name==[]:\n",
    "            game_name=str(page.status_code)\n",
    "            image_link= None\n",
    "        else: \n",
    "            game_name=game_name[0][8:]\n",
    "            image_link=image_link[0]\n",
    "\n",
    "    return np.asarray([image_number,game_name,image_link])"
   ]
  },
  {
   "cell_type": "code",
   "execution_count": 56,
   "id": "4d06bdaf-9b82-42a0-9ec4-8001e89349e8",
   "metadata": {},
   "outputs": [
    {
     "name": "stdout",
     "output_type": "stream",
     "text": [
      "2669800\n"
     ]
    }
   ],
   "source": [
    "l1=get_links_simple(2669798,2669808)"
   ]
  },
  {
   "cell_type": "code",
   "execution_count": 57,
   "id": "be73b78a-09f2-41f4-9494-26edc2194ff2",
   "metadata": {},
   "outputs": [
    {
     "name": "stdout",
     "output_type": "stream",
     "text": [
      "2669800\n"
     ]
    }
   ],
   "source": [
    "l2=get_links_simple(2669798,2669898)"
   ]
  },
  {
   "cell_type": "markdown",
   "id": "46f10d07-ea4c-433c-93fb-e0608b4d7343",
   "metadata": {},
   "source": [
    "This took ~30 seconds"
   ]
  },
  {
   "cell_type": "code",
   "execution_count": 58,
   "id": "38b308fb-582e-4712-af62-d13ee10ae060",
   "metadata": {},
   "outputs": [
    {
     "data": {
      "text/plain": [
       "12000"
      ]
     },
     "execution_count": 58,
     "metadata": {},
     "output_type": "execute_result"
    }
   ],
   "source": [
    "60*2*100"
   ]
  },
  {
   "cell_type": "markdown",
   "id": "54f6e242-463a-48a9-bb15-a6e50501f667",
   "metadata": {},
   "source": [
    "So I could expect to get 12000 links in an hour"
   ]
  },
  {
   "cell_type": "code",
   "execution_count": 80,
   "id": "cf67fe29-5f77-47ef-b082-724c21f3d0cc",
   "metadata": {},
   "outputs": [],
   "source": [
    "gns=np.asarray(l2[0])[:,1]"
   ]
  },
  {
   "cell_type": "code",
   "execution_count": 94,
   "id": "b1408fcc-27bf-4ae8-98a5-5e9aef3faf83",
   "metadata": {},
   "outputs": [
    {
     "data": {
      "text/plain": [
       "esbegan                                               8\n",
       "pickboy87                                             8\n",
       "imperios-milenarios                                   4\n",
       "legacy-testament-duke-de-crecy-five-families          4\n",
       "manuel-du-gendarme-et-du-voleur                       3\n",
       "castles-mad-king-ludwig                               3\n",
       "camel                                                 3\n",
       "manuel-du-meneur-de-jeu                               3\n",
       "livret-denquete                                       3\n",
       "lefty-brune                                           3\n",
       "blur-hand-quicker-die                                 2\n",
       "martinus                                              2\n",
       "paying-peiper                                         2\n",
       "basic-pulp                                            2\n",
       "yellow-tome-beyond-mists                              2\n",
       "concordia                                             2\n",
       "curses-vampire                                        2\n",
       "jrtracy                                               1\n",
       "livret-du-gendarme                                    1\n",
       "mystery-abbey                                         1\n",
       "mlspyl                                                1\n",
       "mrraow                                                1\n",
       "player-essentials-heroes-fallen-lands                 1\n",
       "rayz2112                                              1\n",
       "sdric                                                 1\n",
       "the-immortal                                          1\n",
       "wolfcry91                                             1\n",
       "jmaydet                                               1\n",
       "2tomatoes-games                                       1\n",
       "gloomhaven                                            1\n",
       "chimera                                               1\n",
       "ages-alivena                                          1\n",
       "ages-alivena-basics                                   1\n",
       "bkindt                                                1\n",
       "black-handed-henrys-potion-party                      1\n",
       "blackjack-river                                       1\n",
       "bubble-guppies-fin-tastic-field-trip-game             1\n",
       "bun-fight                                             1\n",
       "casier-judiciaire                                     1\n",
       "cjs65                                                 1\n",
       "formulaire-a32                                        1\n",
       "cv                                                    1\n",
       "dash-peiper                                           1\n",
       "erebus-archive-ereban-culture-and-mythology           1\n",
       "erebus-definitive-guide-entertainment-city-shadows    1\n",
       "erebus-excerpts-journal-natural-philosophy            1\n",
       "erebus-herald                                         1\n",
       "erebus-primer-new-visitors-city-shadows               1\n",
       "advanced-bernard-jean-deuxieme-edition                1\n",
       "yt40charxls-character-generation-spreadsheet          1\n",
       "dtype: int64"
      ]
     },
     "execution_count": 94,
     "metadata": {},
     "output_type": "execute_result"
    }
   ],
   "source": [
    "pd.DataFrame(gns).value_counts()"
   ]
  },
  {
   "cell_type": "markdown",
   "id": "6322e53f-6c10-4140-9c3d-040a3222f536",
   "metadata": {},
   "source": [
    "We need an effective way to isolate games from users"
   ]
  },
  {
   "cell_type": "code",
   "execution_count": null,
   "id": "00f8b994-05fd-4d0a-baa3-fdad7c4fe8b4",
   "metadata": {},
   "outputs": [],
   "source": []
  },
  {
   "cell_type": "markdown",
   "id": "65660a7f-0595-4e0b-a511-912d97646e1b",
   "metadata": {},
   "source": [
    "# "
   ]
  }
 ],
 "metadata": {
  "kernelspec": {
   "display_name": "Python 3 (ipykernel)",
   "language": "python",
   "name": "python3"
  },
  "language_info": {
   "codemirror_mode": {
    "name": "ipython",
    "version": 3
   },
   "file_extension": ".py",
   "mimetype": "text/x-python",
   "name": "python",
   "nbconvert_exporter": "python",
   "pygments_lexer": "ipython3",
   "version": "3.10.6"
  }
 },
 "nbformat": 4,
 "nbformat_minor": 5
}
