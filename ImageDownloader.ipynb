{
 "cells": [
  {
   "cell_type": "code",
   "execution_count": 9,
   "id": "72c3a73b-4923-4e13-a342-aa76e7e22f31",
   "metadata": {},
   "outputs": [],
   "source": [
    "from duckduckgo_search import ddg_images\n",
    "from fastcore.all import *\n",
    "\n",
    "def search_images(term, max_images=200): return L(ddg_images(term, max_results=max_images)).itemgot('image')\n",
    "\n",
    "from fastdownload import download_url\n",
    "\n",
    "from fastai.vision.all import *\n",
    "import timm"
   ]
  },
  {
   "cell_type": "code",
   "execution_count": 1,
   "id": "f3b8982e-0a72-4863-bfc4-5ec45beefe79",
   "metadata": {},
   "outputs": [],
   "source": [
    "import requests\n",
    "from bs4 import BeautifulSoup as bs4"
   ]
  },
  {
   "cell_type": "code",
   "execution_count": 2,
   "id": "0de893d5-eb87-4424-b5d6-0f749e14a053",
   "metadata": {},
   "outputs": [],
   "source": [
    "page_t = requests.get('https://boardgamegeek.com/image/2669798')"
   ]
  },
  {
   "cell_type": "code",
   "execution_count": 3,
   "id": "64868e71-25a3-4739-b9ac-e747d9ec4d62",
   "metadata": {},
   "outputs": [],
   "source": [
    "soup_t = bs4(page_t.content, 'html.parser')"
   ]
  },
  {
   "cell_type": "code",
   "execution_count": 45,
   "id": "589e3ec2-35d3-4c44-89e6-f3d849db0ae2",
   "metadata": {},
   "outputs": [],
   "source": [
    "def extract_img(image_number): #TO DO: EDIT SUCH THAT IT RETURNS A SEPERATE LIST WITH THE FAILED DOWNLOADS, SPECIFYING ONLY THE ERROR CODE (E.G. 404) \n",
    "                                # Use page.status_code==404\n",
    "    page = requests.get('https://boardgamegeek.com/image/'+str(image_number))\n",
    "    soup = bs4(page.content, 'html.parser')\n",
    "    uncleaned_image_link=(str(soup.find('link',href=re.compile(r'geekdo-images'))))\n",
    "    patt= re.compile(r'https.*'+str(image_number)+r'[^\"]*')\n",
    "    image_link=patt.findall(uncleaned_image_link) #add an assertion that the list is nonempty\n",
    "    \n",
    "    uncleaned_game_name=(str(soup.find('link',rel='canonical')))\n",
    "    patt2= re.compile(str(image_number)+r'/[^\"]*')\n",
    "    game_name=patt2.findall(uncleaned_game_name) #add an assertion that the list is nonempty\n",
    "    if len(image_link)==0 or len(game_name)==0:\n",
    "        return 'invalid', uncleaned_image_link +'\\n' + uncleaned_game_name +'\\n' +str(soup)\n",
    "    return image_link[0], game_name[0][8:] #,page, soup, uncleaned_image_link, patt,"
   ]
  },
  {
   "cell_type": "code",
   "execution_count": 34,
   "id": "f3338278-ee06-4804-b48b-4e288af3456f",
   "metadata": {},
   "outputs": [],
   "source": [
    "page_t = requests.get('https://boardgamegeek.com/image/'+str(2669812))\n",
    "soup_t = bs4(page_t.content, 'html.parser')\n",
    "uncleaned_image_link_t=(str(soup_t.find('link',href=re.compile(r'geekdo-images'))))\n",
    "patt_t= re.compile(r'https.*'+str(2669812)+r'[^\"]*')\n",
    "image_link_t=patt_t.findall(uncleaned_image_link_t)"
   ]
  },
  {
   "cell_type": "code",
   "execution_count": 44,
   "id": "f5268a15-8c63-454c-9057-43ec8c3c410b",
   "metadata": {},
   "outputs": [
    {
     "data": {
      "text/plain": [
       "True"
      ]
     },
     "execution_count": 44,
     "metadata": {},
     "output_type": "execute_result"
    }
   ],
   "source": [
    "page_t.status_code==404"
   ]
  },
  {
   "cell_type": "code",
   "execution_count": 16,
   "id": "68f2ea61-4f0f-4987-ab8b-2404fcf2db18",
   "metadata": {},
   "outputs": [
    {
     "data": {
      "text/plain": [
       "('https://cf.geekdo-images.com/HNMHfQ49oxs8ig-IEmNQWQ__imagepage/img/nNo4l2NjXToU3DCoBnMIbDExJu0=/fit-in/900x600/filters:no_upscale():strip_icc()/pic2669798.png',\n",
       " 'gloomhaven')"
      ]
     },
     "execution_count": 16,
     "metadata": {},
     "output_type": "execute_result"
    }
   ],
   "source": [
    "extract_img(2669798)"
   ]
  },
  {
   "cell_type": "code",
   "execution_count": 17,
   "id": "8aa0078f-4cd0-4edd-ade9-e4d124a0ad55",
   "metadata": {},
   "outputs": [],
   "source": [
    "extract_img(2669900)"
   ]
  },
  {
   "cell_type": "code",
   "execution_count": 18,
   "id": "c537ad25-7009-45bb-97af-0d5b0093eb5b",
   "metadata": {},
   "outputs": [],
   "source": [
    "def get_links(start,stop):\n",
    "    linklist=[]\n",
    "    for j in range(start,stop):\n",
    "        linklist.append(extract_img(j))\n",
    "        if j%100==0 and j!=0:\n",
    "            print(j)\n",
    "    return linklist"
   ]
  },
  {
   "cell_type": "code",
   "execution_count": 25,
   "id": "0522aa0f-8236-4f01-90c0-1bd7dda72652",
   "metadata": {},
   "outputs": [],
   "source": [
    "l1 = get_links(2669798,2669806)"
   ]
  },
  {
   "cell_type": "code",
   "execution_count": 26,
   "id": "40e60a4e-7d08-452f-b88f-8a7655ca3ed4",
   "metadata": {},
   "outputs": [
    {
     "data": {
      "text/plain": [
       "[('https://cf.geekdo-images.com/HNMHfQ49oxs8ig-IEmNQWQ__imagepage/img/nNo4l2NjXToU3DCoBnMIbDExJu0=/fit-in/900x600/filters:no_upscale():strip_icc()/pic2669798.png',\n",
       "  'gloomhaven'),\n",
       " ('https://cf.geekdo-images.com/HOsk9e2uJ9WxZoSMT0RMxQ__imagepage/img/bl0d18X72meL8hTCf4isAoA1uvE=/fit-in/900x600/filters:no_upscale():strip_icc()/pic2669799.jpg',\n",
       "  'paying-peiper'),\n",
       " ('https://cf.geekdo-images.com/OLOEUjwxOoePxzZYI6eWFA__imagepage/img/wVft8ypQmpBmD7gMWMuvgBIQ_YI=/fit-in/900x600/filters:no_upscale():strip_icc()/pic2669800.jpg',\n",
       "  'paying-peiper'),\n",
       " ('https://cf.geekdo-images.com/rlKIMylDNnmAqtp-n_DvyA__imagepage/img/88bhzKCFSKWNtvgJSPGOjFqqLfc=/fit-in/900x600/filters:no_upscale():strip_icc()/pic2669801.jpg',\n",
       "  'rayz2112'),\n",
       " ('https://cf.geekdo-images.com/YaUXlvHosnsl1kul2Y9ctQ__imagepage/img/HeErbWb2ooRBTubTsqXp0lB5JeI=/fit-in/900x600/filters:no_upscale():strip_icc()/pic2669802.jpg',\n",
       "  'mystery-abbey'),\n",
       " ('https://cf.geekdo-images.com/ofg7U7VKaAWeiBN3fOBRJA__imagepage/img/rZSkZrsQVeDVDKxlagnv6Fw3Ct8=/fit-in/900x600/filters:no_upscale():strip_icc()/pic2669803.jpg',\n",
       "  'bubble-guppies-fin-tastic-field-trip-game'),\n",
       " ('https://cf.geekdo-images.com/vJu8vrO5e5QzfGNlo0Y6Lg__imagepage/img/g-con0lszeUryJ3RvSthGYYWUhM=/fit-in/900x600/filters:no_upscale():strip_icc()/pic2669804.jpg',\n",
       "  'bkindt'),\n",
       " ('https://cf.geekdo-images.com/75liFy-l1VhNuZp7GX-Diw__imagepage/img/hotfQ2sm9eNdOj2MJXqN1ADjJr0=/fit-in/900x600/filters:no_upscale():strip_icc()/pic2669805.jpg',\n",
       "  'dash-peiper')]"
      ]
     },
     "execution_count": 26,
     "metadata": {},
     "output_type": "execute_result"
    }
   ],
   "source": [
    "l1"
   ]
  },
  {
   "cell_type": "code",
   "execution_count": 31,
   "id": "e55db706-39a7-412a-94b4-8dd483770687",
   "metadata": {},
   "outputs": [],
   "source": [
    "#l2 = get_links(2669806,2670806)"
   ]
  },
  {
   "cell_type": "code",
   "execution_count": 29,
   "id": "0837e420-d346-41bb-93e2-be18184cfe78",
   "metadata": {},
   "outputs": [],
   "source": [
    "l2 = get_links(2669806,2669906)"
   ]
  },
  {
   "cell_type": "code",
   "execution_count": 30,
   "id": "1013bf97-c8db-4939-820d-7b793420ebaa",
   "metadata": {},
   "outputs": [
    {
     "data": {
      "text/plain": [
       "[('https://cf.geekdo-images.com/YCweY_9JFsQRKXdk29ngRQ__imagepage/img/5DoGDinpQ-L_1ig2EzTsjrhlNB8=/fit-in/900x600/filters:no_upscale():strip_icc()/pic2669806.jpg',\n",
       "  'jrtracy'),\n",
       " ('https://cf.geekdo-images.com/G5jo2pjgd0nEp87P8XSabw__imagepage/img/HdarJ6bTxwGgQXeWFHF7qmR3B7Y=/fit-in/900x600/filters:no_upscale():strip_icc()/pic2669807.jpg',\n",
       "  'advanced-bernard-jean-deuxieme-edition'),\n",
       " ('https://cf.geekdo-images.com/CCuAdnh3YNAppn1It5kVIQ__imagepage/img/2BJeY96lIwqiGfw1MF7o4MsFpH4=/fit-in/900x600/filters:no_upscale():strip_icc()/pic2669808.png',\n",
       "  '2tomatoes-games'),\n",
       " ('https://cf.geekdo-images.com/EkgxFg18utzTEik5QOrNkg__imagepage/img/raZYRidljUCKiqcpWTS9mWgQbYg=/fit-in/900x600/filters:no_upscale():strip_icc()/pic2669809.png',\n",
       "  'yellow-tome-beyond-mists'),\n",
       " ('https://cf.geekdo-images.com/DNGILi56eeCzJcflHKjKag__imagepage/img/iT_H5bt2raRHVhRN1KOAgaWLYNw=/fit-in/900x600/filters:no_upscale():strip_icc()/pic2669810.png',\n",
       "  'blur-hand-quicker-die'),\n",
       " ('https://cf.geekdo-images.com/p4tVv57hqDlOUoc6JxZpgQ__imagepage/img/ez3SgWHVcDiQgVabvTMYIuGhQGQ=/fit-in/900x600/filters:no_upscale():strip_icc()/pic2669811.jpg',\n",
       "  'blackjack-river'),\n",
       " ('invalid',\n",
       "  'None\\nNone\\n<!DOCTYPE html>\\n\\n<html lang=\"en-US\">\\n<head>\\n<meta charset=\"utf-8\"/>\\n<title>404 - Page Not Found</title>\\n<meta content=\"width=device-width, initial-scale=1\" name=\"viewport\"/>\\n<style>\\n      @import url(\"https://use.typekit.net/ddz3tbb.css\");\\n\\n      * {\\n        box-sizing: border-box;\\n      }\\n\\n      html,\\n      body {\\n        margin: 0;\\n        width: 100%;\\n        height: 100%;\\n        font-family: proxima-nova, Arial, sans-serif;\\n        line-height: 1.5;\\n        background-color: #3f3a60;\\n      }\\n\\n      body {\\n        display: flex; /* fallback */\\n        display: grid;\\n        flex-direction: column;\\n        align-items: center;\\n        justify-content: center;\\n      }\\n\\n      .container {\\n        padding: 15px;\\n        text-align: center;\\n      }\\n\\n      svg {\\n        width: 85%;\\n        max-width: 430px;\\n        height: auto;\\n      }\\n\\n      @media (min-width: 600px) {\\n        svg {\\n          width: 100%;\\n        }\\n      }\\n\\n      h1 {\\n        margin: 6% 0 2% 0;\\n        font-size: 1.25em;\\n        line-height: 1.2;\\n        color: #fff;\\n      }\\n\\n      @media (min-width: 600px) {\\n        h1 {\\n          font-size: 1.75em;\\n        }\\n      }\\n\\n      p {\\n        margin: 0 0 5% 0;\\n        color: rgba(255, 255, 255, 0.6);\\n      }\\n\\n      .btn {\\n        display: inline-block;\\n        padding: 12px 18px;\\n        font-size: 1em;\\n        font-weight: 600;\\n        line-height: 1;\\n        color: #fff;\\n        background-color: #da2b6f;\\n        text-decoration: none;\\n        box-shadow: 2px 2px 0 2px #59122d;\\n        transition: background-color 0.2s ease-in-out;\\n      }\\n\\n      .btn:hover,\\n      .btn:focus {\\n        background-color: #b3235b;\\n      }\\n    </style>\\n</head>\\n<body>\\n<main class=\"container\">\\n<a href=\"/\">\\n<svg aria-labelledby=\"title-404\" viewbox=\"0 0 432 170\" xmlns=\"http://www.w3.org/2000/svg\">\\n<title id=\"title-404\">Error 404</title>\\n<g fill=\"none\" fill-rule=\"nonzero\">\\n<path d=\"M346.443 95.687h-9.729l33.424-53.785v15.655l-23.695 38.13zm67.737 66.177h-38.042l-7.995-4.004v-22.888h-62.151L298 130.96V98.94l56.51-92.1h55.664l4.006 7.997v78.866h13.777l4.035 7.984v33.285H414.18v26.892zm-6-6v-26.892h17.812V95.687H408.18V8.837h-52.555l-55.633 90.597v29.538h70.146v26.892h38.042z\" fill=\"#59122D\"></path>\\n<path d=\"M408.18 155.864h-38.042v-26.892h-70.146V99.434l55.633-90.597h52.555v86.85h17.812v33.285H408.18v26.892zm-38.042-60.177V41.902l-33.424 53.785h33.424z\" fill=\"#DA2B6F\" stroke=\"#8C1C47\" stroke-width=\"4\"></path>\\n<path d=\"M253.39 35.799l3.478 1.633-.715 1.546-4.824 1.325 2.06-4.504zm8.672-9.743l-3.592 7.838-3.498-1.59 3.591-7.837 3.499 1.589zm5.187-11.322l-3.591 7.838-3.499-1.59 3.592-7.837 3.498 1.59zm-7.056-9.648L274 0l-5.658 12.269-3.447-1.53 1.77-3.954-5.137 1.893-1.335-3.592zm-11.72 4.318l8.114-2.989 1.334 3.591-8.114 2.99-1.334-3.592zm-11.721 4.318l8.114-2.989 1.335 3.591-8.115 2.99-1.334-3.592zm-11.72 4.318l8.114-2.989 1.334 3.591-8.114 2.99-1.335-3.592zm-11.721 4.318l8.114-2.989 1.334 3.591-8.114 2.99-1.334-3.592zm-11.721 4.318l8.114-2.989 1.335 3.591-8.115 2.99-1.334-3.592zm-11.72 4.318l8.114-2.989 1.334 3.591-8.114 2.99-1.335-3.592zm-11.721 4.318l8.114-2.989 1.334 3.591-8.114 2.99-1.334-3.592zm-11.72 4.318l8.113-2.989 1.335 3.591-8.115 2.99-1.334-3.592zm-1.514 16.071l-1.06-8.55 3.817-.47 1.059 8.551-3.816.469zm1.53 12.351l-1.06-8.55 3.817-.47 1.059 8.551-3.817.469zm1.53 12.35l-1.06-8.55 3.816-.468 1.06 8.55-3.817.469zm-1.597 7.635l3.645-3.518 2.676 2.75-3.816.469-.438-3.535 3.816-.468.438 3.534-3.645 3.518-2.676-2.75zm-4.66 13.938l-1.769-4.436-.949-2.38 1.847-1.783 2.77-2.674 2.676 2.75-2.77 2.673 1.77 4.437-3.574 1.413zm4.614 11.566l-3.194-8.007 3.574-1.413 3.193 8.007-3.573 1.413zm4.612 11.566l-3.193-8.007 3.574-1.414 3.193 8.008-3.574 1.413zm4.613 11.566l-3.193-8.007 3.573-1.414 3.194 8.007-3.574 1.414zm4.613 11.565l-3.193-8.007 3.573-1.413 3.194 8.007-3.574 1.413zm4.613 11.566l-3.194-8.007 3.574-1.413 3.194 8.007-3.574 1.413zm12.73 6.57l-5.29 1.952-3.523 1.299-1.387-3.477-1.11-2.785 3.573-1.413 1.11 2.785 5.292-1.951 1.335 3.59zm11.72-4.321l-8.114 2.992-1.335-3.591 8.113-2.992 1.335 3.59zm11.718-4.323l-8.113 2.993-1.335-3.591 8.113-2.992 1.335 3.59zm11.72-4.322l-8.114 2.993-1.335-3.591 8.113-2.992 1.336 3.59zm11.719-4.322l-8.114 2.993-1.335-3.591 8.113-2.992 1.336 3.59zm10.581-9.904l-2.382 5.597-.647 1.522-1.558.575-2.388.88-1.336-3.59 2.389-.881 2.382-5.597 3.54 1.494zm4.876-11.458l-3.375 7.932-3.54-1.494 3.375-7.932 3.54 1.494zm4.876-11.458l-3.375 7.932-3.54-1.494 3.375-7.933 3.54 1.495zm4.876-11.459l-3.375 7.933-3.54-1.494 3.375-7.933 3.54 1.494zm-.725-14.745l3.07 2.962 1.892 1.827-1.028 2.417-1.708 4.014-3.54-1.494 1.707-4.014-3.069-2.962 2.676-2.75zm-3.894-6.822l-.576 4.63-1.14-3.221 2.848 2.749-2.676 2.75-2.849-2.75.577-4.63 3.816.472zm1.537-12.35l-1.064 8.55-3.816-.471 1.064-8.55 3.816.471zm1.538-12.35l-1.065 8.55-3.816-.471 1.065-8.55 3.816.471zm1.537-12.35l-1.064 8.55-3.816-.471 1.064-8.55 3.816.471zm-9.873-12.157l5.115-1.428 1.086 3.694-5.185 1.427-1.016-3.693zm6.53 7.886l.741-5.935 3.815.462-.74 5.944-3.816-.471z\" fill=\"#C0C5C8\"></path>\\n<g>\\n<path d=\"M49.443 95.687h-9.729l33.424-53.785v15.655l-23.695 38.13zm67.737 66.177H79.138l-7.995-4.004v-22.888H8.992L1 130.96V98.94l56.51-92.1h55.664l4.006 7.997v78.866h13.777l4.035 7.984v33.285H117.18v26.892zm-6-6v-26.892h17.812V95.687H111.18V8.837H58.625L2.992 99.434v29.538h70.146v26.892h38.042z\" fill=\"#59122D\"></path>\\n<path d=\"M111.18 155.864H73.138v-26.892H2.992V99.434L58.625 8.837h52.555v86.85h17.812v33.285H111.18v26.892zM73.138 95.687V41.902L39.714 95.687h33.424z\" fill=\"#DA2B6F\" stroke=\"#8C1C47\" stroke-width=\"4\"></path>\\n</g>\\n</g>\\n</svg>\\n</a>\\n<h1>It appears we\\'re missing some bits…</h1>\\n<p>Sorry, the page you\\'re looking for is missing or does not exist.</p>\\n<p><a class=\"btn\" href=\"/\">Take Me Home</a></p>\\n</main>\\n</body>\\n</html>\\n'),\n",
       " ('invalid',\n",
       "  'None\\nNone\\n<!DOCTYPE html>\\n\\n<html lang=\"en-US\">\\n<head>\\n<meta charset=\"utf-8\"/>\\n<title>404 - Page Not Found</title>\\n<meta content=\"width=device-width, initial-scale=1\" name=\"viewport\"/>\\n<style>\\n      @import url(\"https://use.typekit.net/ddz3tbb.css\");\\n\\n      * {\\n        box-sizing: border-box;\\n      }\\n\\n      html,\\n      body {\\n        margin: 0;\\n        width: 100%;\\n        height: 100%;\\n        font-family: proxima-nova, Arial, sans-serif;\\n        line-height: 1.5;\\n        background-color: #3f3a60;\\n      }\\n\\n      body {\\n        display: flex; /* fallback */\\n        display: grid;\\n        flex-direction: column;\\n        align-items: center;\\n        justify-content: center;\\n      }\\n\\n      .container {\\n        padding: 15px;\\n        text-align: center;\\n      }\\n\\n      svg {\\n        width: 85%;\\n        max-width: 430px;\\n        height: auto;\\n      }\\n\\n      @media (min-width: 600px) {\\n        svg {\\n          width: 100%;\\n        }\\n      }\\n\\n      h1 {\\n        margin: 6% 0 2% 0;\\n        font-size: 1.25em;\\n        line-height: 1.2;\\n        color: #fff;\\n      }\\n\\n      @media (min-width: 600px) {\\n        h1 {\\n          font-size: 1.75em;\\n        }\\n      }\\n\\n      p {\\n        margin: 0 0 5% 0;\\n        color: rgba(255, 255, 255, 0.6);\\n      }\\n\\n      .btn {\\n        display: inline-block;\\n        padding: 12px 18px;\\n        font-size: 1em;\\n        font-weight: 600;\\n        line-height: 1;\\n        color: #fff;\\n        background-color: #da2b6f;\\n        text-decoration: none;\\n        box-shadow: 2px 2px 0 2px #59122d;\\n        transition: background-color 0.2s ease-in-out;\\n      }\\n\\n      .btn:hover,\\n      .btn:focus {\\n        background-color: #b3235b;\\n      }\\n    </style>\\n</head>\\n<body>\\n<main class=\"container\">\\n<a href=\"/\">\\n<svg aria-labelledby=\"title-404\" viewbox=\"0 0 432 170\" xmlns=\"http://www.w3.org/2000/svg\">\\n<title id=\"title-404\">Error 404</title>\\n<g fill=\"none\" fill-rule=\"nonzero\">\\n<path d=\"M346.443 95.687h-9.729l33.424-53.785v15.655l-23.695 38.13zm67.737 66.177h-38.042l-7.995-4.004v-22.888h-62.151L298 130.96V98.94l56.51-92.1h55.664l4.006 7.997v78.866h13.777l4.035 7.984v33.285H414.18v26.892zm-6-6v-26.892h17.812V95.687H408.18V8.837h-52.555l-55.633 90.597v29.538h70.146v26.892h38.042z\" fill=\"#59122D\"></path>\\n<path d=\"M408.18 155.864h-38.042v-26.892h-70.146V99.434l55.633-90.597h52.555v86.85h17.812v33.285H408.18v26.892zm-38.042-60.177V41.902l-33.424 53.785h33.424z\" fill=\"#DA2B6F\" stroke=\"#8C1C47\" stroke-width=\"4\"></path>\\n<path d=\"M253.39 35.799l3.478 1.633-.715 1.546-4.824 1.325 2.06-4.504zm8.672-9.743l-3.592 7.838-3.498-1.59 3.591-7.837 3.499 1.589zm5.187-11.322l-3.591 7.838-3.499-1.59 3.592-7.837 3.498 1.59zm-7.056-9.648L274 0l-5.658 12.269-3.447-1.53 1.77-3.954-5.137 1.893-1.335-3.592zm-11.72 4.318l8.114-2.989 1.334 3.591-8.114 2.99-1.334-3.592zm-11.721 4.318l8.114-2.989 1.335 3.591-8.115 2.99-1.334-3.592zm-11.72 4.318l8.114-2.989 1.334 3.591-8.114 2.99-1.335-3.592zm-11.721 4.318l8.114-2.989 1.334 3.591-8.114 2.99-1.334-3.592zm-11.721 4.318l8.114-2.989 1.335 3.591-8.115 2.99-1.334-3.592zm-11.72 4.318l8.114-2.989 1.334 3.591-8.114 2.99-1.335-3.592zm-11.721 4.318l8.114-2.989 1.334 3.591-8.114 2.99-1.334-3.592zm-11.72 4.318l8.113-2.989 1.335 3.591-8.115 2.99-1.334-3.592zm-1.514 16.071l-1.06-8.55 3.817-.47 1.059 8.551-3.816.469zm1.53 12.351l-1.06-8.55 3.817-.47 1.059 8.551-3.817.469zm1.53 12.35l-1.06-8.55 3.816-.468 1.06 8.55-3.817.469zm-1.597 7.635l3.645-3.518 2.676 2.75-3.816.469-.438-3.535 3.816-.468.438 3.534-3.645 3.518-2.676-2.75zm-4.66 13.938l-1.769-4.436-.949-2.38 1.847-1.783 2.77-2.674 2.676 2.75-2.77 2.673 1.77 4.437-3.574 1.413zm4.614 11.566l-3.194-8.007 3.574-1.413 3.193 8.007-3.573 1.413zm4.612 11.566l-3.193-8.007 3.574-1.414 3.193 8.008-3.574 1.413zm4.613 11.566l-3.193-8.007 3.573-1.414 3.194 8.007-3.574 1.414zm4.613 11.565l-3.193-8.007 3.573-1.413 3.194 8.007-3.574 1.413zm4.613 11.566l-3.194-8.007 3.574-1.413 3.194 8.007-3.574 1.413zm12.73 6.57l-5.29 1.952-3.523 1.299-1.387-3.477-1.11-2.785 3.573-1.413 1.11 2.785 5.292-1.951 1.335 3.59zm11.72-4.321l-8.114 2.992-1.335-3.591 8.113-2.992 1.335 3.59zm11.718-4.323l-8.113 2.993-1.335-3.591 8.113-2.992 1.335 3.59zm11.72-4.322l-8.114 2.993-1.335-3.591 8.113-2.992 1.336 3.59zm11.719-4.322l-8.114 2.993-1.335-3.591 8.113-2.992 1.336 3.59zm10.581-9.904l-2.382 5.597-.647 1.522-1.558.575-2.388.88-1.336-3.59 2.389-.881 2.382-5.597 3.54 1.494zm4.876-11.458l-3.375 7.932-3.54-1.494 3.375-7.932 3.54 1.494zm4.876-11.458l-3.375 7.932-3.54-1.494 3.375-7.933 3.54 1.495zm4.876-11.459l-3.375 7.933-3.54-1.494 3.375-7.933 3.54 1.494zm-.725-14.745l3.07 2.962 1.892 1.827-1.028 2.417-1.708 4.014-3.54-1.494 1.707-4.014-3.069-2.962 2.676-2.75zm-3.894-6.822l-.576 4.63-1.14-3.221 2.848 2.749-2.676 2.75-2.849-2.75.577-4.63 3.816.472zm1.537-12.35l-1.064 8.55-3.816-.471 1.064-8.55 3.816.471zm1.538-12.35l-1.065 8.55-3.816-.471 1.065-8.55 3.816.471zm1.537-12.35l-1.064 8.55-3.816-.471 1.064-8.55 3.816.471zm-9.873-12.157l5.115-1.428 1.086 3.694-5.185 1.427-1.016-3.693zm6.53 7.886l.741-5.935 3.815.462-.74 5.944-3.816-.471z\" fill=\"#C0C5C8\"></path>\\n<g>\\n<path d=\"M49.443 95.687h-9.729l33.424-53.785v15.655l-23.695 38.13zm67.737 66.177H79.138l-7.995-4.004v-22.888H8.992L1 130.96V98.94l56.51-92.1h55.664l4.006 7.997v78.866h13.777l4.035 7.984v33.285H117.18v26.892zm-6-6v-26.892h17.812V95.687H111.18V8.837H58.625L2.992 99.434v29.538h70.146v26.892h38.042z\" fill=\"#59122D\"></path>\\n<path d=\"M111.18 155.864H73.138v-26.892H2.992V99.434L58.625 8.837h52.555v86.85h17.812v33.285H111.18v26.892zM73.138 95.687V41.902L39.714 95.687h33.424z\" fill=\"#DA2B6F\" stroke=\"#8C1C47\" stroke-width=\"4\"></path>\\n</g>\\n</g>\\n</svg>\\n</a>\\n<h1>It appears we\\'re missing some bits…</h1>\\n<p>Sorry, the page you\\'re looking for is missing or does not exist.</p>\\n<p><a class=\"btn\" href=\"/\">Take Me Home</a></p>\\n</main>\\n</body>\\n</html>\\n'),\n",
       " ('invalid',\n",
       "  'None\\nNone\\n<!DOCTYPE html>\\n\\n<html lang=\"en-US\">\\n<head>\\n<meta charset=\"utf-8\"/>\\n<title>404 - Page Not Found</title>\\n<meta content=\"width=device-width, initial-scale=1\" name=\"viewport\"/>\\n<style>\\n      @import url(\"https://use.typekit.net/ddz3tbb.css\");\\n\\n      * {\\n        box-sizing: border-box;\\n      }\\n\\n      html,\\n      body {\\n        margin: 0;\\n        width: 100%;\\n        height: 100%;\\n        font-family: proxima-nova, Arial, sans-serif;\\n        line-height: 1.5;\\n        background-color: #3f3a60;\\n      }\\n\\n      body {\\n        display: flex; /* fallback */\\n        display: grid;\\n        flex-direction: column;\\n        align-items: center;\\n        justify-content: center;\\n      }\\n\\n      .container {\\n        padding: 15px;\\n        text-align: center;\\n      }\\n\\n      svg {\\n        width: 85%;\\n        max-width: 430px;\\n        height: auto;\\n      }\\n\\n      @media (min-width: 600px) {\\n        svg {\\n          width: 100%;\\n        }\\n      }\\n\\n      h1 {\\n        margin: 6% 0 2% 0;\\n        font-size: 1.25em;\\n        line-height: 1.2;\\n        color: #fff;\\n      }\\n\\n      @media (min-width: 600px) {\\n        h1 {\\n          font-size: 1.75em;\\n        }\\n      }\\n\\n      p {\\n        margin: 0 0 5% 0;\\n        color: rgba(255, 255, 255, 0.6);\\n      }\\n\\n      .btn {\\n        display: inline-block;\\n        padding: 12px 18px;\\n        font-size: 1em;\\n        font-weight: 600;\\n        line-height: 1;\\n        color: #fff;\\n        background-color: #da2b6f;\\n        text-decoration: none;\\n        box-shadow: 2px 2px 0 2px #59122d;\\n        transition: background-color 0.2s ease-in-out;\\n      }\\n\\n      .btn:hover,\\n      .btn:focus {\\n        background-color: #b3235b;\\n      }\\n    </style>\\n</head>\\n<body>\\n<main class=\"container\">\\n<a href=\"/\">\\n<svg aria-labelledby=\"title-404\" viewbox=\"0 0 432 170\" xmlns=\"http://www.w3.org/2000/svg\">\\n<title id=\"title-404\">Error 404</title>\\n<g fill=\"none\" fill-rule=\"nonzero\">\\n<path d=\"M346.443 95.687h-9.729l33.424-53.785v15.655l-23.695 38.13zm67.737 66.177h-38.042l-7.995-4.004v-22.888h-62.151L298 130.96V98.94l56.51-92.1h55.664l4.006 7.997v78.866h13.777l4.035 7.984v33.285H414.18v26.892zm-6-6v-26.892h17.812V95.687H408.18V8.837h-52.555l-55.633 90.597v29.538h70.146v26.892h38.042z\" fill=\"#59122D\"></path>\\n<path d=\"M408.18 155.864h-38.042v-26.892h-70.146V99.434l55.633-90.597h52.555v86.85h17.812v33.285H408.18v26.892zm-38.042-60.177V41.902l-33.424 53.785h33.424z\" fill=\"#DA2B6F\" stroke=\"#8C1C47\" stroke-width=\"4\"></path>\\n<path d=\"M253.39 35.799l3.478 1.633-.715 1.546-4.824 1.325 2.06-4.504zm8.672-9.743l-3.592 7.838-3.498-1.59 3.591-7.837 3.499 1.589zm5.187-11.322l-3.591 7.838-3.499-1.59 3.592-7.837 3.498 1.59zm-7.056-9.648L274 0l-5.658 12.269-3.447-1.53 1.77-3.954-5.137 1.893-1.335-3.592zm-11.72 4.318l8.114-2.989 1.334 3.591-8.114 2.99-1.334-3.592zm-11.721 4.318l8.114-2.989 1.335 3.591-8.115 2.99-1.334-3.592zm-11.72 4.318l8.114-2.989 1.334 3.591-8.114 2.99-1.335-3.592zm-11.721 4.318l8.114-2.989 1.334 3.591-8.114 2.99-1.334-3.592zm-11.721 4.318l8.114-2.989 1.335 3.591-8.115 2.99-1.334-3.592zm-11.72 4.318l8.114-2.989 1.334 3.591-8.114 2.99-1.335-3.592zm-11.721 4.318l8.114-2.989 1.334 3.591-8.114 2.99-1.334-3.592zm-11.72 4.318l8.113-2.989 1.335 3.591-8.115 2.99-1.334-3.592zm-1.514 16.071l-1.06-8.55 3.817-.47 1.059 8.551-3.816.469zm1.53 12.351l-1.06-8.55 3.817-.47 1.059 8.551-3.817.469zm1.53 12.35l-1.06-8.55 3.816-.468 1.06 8.55-3.817.469zm-1.597 7.635l3.645-3.518 2.676 2.75-3.816.469-.438-3.535 3.816-.468.438 3.534-3.645 3.518-2.676-2.75zm-4.66 13.938l-1.769-4.436-.949-2.38 1.847-1.783 2.77-2.674 2.676 2.75-2.77 2.673 1.77 4.437-3.574 1.413zm4.614 11.566l-3.194-8.007 3.574-1.413 3.193 8.007-3.573 1.413zm4.612 11.566l-3.193-8.007 3.574-1.414 3.193 8.008-3.574 1.413zm4.613 11.566l-3.193-8.007 3.573-1.414 3.194 8.007-3.574 1.414zm4.613 11.565l-3.193-8.007 3.573-1.413 3.194 8.007-3.574 1.413zm4.613 11.566l-3.194-8.007 3.574-1.413 3.194 8.007-3.574 1.413zm12.73 6.57l-5.29 1.952-3.523 1.299-1.387-3.477-1.11-2.785 3.573-1.413 1.11 2.785 5.292-1.951 1.335 3.59zm11.72-4.321l-8.114 2.992-1.335-3.591 8.113-2.992 1.335 3.59zm11.718-4.323l-8.113 2.993-1.335-3.591 8.113-2.992 1.335 3.59zm11.72-4.322l-8.114 2.993-1.335-3.591 8.113-2.992 1.336 3.59zm11.719-4.322l-8.114 2.993-1.335-3.591 8.113-2.992 1.336 3.59zm10.581-9.904l-2.382 5.597-.647 1.522-1.558.575-2.388.88-1.336-3.59 2.389-.881 2.382-5.597 3.54 1.494zm4.876-11.458l-3.375 7.932-3.54-1.494 3.375-7.932 3.54 1.494zm4.876-11.458l-3.375 7.932-3.54-1.494 3.375-7.933 3.54 1.495zm4.876-11.459l-3.375 7.933-3.54-1.494 3.375-7.933 3.54 1.494zm-.725-14.745l3.07 2.962 1.892 1.827-1.028 2.417-1.708 4.014-3.54-1.494 1.707-4.014-3.069-2.962 2.676-2.75zm-3.894-6.822l-.576 4.63-1.14-3.221 2.848 2.749-2.676 2.75-2.849-2.75.577-4.63 3.816.472zm1.537-12.35l-1.064 8.55-3.816-.471 1.064-8.55 3.816.471zm1.538-12.35l-1.065 8.55-3.816-.471 1.065-8.55 3.816.471zm1.537-12.35l-1.064 8.55-3.816-.471 1.064-8.55 3.816.471zm-9.873-12.157l5.115-1.428 1.086 3.694-5.185 1.427-1.016-3.693zm6.53 7.886l.741-5.935 3.815.462-.74 5.944-3.816-.471z\" fill=\"#C0C5C8\"></path>\\n<g>\\n<path d=\"M49.443 95.687h-9.729l33.424-53.785v15.655l-23.695 38.13zm67.737 66.177H79.138l-7.995-4.004v-22.888H8.992L1 130.96V98.94l56.51-92.1h55.664l4.006 7.997v78.866h13.777l4.035 7.984v33.285H117.18v26.892zm-6-6v-26.892h17.812V95.687H111.18V8.837H58.625L2.992 99.434v29.538h70.146v26.892h38.042z\" fill=\"#59122D\"></path>\\n<path d=\"M111.18 155.864H73.138v-26.892H2.992V99.434L58.625 8.837h52.555v86.85h17.812v33.285H111.18v26.892zM73.138 95.687V41.902L39.714 95.687h33.424z\" fill=\"#DA2B6F\" stroke=\"#8C1C47\" stroke-width=\"4\"></path>\\n</g>\\n</g>\\n</svg>\\n</a>\\n<h1>It appears we\\'re missing some bits…</h1>\\n<p>Sorry, the page you\\'re looking for is missing or does not exist.</p>\\n<p><a class=\"btn\" href=\"/\">Take Me Home</a></p>\\n</main>\\n</body>\\n</html>\\n'),\n",
       " ('invalid',\n",
       "  'None\\nNone\\n<!DOCTYPE html>\\n\\n<html lang=\"en-US\">\\n<head>\\n<meta charset=\"utf-8\"/>\\n<title>404 - Page Not Found</title>\\n<meta content=\"width=device-width, initial-scale=1\" name=\"viewport\"/>\\n<style>\\n      @import url(\"https://use.typekit.net/ddz3tbb.css\");\\n\\n      * {\\n        box-sizing: border-box;\\n      }\\n\\n      html,\\n      body {\\n        margin: 0;\\n        width: 100%;\\n        height: 100%;\\n        font-family: proxima-nova, Arial, sans-serif;\\n        line-height: 1.5;\\n        background-color: #3f3a60;\\n      }\\n\\n      body {\\n        display: flex; /* fallback */\\n        display: grid;\\n        flex-direction: column;\\n        align-items: center;\\n        justify-content: center;\\n      }\\n\\n      .container {\\n        padding: 15px;\\n        text-align: center;\\n      }\\n\\n      svg {\\n        width: 85%;\\n        max-width: 430px;\\n        height: auto;\\n      }\\n\\n      @media (min-width: 600px) {\\n        svg {\\n          width: 100%;\\n        }\\n      }\\n\\n      h1 {\\n        margin: 6% 0 2% 0;\\n        font-size: 1.25em;\\n        line-height: 1.2;\\n        color: #fff;\\n      }\\n\\n      @media (min-width: 600px) {\\n        h1 {\\n          font-size: 1.75em;\\n        }\\n      }\\n\\n      p {\\n        margin: 0 0 5% 0;\\n        color: rgba(255, 255, 255, 0.6);\\n      }\\n\\n      .btn {\\n        display: inline-block;\\n        padding: 12px 18px;\\n        font-size: 1em;\\n        font-weight: 600;\\n        line-height: 1;\\n        color: #fff;\\n        background-color: #da2b6f;\\n        text-decoration: none;\\n        box-shadow: 2px 2px 0 2px #59122d;\\n        transition: background-color 0.2s ease-in-out;\\n      }\\n\\n      .btn:hover,\\n      .btn:focus {\\n        background-color: #b3235b;\\n      }\\n    </style>\\n</head>\\n<body>\\n<main class=\"container\">\\n<a href=\"/\">\\n<svg aria-labelledby=\"title-404\" viewbox=\"0 0 432 170\" xmlns=\"http://www.w3.org/2000/svg\">\\n<title id=\"title-404\">Error 404</title>\\n<g fill=\"none\" fill-rule=\"nonzero\">\\n<path d=\"M346.443 95.687h-9.729l33.424-53.785v15.655l-23.695 38.13zm67.737 66.177h-38.042l-7.995-4.004v-22.888h-62.151L298 130.96V98.94l56.51-92.1h55.664l4.006 7.997v78.866h13.777l4.035 7.984v33.285H414.18v26.892zm-6-6v-26.892h17.812V95.687H408.18V8.837h-52.555l-55.633 90.597v29.538h70.146v26.892h38.042z\" fill=\"#59122D\"></path>\\n<path d=\"M408.18 155.864h-38.042v-26.892h-70.146V99.434l55.633-90.597h52.555v86.85h17.812v33.285H408.18v26.892zm-38.042-60.177V41.902l-33.424 53.785h33.424z\" fill=\"#DA2B6F\" stroke=\"#8C1C47\" stroke-width=\"4\"></path>\\n<path d=\"M253.39 35.799l3.478 1.633-.715 1.546-4.824 1.325 2.06-4.504zm8.672-9.743l-3.592 7.838-3.498-1.59 3.591-7.837 3.499 1.589zm5.187-11.322l-3.591 7.838-3.499-1.59 3.592-7.837 3.498 1.59zm-7.056-9.648L274 0l-5.658 12.269-3.447-1.53 1.77-3.954-5.137 1.893-1.335-3.592zm-11.72 4.318l8.114-2.989 1.334 3.591-8.114 2.99-1.334-3.592zm-11.721 4.318l8.114-2.989 1.335 3.591-8.115 2.99-1.334-3.592zm-11.72 4.318l8.114-2.989 1.334 3.591-8.114 2.99-1.335-3.592zm-11.721 4.318l8.114-2.989 1.334 3.591-8.114 2.99-1.334-3.592zm-11.721 4.318l8.114-2.989 1.335 3.591-8.115 2.99-1.334-3.592zm-11.72 4.318l8.114-2.989 1.334 3.591-8.114 2.99-1.335-3.592zm-11.721 4.318l8.114-2.989 1.334 3.591-8.114 2.99-1.334-3.592zm-11.72 4.318l8.113-2.989 1.335 3.591-8.115 2.99-1.334-3.592zm-1.514 16.071l-1.06-8.55 3.817-.47 1.059 8.551-3.816.469zm1.53 12.351l-1.06-8.55 3.817-.47 1.059 8.551-3.817.469zm1.53 12.35l-1.06-8.55 3.816-.468 1.06 8.55-3.817.469zm-1.597 7.635l3.645-3.518 2.676 2.75-3.816.469-.438-3.535 3.816-.468.438 3.534-3.645 3.518-2.676-2.75zm-4.66 13.938l-1.769-4.436-.949-2.38 1.847-1.783 2.77-2.674 2.676 2.75-2.77 2.673 1.77 4.437-3.574 1.413zm4.614 11.566l-3.194-8.007 3.574-1.413 3.193 8.007-3.573 1.413zm4.612 11.566l-3.193-8.007 3.574-1.414 3.193 8.008-3.574 1.413zm4.613 11.566l-3.193-8.007 3.573-1.414 3.194 8.007-3.574 1.414zm4.613 11.565l-3.193-8.007 3.573-1.413 3.194 8.007-3.574 1.413zm4.613 11.566l-3.194-8.007 3.574-1.413 3.194 8.007-3.574 1.413zm12.73 6.57l-5.29 1.952-3.523 1.299-1.387-3.477-1.11-2.785 3.573-1.413 1.11 2.785 5.292-1.951 1.335 3.59zm11.72-4.321l-8.114 2.992-1.335-3.591 8.113-2.992 1.335 3.59zm11.718-4.323l-8.113 2.993-1.335-3.591 8.113-2.992 1.335 3.59zm11.72-4.322l-8.114 2.993-1.335-3.591 8.113-2.992 1.336 3.59zm11.719-4.322l-8.114 2.993-1.335-3.591 8.113-2.992 1.336 3.59zm10.581-9.904l-2.382 5.597-.647 1.522-1.558.575-2.388.88-1.336-3.59 2.389-.881 2.382-5.597 3.54 1.494zm4.876-11.458l-3.375 7.932-3.54-1.494 3.375-7.932 3.54 1.494zm4.876-11.458l-3.375 7.932-3.54-1.494 3.375-7.933 3.54 1.495zm4.876-11.459l-3.375 7.933-3.54-1.494 3.375-7.933 3.54 1.494zm-.725-14.745l3.07 2.962 1.892 1.827-1.028 2.417-1.708 4.014-3.54-1.494 1.707-4.014-3.069-2.962 2.676-2.75zm-3.894-6.822l-.576 4.63-1.14-3.221 2.848 2.749-2.676 2.75-2.849-2.75.577-4.63 3.816.472zm1.537-12.35l-1.064 8.55-3.816-.471 1.064-8.55 3.816.471zm1.538-12.35l-1.065 8.55-3.816-.471 1.065-8.55 3.816.471zm1.537-12.35l-1.064 8.55-3.816-.471 1.064-8.55 3.816.471zm-9.873-12.157l5.115-1.428 1.086 3.694-5.185 1.427-1.016-3.693zm6.53 7.886l.741-5.935 3.815.462-.74 5.944-3.816-.471z\" fill=\"#C0C5C8\"></path>\\n<g>\\n<path d=\"M49.443 95.687h-9.729l33.424-53.785v15.655l-23.695 38.13zm67.737 66.177H79.138l-7.995-4.004v-22.888H8.992L1 130.96V98.94l56.51-92.1h55.664l4.006 7.997v78.866h13.777l4.035 7.984v33.285H117.18v26.892zm-6-6v-26.892h17.812V95.687H111.18V8.837H58.625L2.992 99.434v29.538h70.146v26.892h38.042z\" fill=\"#59122D\"></path>\\n<path d=\"M111.18 155.864H73.138v-26.892H2.992V99.434L58.625 8.837h52.555v86.85h17.812v33.285H111.18v26.892zM73.138 95.687V41.902L39.714 95.687h33.424z\" fill=\"#DA2B6F\" stroke=\"#8C1C47\" stroke-width=\"4\"></path>\\n</g>\\n</g>\\n</svg>\\n</a>\\n<h1>It appears we\\'re missing some bits…</h1>\\n<p>Sorry, the page you\\'re looking for is missing or does not exist.</p>\\n<p><a class=\"btn\" href=\"/\">Take Me Home</a></p>\\n</main>\\n</body>\\n</html>\\n'),\n",
       " ('invalid',\n",
       "  'None\\nNone\\n<!DOCTYPE html>\\n\\n<html lang=\"en-US\">\\n<head>\\n<meta charset=\"utf-8\"/>\\n<title>404 - Page Not Found</title>\\n<meta content=\"width=device-width, initial-scale=1\" name=\"viewport\"/>\\n<style>\\n      @import url(\"https://use.typekit.net/ddz3tbb.css\");\\n\\n      * {\\n        box-sizing: border-box;\\n      }\\n\\n      html,\\n      body {\\n        margin: 0;\\n        width: 100%;\\n        height: 100%;\\n        font-family: proxima-nova, Arial, sans-serif;\\n        line-height: 1.5;\\n        background-color: #3f3a60;\\n      }\\n\\n      body {\\n        display: flex; /* fallback */\\n        display: grid;\\n        flex-direction: column;\\n        align-items: center;\\n        justify-content: center;\\n      }\\n\\n      .container {\\n        padding: 15px;\\n        text-align: center;\\n      }\\n\\n      svg {\\n        width: 85%;\\n        max-width: 430px;\\n        height: auto;\\n      }\\n\\n      @media (min-width: 600px) {\\n        svg {\\n          width: 100%;\\n        }\\n      }\\n\\n      h1 {\\n        margin: 6% 0 2% 0;\\n        font-size: 1.25em;\\n        line-height: 1.2;\\n        color: #fff;\\n      }\\n\\n      @media (min-width: 600px) {\\n        h1 {\\n          font-size: 1.75em;\\n        }\\n      }\\n\\n      p {\\n        margin: 0 0 5% 0;\\n        color: rgba(255, 255, 255, 0.6);\\n      }\\n\\n      .btn {\\n        display: inline-block;\\n        padding: 12px 18px;\\n        font-size: 1em;\\n        font-weight: 600;\\n        line-height: 1;\\n        color: #fff;\\n        background-color: #da2b6f;\\n        text-decoration: none;\\n        box-shadow: 2px 2px 0 2px #59122d;\\n        transition: background-color 0.2s ease-in-out;\\n      }\\n\\n      .btn:hover,\\n      .btn:focus {\\n        background-color: #b3235b;\\n      }\\n    </style>\\n</head>\\n<body>\\n<main class=\"container\">\\n<a href=\"/\">\\n<svg aria-labelledby=\"title-404\" viewbox=\"0 0 432 170\" xmlns=\"http://www.w3.org/2000/svg\">\\n<title id=\"title-404\">Error 404</title>\\n<g fill=\"none\" fill-rule=\"nonzero\">\\n<path d=\"M346.443 95.687h-9.729l33.424-53.785v15.655l-23.695 38.13zm67.737 66.177h-38.042l-7.995-4.004v-22.888h-62.151L298 130.96V98.94l56.51-92.1h55.664l4.006 7.997v78.866h13.777l4.035 7.984v33.285H414.18v26.892zm-6-6v-26.892h17.812V95.687H408.18V8.837h-52.555l-55.633 90.597v29.538h70.146v26.892h38.042z\" fill=\"#59122D\"></path>\\n<path d=\"M408.18 155.864h-38.042v-26.892h-70.146V99.434l55.633-90.597h52.555v86.85h17.812v33.285H408.18v26.892zm-38.042-60.177V41.902l-33.424 53.785h33.424z\" fill=\"#DA2B6F\" stroke=\"#8C1C47\" stroke-width=\"4\"></path>\\n<path d=\"M253.39 35.799l3.478 1.633-.715 1.546-4.824 1.325 2.06-4.504zm8.672-9.743l-3.592 7.838-3.498-1.59 3.591-7.837 3.499 1.589zm5.187-11.322l-3.591 7.838-3.499-1.59 3.592-7.837 3.498 1.59zm-7.056-9.648L274 0l-5.658 12.269-3.447-1.53 1.77-3.954-5.137 1.893-1.335-3.592zm-11.72 4.318l8.114-2.989 1.334 3.591-8.114 2.99-1.334-3.592zm-11.721 4.318l8.114-2.989 1.335 3.591-8.115 2.99-1.334-3.592zm-11.72 4.318l8.114-2.989 1.334 3.591-8.114 2.99-1.335-3.592zm-11.721 4.318l8.114-2.989 1.334 3.591-8.114 2.99-1.334-3.592zm-11.721 4.318l8.114-2.989 1.335 3.591-8.115 2.99-1.334-3.592zm-11.72 4.318l8.114-2.989 1.334 3.591-8.114 2.99-1.335-3.592zm-11.721 4.318l8.114-2.989 1.334 3.591-8.114 2.99-1.334-3.592zm-11.72 4.318l8.113-2.989 1.335 3.591-8.115 2.99-1.334-3.592zm-1.514 16.071l-1.06-8.55 3.817-.47 1.059 8.551-3.816.469zm1.53 12.351l-1.06-8.55 3.817-.47 1.059 8.551-3.817.469zm1.53 12.35l-1.06-8.55 3.816-.468 1.06 8.55-3.817.469zm-1.597 7.635l3.645-3.518 2.676 2.75-3.816.469-.438-3.535 3.816-.468.438 3.534-3.645 3.518-2.676-2.75zm-4.66 13.938l-1.769-4.436-.949-2.38 1.847-1.783 2.77-2.674 2.676 2.75-2.77 2.673 1.77 4.437-3.574 1.413zm4.614 11.566l-3.194-8.007 3.574-1.413 3.193 8.007-3.573 1.413zm4.612 11.566l-3.193-8.007 3.574-1.414 3.193 8.008-3.574 1.413zm4.613 11.566l-3.193-8.007 3.573-1.414 3.194 8.007-3.574 1.414zm4.613 11.565l-3.193-8.007 3.573-1.413 3.194 8.007-3.574 1.413zm4.613 11.566l-3.194-8.007 3.574-1.413 3.194 8.007-3.574 1.413zm12.73 6.57l-5.29 1.952-3.523 1.299-1.387-3.477-1.11-2.785 3.573-1.413 1.11 2.785 5.292-1.951 1.335 3.59zm11.72-4.321l-8.114 2.992-1.335-3.591 8.113-2.992 1.335 3.59zm11.718-4.323l-8.113 2.993-1.335-3.591 8.113-2.992 1.335 3.59zm11.72-4.322l-8.114 2.993-1.335-3.591 8.113-2.992 1.336 3.59zm11.719-4.322l-8.114 2.993-1.335-3.591 8.113-2.992 1.336 3.59zm10.581-9.904l-2.382 5.597-.647 1.522-1.558.575-2.388.88-1.336-3.59 2.389-.881 2.382-5.597 3.54 1.494zm4.876-11.458l-3.375 7.932-3.54-1.494 3.375-7.932 3.54 1.494zm4.876-11.458l-3.375 7.932-3.54-1.494 3.375-7.933 3.54 1.495zm4.876-11.459l-3.375 7.933-3.54-1.494 3.375-7.933 3.54 1.494zm-.725-14.745l3.07 2.962 1.892 1.827-1.028 2.417-1.708 4.014-3.54-1.494 1.707-4.014-3.069-2.962 2.676-2.75zm-3.894-6.822l-.576 4.63-1.14-3.221 2.848 2.749-2.676 2.75-2.849-2.75.577-4.63 3.816.472zm1.537-12.35l-1.064 8.55-3.816-.471 1.064-8.55 3.816.471zm1.538-12.35l-1.065 8.55-3.816-.471 1.065-8.55 3.816.471zm1.537-12.35l-1.064 8.55-3.816-.471 1.064-8.55 3.816.471zm-9.873-12.157l5.115-1.428 1.086 3.694-5.185 1.427-1.016-3.693zm6.53 7.886l.741-5.935 3.815.462-.74 5.944-3.816-.471z\" fill=\"#C0C5C8\"></path>\\n<g>\\n<path d=\"M49.443 95.687h-9.729l33.424-53.785v15.655l-23.695 38.13zm67.737 66.177H79.138l-7.995-4.004v-22.888H8.992L1 130.96V98.94l56.51-92.1h55.664l4.006 7.997v78.866h13.777l4.035 7.984v33.285H117.18v26.892zm-6-6v-26.892h17.812V95.687H111.18V8.837H58.625L2.992 99.434v29.538h70.146v26.892h38.042z\" fill=\"#59122D\"></path>\\n<path d=\"M111.18 155.864H73.138v-26.892H2.992V99.434L58.625 8.837h52.555v86.85h17.812v33.285H111.18v26.892zM73.138 95.687V41.902L39.714 95.687h33.424z\" fill=\"#DA2B6F\" stroke=\"#8C1C47\" stroke-width=\"4\"></path>\\n</g>\\n</g>\\n</svg>\\n</a>\\n<h1>It appears we\\'re missing some bits…</h1>\\n<p>Sorry, the page you\\'re looking for is missing or does not exist.</p>\\n<p><a class=\"btn\" href=\"/\">Take Me Home</a></p>\\n</main>\\n</body>\\n</html>\\n'),\n",
       " ('invalid',\n",
       "  'None\\nNone\\n<!DOCTYPE html>\\n\\n<html lang=\"en-US\">\\n<head>\\n<meta charset=\"utf-8\"/>\\n<title>404 - Page Not Found</title>\\n<meta content=\"width=device-width, initial-scale=1\" name=\"viewport\"/>\\n<style>\\n      @import url(\"https://use.typekit.net/ddz3tbb.css\");\\n\\n      * {\\n        box-sizing: border-box;\\n      }\\n\\n      html,\\n      body {\\n        margin: 0;\\n        width: 100%;\\n        height: 100%;\\n        font-family: proxima-nova, Arial, sans-serif;\\n        line-height: 1.5;\\n        background-color: #3f3a60;\\n      }\\n\\n      body {\\n        display: flex; /* fallback */\\n        display: grid;\\n        flex-direction: column;\\n        align-items: center;\\n        justify-content: center;\\n      }\\n\\n      .container {\\n        padding: 15px;\\n        text-align: center;\\n      }\\n\\n      svg {\\n        width: 85%;\\n        max-width: 430px;\\n        height: auto;\\n      }\\n\\n      @media (min-width: 600px) {\\n        svg {\\n          width: 100%;\\n        }\\n      }\\n\\n      h1 {\\n        margin: 6% 0 2% 0;\\n        font-size: 1.25em;\\n        line-height: 1.2;\\n        color: #fff;\\n      }\\n\\n      @media (min-width: 600px) {\\n        h1 {\\n          font-size: 1.75em;\\n        }\\n      }\\n\\n      p {\\n        margin: 0 0 5% 0;\\n        color: rgba(255, 255, 255, 0.6);\\n      }\\n\\n      .btn {\\n        display: inline-block;\\n        padding: 12px 18px;\\n        font-size: 1em;\\n        font-weight: 600;\\n        line-height: 1;\\n        color: #fff;\\n        background-color: #da2b6f;\\n        text-decoration: none;\\n        box-shadow: 2px 2px 0 2px #59122d;\\n        transition: background-color 0.2s ease-in-out;\\n      }\\n\\n      .btn:hover,\\n      .btn:focus {\\n        background-color: #b3235b;\\n      }\\n    </style>\\n</head>\\n<body>\\n<main class=\"container\">\\n<a href=\"/\">\\n<svg aria-labelledby=\"title-404\" viewbox=\"0 0 432 170\" xmlns=\"http://www.w3.org/2000/svg\">\\n<title id=\"title-404\">Error 404</title>\\n<g fill=\"none\" fill-rule=\"nonzero\">\\n<path d=\"M346.443 95.687h-9.729l33.424-53.785v15.655l-23.695 38.13zm67.737 66.177h-38.042l-7.995-4.004v-22.888h-62.151L298 130.96V98.94l56.51-92.1h55.664l4.006 7.997v78.866h13.777l4.035 7.984v33.285H414.18v26.892zm-6-6v-26.892h17.812V95.687H408.18V8.837h-52.555l-55.633 90.597v29.538h70.146v26.892h38.042z\" fill=\"#59122D\"></path>\\n<path d=\"M408.18 155.864h-38.042v-26.892h-70.146V99.434l55.633-90.597h52.555v86.85h17.812v33.285H408.18v26.892zm-38.042-60.177V41.902l-33.424 53.785h33.424z\" fill=\"#DA2B6F\" stroke=\"#8C1C47\" stroke-width=\"4\"></path>\\n<path d=\"M253.39 35.799l3.478 1.633-.715 1.546-4.824 1.325 2.06-4.504zm8.672-9.743l-3.592 7.838-3.498-1.59 3.591-7.837 3.499 1.589zm5.187-11.322l-3.591 7.838-3.499-1.59 3.592-7.837 3.498 1.59zm-7.056-9.648L274 0l-5.658 12.269-3.447-1.53 1.77-3.954-5.137 1.893-1.335-3.592zm-11.72 4.318l8.114-2.989 1.334 3.591-8.114 2.99-1.334-3.592zm-11.721 4.318l8.114-2.989 1.335 3.591-8.115 2.99-1.334-3.592zm-11.72 4.318l8.114-2.989 1.334 3.591-8.114 2.99-1.335-3.592zm-11.721 4.318l8.114-2.989 1.334 3.591-8.114 2.99-1.334-3.592zm-11.721 4.318l8.114-2.989 1.335 3.591-8.115 2.99-1.334-3.592zm-11.72 4.318l8.114-2.989 1.334 3.591-8.114 2.99-1.335-3.592zm-11.721 4.318l8.114-2.989 1.334 3.591-8.114 2.99-1.334-3.592zm-11.72 4.318l8.113-2.989 1.335 3.591-8.115 2.99-1.334-3.592zm-1.514 16.071l-1.06-8.55 3.817-.47 1.059 8.551-3.816.469zm1.53 12.351l-1.06-8.55 3.817-.47 1.059 8.551-3.817.469zm1.53 12.35l-1.06-8.55 3.816-.468 1.06 8.55-3.817.469zm-1.597 7.635l3.645-3.518 2.676 2.75-3.816.469-.438-3.535 3.816-.468.438 3.534-3.645 3.518-2.676-2.75zm-4.66 13.938l-1.769-4.436-.949-2.38 1.847-1.783 2.77-2.674 2.676 2.75-2.77 2.673 1.77 4.437-3.574 1.413zm4.614 11.566l-3.194-8.007 3.574-1.413 3.193 8.007-3.573 1.413zm4.612 11.566l-3.193-8.007 3.574-1.414 3.193 8.008-3.574 1.413zm4.613 11.566l-3.193-8.007 3.573-1.414 3.194 8.007-3.574 1.414zm4.613 11.565l-3.193-8.007 3.573-1.413 3.194 8.007-3.574 1.413zm4.613 11.566l-3.194-8.007 3.574-1.413 3.194 8.007-3.574 1.413zm12.73 6.57l-5.29 1.952-3.523 1.299-1.387-3.477-1.11-2.785 3.573-1.413 1.11 2.785 5.292-1.951 1.335 3.59zm11.72-4.321l-8.114 2.992-1.335-3.591 8.113-2.992 1.335 3.59zm11.718-4.323l-8.113 2.993-1.335-3.591 8.113-2.992 1.335 3.59zm11.72-4.322l-8.114 2.993-1.335-3.591 8.113-2.992 1.336 3.59zm11.719-4.322l-8.114 2.993-1.335-3.591 8.113-2.992 1.336 3.59zm10.581-9.904l-2.382 5.597-.647 1.522-1.558.575-2.388.88-1.336-3.59 2.389-.881 2.382-5.597 3.54 1.494zm4.876-11.458l-3.375 7.932-3.54-1.494 3.375-7.932 3.54 1.494zm4.876-11.458l-3.375 7.932-3.54-1.494 3.375-7.933 3.54 1.495zm4.876-11.459l-3.375 7.933-3.54-1.494 3.375-7.933 3.54 1.494zm-.725-14.745l3.07 2.962 1.892 1.827-1.028 2.417-1.708 4.014-3.54-1.494 1.707-4.014-3.069-2.962 2.676-2.75zm-3.894-6.822l-.576 4.63-1.14-3.221 2.848 2.749-2.676 2.75-2.849-2.75.577-4.63 3.816.472zm1.537-12.35l-1.064 8.55-3.816-.471 1.064-8.55 3.816.471zm1.538-12.35l-1.065 8.55-3.816-.471 1.065-8.55 3.816.471zm1.537-12.35l-1.064 8.55-3.816-.471 1.064-8.55 3.816.471zm-9.873-12.157l5.115-1.428 1.086 3.694-5.185 1.427-1.016-3.693zm6.53 7.886l.741-5.935 3.815.462-.74 5.944-3.816-.471z\" fill=\"#C0C5C8\"></path>\\n<g>\\n<path d=\"M49.443 95.687h-9.729l33.424-53.785v15.655l-23.695 38.13zm67.737 66.177H79.138l-7.995-4.004v-22.888H8.992L1 130.96V98.94l56.51-92.1h55.664l4.006 7.997v78.866h13.777l4.035 7.984v33.285H117.18v26.892zm-6-6v-26.892h17.812V95.687H111.18V8.837H58.625L2.992 99.434v29.538h70.146v26.892h38.042z\" fill=\"#59122D\"></path>\\n<path d=\"M111.18 155.864H73.138v-26.892H2.992V99.434L58.625 8.837h52.555v86.85h17.812v33.285H111.18v26.892zM73.138 95.687V41.902L39.714 95.687h33.424z\" fill=\"#DA2B6F\" stroke=\"#8C1C47\" stroke-width=\"4\"></path>\\n</g>\\n</g>\\n</svg>\\n</a>\\n<h1>It appears we\\'re missing some bits…</h1>\\n<p>Sorry, the page you\\'re looking for is missing or does not exist.</p>\\n<p><a class=\"btn\" href=\"/\">Take Me Home</a></p>\\n</main>\\n</body>\\n</html>\\n'),\n",
       " ('invalid',\n",
       "  'None\\nNone\\n<!DOCTYPE html>\\n\\n<html lang=\"en-US\">\\n<head>\\n<meta charset=\"utf-8\"/>\\n<title>404 - Page Not Found</title>\\n<meta content=\"width=device-width, initial-scale=1\" name=\"viewport\"/>\\n<style>\\n      @import url(\"https://use.typekit.net/ddz3tbb.css\");\\n\\n      * {\\n        box-sizing: border-box;\\n      }\\n\\n      html,\\n      body {\\n        margin: 0;\\n        width: 100%;\\n        height: 100%;\\n        font-family: proxima-nova, Arial, sans-serif;\\n        line-height: 1.5;\\n        background-color: #3f3a60;\\n      }\\n\\n      body {\\n        display: flex; /* fallback */\\n        display: grid;\\n        flex-direction: column;\\n        align-items: center;\\n        justify-content: center;\\n      }\\n\\n      .container {\\n        padding: 15px;\\n        text-align: center;\\n      }\\n\\n      svg {\\n        width: 85%;\\n        max-width: 430px;\\n        height: auto;\\n      }\\n\\n      @media (min-width: 600px) {\\n        svg {\\n          width: 100%;\\n        }\\n      }\\n\\n      h1 {\\n        margin: 6% 0 2% 0;\\n        font-size: 1.25em;\\n        line-height: 1.2;\\n        color: #fff;\\n      }\\n\\n      @media (min-width: 600px) {\\n        h1 {\\n          font-size: 1.75em;\\n        }\\n      }\\n\\n      p {\\n        margin: 0 0 5% 0;\\n        color: rgba(255, 255, 255, 0.6);\\n      }\\n\\n      .btn {\\n        display: inline-block;\\n        padding: 12px 18px;\\n        font-size: 1em;\\n        font-weight: 600;\\n        line-height: 1;\\n        color: #fff;\\n        background-color: #da2b6f;\\n        text-decoration: none;\\n        box-shadow: 2px 2px 0 2px #59122d;\\n        transition: background-color 0.2s ease-in-out;\\n      }\\n\\n      .btn:hover,\\n      .btn:focus {\\n        background-color: #b3235b;\\n      }\\n    </style>\\n</head>\\n<body>\\n<main class=\"container\">\\n<a href=\"/\">\\n<svg aria-labelledby=\"title-404\" viewbox=\"0 0 432 170\" xmlns=\"http://www.w3.org/2000/svg\">\\n<title id=\"title-404\">Error 404</title>\\n<g fill=\"none\" fill-rule=\"nonzero\">\\n<path d=\"M346.443 95.687h-9.729l33.424-53.785v15.655l-23.695 38.13zm67.737 66.177h-38.042l-7.995-4.004v-22.888h-62.151L298 130.96V98.94l56.51-92.1h55.664l4.006 7.997v78.866h13.777l4.035 7.984v33.285H414.18v26.892zm-6-6v-26.892h17.812V95.687H408.18V8.837h-52.555l-55.633 90.597v29.538h70.146v26.892h38.042z\" fill=\"#59122D\"></path>\\n<path d=\"M408.18 155.864h-38.042v-26.892h-70.146V99.434l55.633-90.597h52.555v86.85h17.812v33.285H408.18v26.892zm-38.042-60.177V41.902l-33.424 53.785h33.424z\" fill=\"#DA2B6F\" stroke=\"#8C1C47\" stroke-width=\"4\"></path>\\n<path d=\"M253.39 35.799l3.478 1.633-.715 1.546-4.824 1.325 2.06-4.504zm8.672-9.743l-3.592 7.838-3.498-1.59 3.591-7.837 3.499 1.589zm5.187-11.322l-3.591 7.838-3.499-1.59 3.592-7.837 3.498 1.59zm-7.056-9.648L274 0l-5.658 12.269-3.447-1.53 1.77-3.954-5.137 1.893-1.335-3.592zm-11.72 4.318l8.114-2.989 1.334 3.591-8.114 2.99-1.334-3.592zm-11.721 4.318l8.114-2.989 1.335 3.591-8.115 2.99-1.334-3.592zm-11.72 4.318l8.114-2.989 1.334 3.591-8.114 2.99-1.335-3.592zm-11.721 4.318l8.114-2.989 1.334 3.591-8.114 2.99-1.334-3.592zm-11.721 4.318l8.114-2.989 1.335 3.591-8.115 2.99-1.334-3.592zm-11.72 4.318l8.114-2.989 1.334 3.591-8.114 2.99-1.335-3.592zm-11.721 4.318l8.114-2.989 1.334 3.591-8.114 2.99-1.334-3.592zm-11.72 4.318l8.113-2.989 1.335 3.591-8.115 2.99-1.334-3.592zm-1.514 16.071l-1.06-8.55 3.817-.47 1.059 8.551-3.816.469zm1.53 12.351l-1.06-8.55 3.817-.47 1.059 8.551-3.817.469zm1.53 12.35l-1.06-8.55 3.816-.468 1.06 8.55-3.817.469zm-1.597 7.635l3.645-3.518 2.676 2.75-3.816.469-.438-3.535 3.816-.468.438 3.534-3.645 3.518-2.676-2.75zm-4.66 13.938l-1.769-4.436-.949-2.38 1.847-1.783 2.77-2.674 2.676 2.75-2.77 2.673 1.77 4.437-3.574 1.413zm4.614 11.566l-3.194-8.007 3.574-1.413 3.193 8.007-3.573 1.413zm4.612 11.566l-3.193-8.007 3.574-1.414 3.193 8.008-3.574 1.413zm4.613 11.566l-3.193-8.007 3.573-1.414 3.194 8.007-3.574 1.414zm4.613 11.565l-3.193-8.007 3.573-1.413 3.194 8.007-3.574 1.413zm4.613 11.566l-3.194-8.007 3.574-1.413 3.194 8.007-3.574 1.413zm12.73 6.57l-5.29 1.952-3.523 1.299-1.387-3.477-1.11-2.785 3.573-1.413 1.11 2.785 5.292-1.951 1.335 3.59zm11.72-4.321l-8.114 2.992-1.335-3.591 8.113-2.992 1.335 3.59zm11.718-4.323l-8.113 2.993-1.335-3.591 8.113-2.992 1.335 3.59zm11.72-4.322l-8.114 2.993-1.335-3.591 8.113-2.992 1.336 3.59zm11.719-4.322l-8.114 2.993-1.335-3.591 8.113-2.992 1.336 3.59zm10.581-9.904l-2.382 5.597-.647 1.522-1.558.575-2.388.88-1.336-3.59 2.389-.881 2.382-5.597 3.54 1.494zm4.876-11.458l-3.375 7.932-3.54-1.494 3.375-7.932 3.54 1.494zm4.876-11.458l-3.375 7.932-3.54-1.494 3.375-7.933 3.54 1.495zm4.876-11.459l-3.375 7.933-3.54-1.494 3.375-7.933 3.54 1.494zm-.725-14.745l3.07 2.962 1.892 1.827-1.028 2.417-1.708 4.014-3.54-1.494 1.707-4.014-3.069-2.962 2.676-2.75zm-3.894-6.822l-.576 4.63-1.14-3.221 2.848 2.749-2.676 2.75-2.849-2.75.577-4.63 3.816.472zm1.537-12.35l-1.064 8.55-3.816-.471 1.064-8.55 3.816.471zm1.538-12.35l-1.065 8.55-3.816-.471 1.065-8.55 3.816.471zm1.537-12.35l-1.064 8.55-3.816-.471 1.064-8.55 3.816.471zm-9.873-12.157l5.115-1.428 1.086 3.694-5.185 1.427-1.016-3.693zm6.53 7.886l.741-5.935 3.815.462-.74 5.944-3.816-.471z\" fill=\"#C0C5C8\"></path>\\n<g>\\n<path d=\"M49.443 95.687h-9.729l33.424-53.785v15.655l-23.695 38.13zm67.737 66.177H79.138l-7.995-4.004v-22.888H8.992L1 130.96V98.94l56.51-92.1h55.664l4.006 7.997v78.866h13.777l4.035 7.984v33.285H117.18v26.892zm-6-6v-26.892h17.812V95.687H111.18V8.837H58.625L2.992 99.434v29.538h70.146v26.892h38.042z\" fill=\"#59122D\"></path>\\n<path d=\"M111.18 155.864H73.138v-26.892H2.992V99.434L58.625 8.837h52.555v86.85h17.812v33.285H111.18v26.892zM73.138 95.687V41.902L39.714 95.687h33.424z\" fill=\"#DA2B6F\" stroke=\"#8C1C47\" stroke-width=\"4\"></path>\\n</g>\\n</g>\\n</svg>\\n</a>\\n<h1>It appears we\\'re missing some bits…</h1>\\n<p>Sorry, the page you\\'re looking for is missing or does not exist.</p>\\n<p><a class=\"btn\" href=\"/\">Take Me Home</a></p>\\n</main>\\n</body>\\n</html>\\n'),\n",
       " ('invalid',\n",
       "  'None\\nNone\\n<!DOCTYPE html>\\n\\n<html lang=\"en-US\">\\n<head>\\n<meta charset=\"utf-8\"/>\\n<title>404 - Page Not Found</title>\\n<meta content=\"width=device-width, initial-scale=1\" name=\"viewport\"/>\\n<style>\\n      @import url(\"https://use.typekit.net/ddz3tbb.css\");\\n\\n      * {\\n        box-sizing: border-box;\\n      }\\n\\n      html,\\n      body {\\n        margin: 0;\\n        width: 100%;\\n        height: 100%;\\n        font-family: proxima-nova, Arial, sans-serif;\\n        line-height: 1.5;\\n        background-color: #3f3a60;\\n      }\\n\\n      body {\\n        display: flex; /* fallback */\\n        display: grid;\\n        flex-direction: column;\\n        align-items: center;\\n        justify-content: center;\\n      }\\n\\n      .container {\\n        padding: 15px;\\n        text-align: center;\\n      }\\n\\n      svg {\\n        width: 85%;\\n        max-width: 430px;\\n        height: auto;\\n      }\\n\\n      @media (min-width: 600px) {\\n        svg {\\n          width: 100%;\\n        }\\n      }\\n\\n      h1 {\\n        margin: 6% 0 2% 0;\\n        font-size: 1.25em;\\n        line-height: 1.2;\\n        color: #fff;\\n      }\\n\\n      @media (min-width: 600px) {\\n        h1 {\\n          font-size: 1.75em;\\n        }\\n      }\\n\\n      p {\\n        margin: 0 0 5% 0;\\n        color: rgba(255, 255, 255, 0.6);\\n      }\\n\\n      .btn {\\n        display: inline-block;\\n        padding: 12px 18px;\\n        font-size: 1em;\\n        font-weight: 600;\\n        line-height: 1;\\n        color: #fff;\\n        background-color: #da2b6f;\\n        text-decoration: none;\\n        box-shadow: 2px 2px 0 2px #59122d;\\n        transition: background-color 0.2s ease-in-out;\\n      }\\n\\n      .btn:hover,\\n      .btn:focus {\\n        background-color: #b3235b;\\n      }\\n    </style>\\n</head>\\n<body>\\n<main class=\"container\">\\n<a href=\"/\">\\n<svg aria-labelledby=\"title-404\" viewbox=\"0 0 432 170\" xmlns=\"http://www.w3.org/2000/svg\">\\n<title id=\"title-404\">Error 404</title>\\n<g fill=\"none\" fill-rule=\"nonzero\">\\n<path d=\"M346.443 95.687h-9.729l33.424-53.785v15.655l-23.695 38.13zm67.737 66.177h-38.042l-7.995-4.004v-22.888h-62.151L298 130.96V98.94l56.51-92.1h55.664l4.006 7.997v78.866h13.777l4.035 7.984v33.285H414.18v26.892zm-6-6v-26.892h17.812V95.687H408.18V8.837h-52.555l-55.633 90.597v29.538h70.146v26.892h38.042z\" fill=\"#59122D\"></path>\\n<path d=\"M408.18 155.864h-38.042v-26.892h-70.146V99.434l55.633-90.597h52.555v86.85h17.812v33.285H408.18v26.892zm-38.042-60.177V41.902l-33.424 53.785h33.424z\" fill=\"#DA2B6F\" stroke=\"#8C1C47\" stroke-width=\"4\"></path>\\n<path d=\"M253.39 35.799l3.478 1.633-.715 1.546-4.824 1.325 2.06-4.504zm8.672-9.743l-3.592 7.838-3.498-1.59 3.591-7.837 3.499 1.589zm5.187-11.322l-3.591 7.838-3.499-1.59 3.592-7.837 3.498 1.59zm-7.056-9.648L274 0l-5.658 12.269-3.447-1.53 1.77-3.954-5.137 1.893-1.335-3.592zm-11.72 4.318l8.114-2.989 1.334 3.591-8.114 2.99-1.334-3.592zm-11.721 4.318l8.114-2.989 1.335 3.591-8.115 2.99-1.334-3.592zm-11.72 4.318l8.114-2.989 1.334 3.591-8.114 2.99-1.335-3.592zm-11.721 4.318l8.114-2.989 1.334 3.591-8.114 2.99-1.334-3.592zm-11.721 4.318l8.114-2.989 1.335 3.591-8.115 2.99-1.334-3.592zm-11.72 4.318l8.114-2.989 1.334 3.591-8.114 2.99-1.335-3.592zm-11.721 4.318l8.114-2.989 1.334 3.591-8.114 2.99-1.334-3.592zm-11.72 4.318l8.113-2.989 1.335 3.591-8.115 2.99-1.334-3.592zm-1.514 16.071l-1.06-8.55 3.817-.47 1.059 8.551-3.816.469zm1.53 12.351l-1.06-8.55 3.817-.47 1.059 8.551-3.817.469zm1.53 12.35l-1.06-8.55 3.816-.468 1.06 8.55-3.817.469zm-1.597 7.635l3.645-3.518 2.676 2.75-3.816.469-.438-3.535 3.816-.468.438 3.534-3.645 3.518-2.676-2.75zm-4.66 13.938l-1.769-4.436-.949-2.38 1.847-1.783 2.77-2.674 2.676 2.75-2.77 2.673 1.77 4.437-3.574 1.413zm4.614 11.566l-3.194-8.007 3.574-1.413 3.193 8.007-3.573 1.413zm4.612 11.566l-3.193-8.007 3.574-1.414 3.193 8.008-3.574 1.413zm4.613 11.566l-3.193-8.007 3.573-1.414 3.194 8.007-3.574 1.414zm4.613 11.565l-3.193-8.007 3.573-1.413 3.194 8.007-3.574 1.413zm4.613 11.566l-3.194-8.007 3.574-1.413 3.194 8.007-3.574 1.413zm12.73 6.57l-5.29 1.952-3.523 1.299-1.387-3.477-1.11-2.785 3.573-1.413 1.11 2.785 5.292-1.951 1.335 3.59zm11.72-4.321l-8.114 2.992-1.335-3.591 8.113-2.992 1.335 3.59zm11.718-4.323l-8.113 2.993-1.335-3.591 8.113-2.992 1.335 3.59zm11.72-4.322l-8.114 2.993-1.335-3.591 8.113-2.992 1.336 3.59zm11.719-4.322l-8.114 2.993-1.335-3.591 8.113-2.992 1.336 3.59zm10.581-9.904l-2.382 5.597-.647 1.522-1.558.575-2.388.88-1.336-3.59 2.389-.881 2.382-5.597 3.54 1.494zm4.876-11.458l-3.375 7.932-3.54-1.494 3.375-7.932 3.54 1.494zm4.876-11.458l-3.375 7.932-3.54-1.494 3.375-7.933 3.54 1.495zm4.876-11.459l-3.375 7.933-3.54-1.494 3.375-7.933 3.54 1.494zm-.725-14.745l3.07 2.962 1.892 1.827-1.028 2.417-1.708 4.014-3.54-1.494 1.707-4.014-3.069-2.962 2.676-2.75zm-3.894-6.822l-.576 4.63-1.14-3.221 2.848 2.749-2.676 2.75-2.849-2.75.577-4.63 3.816.472zm1.537-12.35l-1.064 8.55-3.816-.471 1.064-8.55 3.816.471zm1.538-12.35l-1.065 8.55-3.816-.471 1.065-8.55 3.816.471zm1.537-12.35l-1.064 8.55-3.816-.471 1.064-8.55 3.816.471zm-9.873-12.157l5.115-1.428 1.086 3.694-5.185 1.427-1.016-3.693zm6.53 7.886l.741-5.935 3.815.462-.74 5.944-3.816-.471z\" fill=\"#C0C5C8\"></path>\\n<g>\\n<path d=\"M49.443 95.687h-9.729l33.424-53.785v15.655l-23.695 38.13zm67.737 66.177H79.138l-7.995-4.004v-22.888H8.992L1 130.96V98.94l56.51-92.1h55.664l4.006 7.997v78.866h13.777l4.035 7.984v33.285H117.18v26.892zm-6-6v-26.892h17.812V95.687H111.18V8.837H58.625L2.992 99.434v29.538h70.146v26.892h38.042z\" fill=\"#59122D\"></path>\\n<path d=\"M111.18 155.864H73.138v-26.892H2.992V99.434L58.625 8.837h52.555v86.85h17.812v33.285H111.18v26.892zM73.138 95.687V41.902L39.714 95.687h33.424z\" fill=\"#DA2B6F\" stroke=\"#8C1C47\" stroke-width=\"4\"></path>\\n</g>\\n</g>\\n</svg>\\n</a>\\n<h1>It appears we\\'re missing some bits…</h1>\\n<p>Sorry, the page you\\'re looking for is missing or does not exist.</p>\\n<p><a class=\"btn\" href=\"/\">Take Me Home</a></p>\\n</main>\\n</body>\\n</html>\\n'),\n",
       " ('https://cf.geekdo-images.com/H9a_fmCpNFiHWZbJIJKNdQ__imagepage/img/1Zv4d4HmPIKsbjPpNcFcv2XFuaM=/fit-in/900x600/filters:no_upscale():strip_icc()/pic2669820.png',\n",
       "  'martinus'),\n",
       " ('https://cf.geekdo-images.com/71t-JeDobahvpIWpSTzElA__imagepage/img/8ZB2tBRZmM-kS9PtjyXGdY1iSuI=/fit-in/900x600/filters:no_upscale():strip_icc()/pic2669821.png',\n",
       "  'martinus'),\n",
       " ('https://cf.geekdo-images.com/UuS5rDYRCSSFSG3IE5xcPQ__imagepage/img/glX4bLvtkUdw9G3FUpzBYty7KCw=/fit-in/900x600/filters:no_upscale():strip_icc()/pic2669822.jpg',\n",
       "  'basic-pulp'),\n",
       " ('https://cf.geekdo-images.com/OZX5Ss97yrWTj8GiX6R0PQ__imagepage/img/8WABOodejgsN9FV1LWTTv_ut7cU=/fit-in/900x600/filters:no_upscale():strip_icc()/pic2669823.jpg',\n",
       "  'basic-pulp'),\n",
       " ('https://cf.geekdo-images.com/kk6uPus8IC64JyMVXY0E3Q__imagepage/img/rrr3f7RTTqGNzLPve274ArWF8dw=/fit-in/900x600/filters:no_upscale():strip_icc()/pic2669824.jpg',\n",
       "  'manuel-du-meneur-de-jeu'),\n",
       " ('https://cf.geekdo-images.com/KAW-HC2tLmqrSspoN-BLEw__imagepage/img/i33D8mChEueA6P9D2WAxhb1dLoE=/fit-in/900x600/filters:no_upscale():strip_icc()/pic2669825.jpg',\n",
       "  'manuel-du-meneur-de-jeu'),\n",
       " ('https://cf.geekdo-images.com/aXBKh3dfuGxE4vM8es29eA__imagepage/img/Mzq1muZluJIHvGa0DsQsiNhcL8Y=/fit-in/900x600/filters:no_upscale():strip_icc()/pic2669826.jpg',\n",
       "  'ages-alivena-basics'),\n",
       " ('https://cf.geekdo-images.com/m-Dic-XMkm1ZjAuqaXRWkA__imagepage/img/hzRO6HE4-T0XYmuODYK_lR8k7Y0=/fit-in/900x600/filters:no_upscale():strip_icc()/pic2669827.png',\n",
       "  'mlspyl'),\n",
       " ('invalid',\n",
       "  'None\\nNone\\n<!DOCTYPE html>\\n\\n<html lang=\"en-US\">\\n<head>\\n<meta charset=\"utf-8\"/>\\n<title>404 - Page Not Found</title>\\n<meta content=\"width=device-width, initial-scale=1\" name=\"viewport\"/>\\n<style>\\n      @import url(\"https://use.typekit.net/ddz3tbb.css\");\\n\\n      * {\\n        box-sizing: border-box;\\n      }\\n\\n      html,\\n      body {\\n        margin: 0;\\n        width: 100%;\\n        height: 100%;\\n        font-family: proxima-nova, Arial, sans-serif;\\n        line-height: 1.5;\\n        background-color: #3f3a60;\\n      }\\n\\n      body {\\n        display: flex; /* fallback */\\n        display: grid;\\n        flex-direction: column;\\n        align-items: center;\\n        justify-content: center;\\n      }\\n\\n      .container {\\n        padding: 15px;\\n        text-align: center;\\n      }\\n\\n      svg {\\n        width: 85%;\\n        max-width: 430px;\\n        height: auto;\\n      }\\n\\n      @media (min-width: 600px) {\\n        svg {\\n          width: 100%;\\n        }\\n      }\\n\\n      h1 {\\n        margin: 6% 0 2% 0;\\n        font-size: 1.25em;\\n        line-height: 1.2;\\n        color: #fff;\\n      }\\n\\n      @media (min-width: 600px) {\\n        h1 {\\n          font-size: 1.75em;\\n        }\\n      }\\n\\n      p {\\n        margin: 0 0 5% 0;\\n        color: rgba(255, 255, 255, 0.6);\\n      }\\n\\n      .btn {\\n        display: inline-block;\\n        padding: 12px 18px;\\n        font-size: 1em;\\n        font-weight: 600;\\n        line-height: 1;\\n        color: #fff;\\n        background-color: #da2b6f;\\n        text-decoration: none;\\n        box-shadow: 2px 2px 0 2px #59122d;\\n        transition: background-color 0.2s ease-in-out;\\n      }\\n\\n      .btn:hover,\\n      .btn:focus {\\n        background-color: #b3235b;\\n      }\\n    </style>\\n</head>\\n<body>\\n<main class=\"container\">\\n<a href=\"/\">\\n<svg aria-labelledby=\"title-404\" viewbox=\"0 0 432 170\" xmlns=\"http://www.w3.org/2000/svg\">\\n<title id=\"title-404\">Error 404</title>\\n<g fill=\"none\" fill-rule=\"nonzero\">\\n<path d=\"M346.443 95.687h-9.729l33.424-53.785v15.655l-23.695 38.13zm67.737 66.177h-38.042l-7.995-4.004v-22.888h-62.151L298 130.96V98.94l56.51-92.1h55.664l4.006 7.997v78.866h13.777l4.035 7.984v33.285H414.18v26.892zm-6-6v-26.892h17.812V95.687H408.18V8.837h-52.555l-55.633 90.597v29.538h70.146v26.892h38.042z\" fill=\"#59122D\"></path>\\n<path d=\"M408.18 155.864h-38.042v-26.892h-70.146V99.434l55.633-90.597h52.555v86.85h17.812v33.285H408.18v26.892zm-38.042-60.177V41.902l-33.424 53.785h33.424z\" fill=\"#DA2B6F\" stroke=\"#8C1C47\" stroke-width=\"4\"></path>\\n<path d=\"M253.39 35.799l3.478 1.633-.715 1.546-4.824 1.325 2.06-4.504zm8.672-9.743l-3.592 7.838-3.498-1.59 3.591-7.837 3.499 1.589zm5.187-11.322l-3.591 7.838-3.499-1.59 3.592-7.837 3.498 1.59zm-7.056-9.648L274 0l-5.658 12.269-3.447-1.53 1.77-3.954-5.137 1.893-1.335-3.592zm-11.72 4.318l8.114-2.989 1.334 3.591-8.114 2.99-1.334-3.592zm-11.721 4.318l8.114-2.989 1.335 3.591-8.115 2.99-1.334-3.592zm-11.72 4.318l8.114-2.989 1.334 3.591-8.114 2.99-1.335-3.592zm-11.721 4.318l8.114-2.989 1.334 3.591-8.114 2.99-1.334-3.592zm-11.721 4.318l8.114-2.989 1.335 3.591-8.115 2.99-1.334-3.592zm-11.72 4.318l8.114-2.989 1.334 3.591-8.114 2.99-1.335-3.592zm-11.721 4.318l8.114-2.989 1.334 3.591-8.114 2.99-1.334-3.592zm-11.72 4.318l8.113-2.989 1.335 3.591-8.115 2.99-1.334-3.592zm-1.514 16.071l-1.06-8.55 3.817-.47 1.059 8.551-3.816.469zm1.53 12.351l-1.06-8.55 3.817-.47 1.059 8.551-3.817.469zm1.53 12.35l-1.06-8.55 3.816-.468 1.06 8.55-3.817.469zm-1.597 7.635l3.645-3.518 2.676 2.75-3.816.469-.438-3.535 3.816-.468.438 3.534-3.645 3.518-2.676-2.75zm-4.66 13.938l-1.769-4.436-.949-2.38 1.847-1.783 2.77-2.674 2.676 2.75-2.77 2.673 1.77 4.437-3.574 1.413zm4.614 11.566l-3.194-8.007 3.574-1.413 3.193 8.007-3.573 1.413zm4.612 11.566l-3.193-8.007 3.574-1.414 3.193 8.008-3.574 1.413zm4.613 11.566l-3.193-8.007 3.573-1.414 3.194 8.007-3.574 1.414zm4.613 11.565l-3.193-8.007 3.573-1.413 3.194 8.007-3.574 1.413zm4.613 11.566l-3.194-8.007 3.574-1.413 3.194 8.007-3.574 1.413zm12.73 6.57l-5.29 1.952-3.523 1.299-1.387-3.477-1.11-2.785 3.573-1.413 1.11 2.785 5.292-1.951 1.335 3.59zm11.72-4.321l-8.114 2.992-1.335-3.591 8.113-2.992 1.335 3.59zm11.718-4.323l-8.113 2.993-1.335-3.591 8.113-2.992 1.335 3.59zm11.72-4.322l-8.114 2.993-1.335-3.591 8.113-2.992 1.336 3.59zm11.719-4.322l-8.114 2.993-1.335-3.591 8.113-2.992 1.336 3.59zm10.581-9.904l-2.382 5.597-.647 1.522-1.558.575-2.388.88-1.336-3.59 2.389-.881 2.382-5.597 3.54 1.494zm4.876-11.458l-3.375 7.932-3.54-1.494 3.375-7.932 3.54 1.494zm4.876-11.458l-3.375 7.932-3.54-1.494 3.375-7.933 3.54 1.495zm4.876-11.459l-3.375 7.933-3.54-1.494 3.375-7.933 3.54 1.494zm-.725-14.745l3.07 2.962 1.892 1.827-1.028 2.417-1.708 4.014-3.54-1.494 1.707-4.014-3.069-2.962 2.676-2.75zm-3.894-6.822l-.576 4.63-1.14-3.221 2.848 2.749-2.676 2.75-2.849-2.75.577-4.63 3.816.472zm1.537-12.35l-1.064 8.55-3.816-.471 1.064-8.55 3.816.471zm1.538-12.35l-1.065 8.55-3.816-.471 1.065-8.55 3.816.471zm1.537-12.35l-1.064 8.55-3.816-.471 1.064-8.55 3.816.471zm-9.873-12.157l5.115-1.428 1.086 3.694-5.185 1.427-1.016-3.693zm6.53 7.886l.741-5.935 3.815.462-.74 5.944-3.816-.471z\" fill=\"#C0C5C8\"></path>\\n<g>\\n<path d=\"M49.443 95.687h-9.729l33.424-53.785v15.655l-23.695 38.13zm67.737 66.177H79.138l-7.995-4.004v-22.888H8.992L1 130.96V98.94l56.51-92.1h55.664l4.006 7.997v78.866h13.777l4.035 7.984v33.285H117.18v26.892zm-6-6v-26.892h17.812V95.687H111.18V8.837H58.625L2.992 99.434v29.538h70.146v26.892h38.042z\" fill=\"#59122D\"></path>\\n<path d=\"M111.18 155.864H73.138v-26.892H2.992V99.434L58.625 8.837h52.555v86.85h17.812v33.285H111.18v26.892zM73.138 95.687V41.902L39.714 95.687h33.424z\" fill=\"#DA2B6F\" stroke=\"#8C1C47\" stroke-width=\"4\"></path>\\n</g>\\n</g>\\n</svg>\\n</a>\\n<h1>It appears we\\'re missing some bits…</h1>\\n<p>Sorry, the page you\\'re looking for is missing or does not exist.</p>\\n<p><a class=\"btn\" href=\"/\">Take Me Home</a></p>\\n</main>\\n</body>\\n</html>\\n'),\n",
       " ('https://cf.geekdo-images.com/NNIK9apNop6_3bCrAlpzIg__imagepage/img/woQtKD4pFWI-J46hcf0aBfq_Z1I=/fit-in/900x600/filters:no_upscale():strip_icc()/pic2669829.jpg',\n",
       "  'ages-alivena'),\n",
       " ('https://cf.geekdo-images.com/66lw05fF6nciv0tdQIp72g__imagepage/img/WQ80hSMAI4DrQ3xtdROiO1keI-w=/fit-in/900x600/filters:no_upscale():strip_icc()/pic2669830.jpg',\n",
       "  'manuel-du-gendarme-et-du-voleur'),\n",
       " ('https://cf.geekdo-images.com/3-M4P5hujL1NyWkdvqB7jw__imagepage/img/MJVHAmhOxp0qGBLv02NxZCFtZz8=/fit-in/900x600/filters:no_upscale():strip_icc()/pic2669831.jpg',\n",
       "  'manuel-du-gendarme-et-du-voleur'),\n",
       " ('https://cf.geekdo-images.com/qCrZqrk3Bg04hlct-BHwNg__imagepage/img/g7MiveuWipW4oeY9FvNKyq0St0I=/fit-in/900x600/filters:no_upscale():strip_icc()/pic2669832.jpg',\n",
       "  'black-handed-henrys-potion-party'),\n",
       " ('https://cf.geekdo-images.com/xapkijUuE22ewdn9jre8nA__imagepage/img/qwU6ZOXzfKw-1yogS3oUewowkE4=/fit-in/900x600/filters:no_upscale():strip_icc()/pic2669833.jpg',\n",
       "  'livret-denquete'),\n",
       " ('https://cf.geekdo-images.com/1M0sV2BGZHyzOewX5JQExQ__imagepage/img/pf2vC1761w9cGvkYMQ4hEuKcoVQ=/fit-in/900x600/filters:no_upscale():strip_icc()/pic2669834.jpg',\n",
       "  'livret-denquete'),\n",
       " ('https://cf.geekdo-images.com/DJS7-_EBaHAsGtqVlxCQLQ__imagepage/img/JnZp0WpJArwyXUysE7ctvGH1H9g=/fit-in/900x600/filters:no_upscale():strip_icc()/pic2669835.jpg',\n",
       "  'formulaire-a32'),\n",
       " ('https://cf.geekdo-images.com/mM7FbfYNekKaf621y2rOWw__imagepage/img/4RsfBQLeqfGb9_J1cf2CgiSFo2o=/fit-in/900x600/filters:no_upscale():strip_icc()/pic2669836.jpg',\n",
       "  'casier-judiciaire'),\n",
       " ('https://cf.geekdo-images.com/FdVDBbIUEkVWt9zWqDt_bQ__imagepage/img/_yTM-rtRMLaI26GrLv5aNUXHc10=/fit-in/900x600/filters:no_upscale():strip_icc()/pic2669837.png',\n",
       "  'legacy-testament-duke-de-crecy-five-families'),\n",
       " ('https://cf.geekdo-images.com/BTtsFgwbohzxSAijoBqBmA__imagepage/img/dueJmopTExed8yjbpIVPZZMrn9g=/fit-in/900x600/filters:no_upscale():strip_icc()/pic2669838.png',\n",
       "  'legacy-testament-duke-de-crecy-five-families'),\n",
       " ('https://cf.geekdo-images.com/x-l17Mk7B1NBiDMOOA0ALw__imagepage/img/gm2_4eE1AjSW4d-YxHK2v0ngVSw=/fit-in/900x600/filters:no_upscale():strip_icc()/pic2669839.jpg',\n",
       "  'livret-du-gendarme'),\n",
       " ('https://cf.geekdo-images.com/9uhjJVxCLZHv85JXXIuGrw__imagepage/img/xF2B3jTyE-rO_5yPAtnwmvnsuoo=/fit-in/900x600/filters:no_upscale():strip_icc()/pic2669840.png',\n",
       "  'legacy-testament-duke-de-crecy-five-families'),\n",
       " ('https://cf.geekdo-images.com/MrQpWkf_w1oCQSQemvd4fA__imagepage/img/zVhg0ADzWce-Fi0C18jaSytuaqM=/fit-in/900x600/filters:no_upscale():strip_icc()/pic2669841.png',\n",
       "  'legacy-testament-duke-de-crecy-five-families'),\n",
       " ('https://cf.geekdo-images.com/eWpuET-beuZmhX3z-p7jiw__imagepage/img/-C7hTlN-IkUdSu9Q-IAD7megAU4=/fit-in/900x600/filters:no_upscale():strip_icc()/pic2669842.jpg',\n",
       "  'camel'),\n",
       " ('https://cf.geekdo-images.com/KvaMda9cn6IHI4B4qEz1-Q__imagepage/img/6s4ufq1r4vpZc7HOOb9H7zrJWTA=/fit-in/900x600/filters:no_upscale():strip_icc()/pic2669843.jpg',\n",
       "  'bun-fight'),\n",
       " ('https://cf.geekdo-images.com/pwjqgxr0oT_cs5Gk7bFOdQ__imagepage/img/-veblZnzhgDSgPWmSOV8kZ_BzS8=/fit-in/900x600/filters:no_upscale():strip_icc()/pic2669844.jpg',\n",
       "  'imperios-milenarios'),\n",
       " ('https://cf.geekdo-images.com/Ofv--vdtsdRVFjbho-bucg__imagepage/img/4ylY7mMrHufMQAlDpdL7wUpgqy0=/fit-in/900x600/filters:no_upscale():strip_icc()/pic2669845.jpg',\n",
       "  'camel'),\n",
       " ('https://cf.geekdo-images.com/Cr0sg2PGLYW5Y3XK-EVPog__imagepage/img/8SLwAtFV32p3F-QzgUzjunNlERI=/fit-in/900x600/filters:no_upscale():strip_icc()/pic2669846.jpg',\n",
       "  'camel'),\n",
       " ('https://cf.geekdo-images.com/Z6S4OeK5VrJIvZSA1EBOgg__imagepage/img/NMUdbbFvBTz1exD6NyLGf7gi9iI=/fit-in/900x600/filters:no_upscale():strip_icc()/pic2669847.jpg',\n",
       "  'livret-denquete'),\n",
       " ('https://cf.geekdo-images.com/qAeJgRD1u7GsfrZeE6oknQ__imagepage/img/w6mUh5VQwgmvavsfp7M-MA3DH3k=/fit-in/900x600/filters:no_upscale():strip_icc()/pic2669848.jpg',\n",
       "  'manuel-du-gendarme-et-du-voleur'),\n",
       " ('https://cf.geekdo-images.com/l4GRn-1qAOtqxsWtp0ovkQ__imagepage/img/xyNCQTo_nNazhz_6Mu6o5xmON3k=/fit-in/900x600/filters:no_upscale():strip_icc()/pic2669849.jpg',\n",
       "  'castles-mad-king-ludwig'),\n",
       " ('https://cf.geekdo-images.com/XvUPB2yVpxwLNhTNNCO3nQ__imagepage/img/7o1vLdBD_-BxkJfEftRdhwkzoR4=/fit-in/900x600/filters:no_upscale():strip_icc()/pic2669850.jpg',\n",
       "  'castles-mad-king-ludwig'),\n",
       " ('https://cf.geekdo-images.com/jp0kylu3wA45K6HW8MidnQ__imagepage/img/gRGGh9DB7Ku0gzH1mK4YW2Duv8Q=/fit-in/900x600/filters:no_upscale():strip_icc()/pic2669851.jpg',\n",
       "  'castles-mad-king-ludwig'),\n",
       " ('https://cf.geekdo-images.com/qe-dFcPE3geidpAKsR77Zg__imagepage/img/jKplG9kfz23dHXOqilhUmJkot8k=/fit-in/900x600/filters:no_upscale():strip_icc()/pic2669852.jpg',\n",
       "  'manuel-du-meneur-de-jeu'),\n",
       " ('https://cf.geekdo-images.com/k3ny3Kn9V3MOCRW36VBqgA__imagepage/img/BAsy3jskmQCFP4V7O2uI7GUPPR0=/fit-in/900x600/filters:no_upscale():strip_icc()/pic2669853.jpg',\n",
       "  'player-essentials-heroes-fallen-lands'),\n",
       " ('https://cf.geekdo-images.com/EnN_EA0HmHetk4G9X79RLg__imagepage/img/_LtdtyKNt51nT1r99wWAAO-WMB8=/fit-in/900x600/filters:no_upscale():strip_icc()/pic2669854.jpg',\n",
       "  'yellow-tome-beyond-mists'),\n",
       " ('https://cf.geekdo-images.com/H5FF8FTL4ZXM603M_ruXuQ__imagepage/img/bi0cf2KzPKLTjINl6AqyqIRuaO0=/fit-in/900x600/filters:no_upscale():strip_icc()/pic2669855.jpg',\n",
       "  'chimera'),\n",
       " ('https://cf.geekdo-images.com/FVkHAtugeeKC54uejsWRfQ__imagepage/img/fqXNbOvqqDJQSCa5BCL23DBesWw=/fit-in/900x600/filters:no_upscale():strip_icc()/pic2669856.png',\n",
       "  'lefty-brune'),\n",
       " ('https://cf.geekdo-images.com/Ngy91btXKtKTfBzwOrWDig__imagepage/img/-xjduy45tNjjWASlKb_7TDo-CyE=/fit-in/900x600/filters:no_upscale():strip_icc()/pic2669857.jpg',\n",
       "  'cjs65'),\n",
       " ('https://cf.geekdo-images.com/EsGpQiDF-hdYjqZZ6WQADw__imagepage/img/4a_nJBYtuynfBXVTidKXUpoxNnM=/fit-in/900x600/filters:no_upscale():strip_icc()/pic2669858.png',\n",
       "  'lefty-brune'),\n",
       " ('https://cf.geekdo-images.com/io1ZBHjrfgCwvuzzVQAPCA__imagepage/img/lOHF9MBZyJLhVthWSxydgy2-jg0=/fit-in/900x600/filters:no_upscale():strip_icc()/pic2669859.jpg',\n",
       "  'concordia'),\n",
       " ('https://cf.geekdo-images.com/HNVqibHOad0D8qKaPQp_tA__imagepage/img/szujvYe2ofEVwz-RMIjEWBWypOk=/fit-in/900x600/filters:no_upscale():strip_icc()/pic2669860.jpg',\n",
       "  'imperios-milenarios'),\n",
       " ('https://cf.geekdo-images.com/i39v1rFtoz88KZ1eCq38fw__imagepage/img/d02m18zk4pus6h8Sql3_3alrDN0=/fit-in/900x600/filters:no_upscale():strip_icc()/pic2669861.jpg',\n",
       "  'concordia'),\n",
       " ('https://cf.geekdo-images.com/cv47j1_Nxd1pfRARWEOhcg__imagepage/img/DCMLCJZgjoTDrau8Bn2QmxhonmE=/fit-in/900x600/filters:no_upscale():strip_icc()/pic2669862.png',\n",
       "  'lefty-brune'),\n",
       " ('https://cf.geekdo-images.com/-TFQzmILYegWpgTQzhMEgg__imagepage/img/OYNoFZiZrh4eFXqjEslFXeeOsmY=/fit-in/900x600/filters:no_upscale():strip_icc()/pic2669863.jpg',\n",
       "  'yt40charxls-character-generation-spreadsheet'),\n",
       " ('https://cf.geekdo-images.com/N7oDtcoxHhjE5xZMuCk6Og__imagepage/img/5uSPi1ZXWhtzvsSqMk7-ki4RA-0=/fit-in/900x600/filters:no_upscale():strip_icc()/pic2669864.jpg',\n",
       "  'curses-vampire'),\n",
       " ('https://cf.geekdo-images.com/ah-KhT_6zhjkRccOTLgvSQ__imagepage/img/RgUYZ4dQ7DeDEGHn3iAUPt_tUjU=/fit-in/900x600/filters:no_upscale():strip_icc()/pic2669865.jpg',\n",
       "  'curses-vampire'),\n",
       " ('https://cf.geekdo-images.com/CdibIT0dt2k2iz0yPPH8tA__imagepage/img/wTwvyJWY7pWrS6Wzd7K3_IPe1-s=/fit-in/900x600/filters:no_upscale():strip_icc()/pic2669866.jpg',\n",
       "  'blur-hand-quicker-die'),\n",
       " ('https://cf.geekdo-images.com/rPqM8CCXD9KgIPPKZcU3Yg__imagepage/img/-0JN81BAkNUnqVUgVye7yFkT9-0=/fit-in/900x600/filters:no_upscale():strip_icc()/pic2669867.jpg',\n",
       "  'cv'),\n",
       " ('https://cf.geekdo-images.com/lFF8ttbqmAzq3QootnODhg__imagepage/img/t-mYJqHP96coP2pMEy02RHTtHko=/fit-in/900x600/filters:no_upscale():strip_icc()/pic2669868.jpg',\n",
       "  'erebus-primer-new-visitors-city-shadows'),\n",
       " ('https://cf.geekdo-images.com/_BeVSErkQ3ya8h1BWROQxQ__imagepage/img/iUyZAuZx7zL7ANhzbG2xRRlJHvk=/fit-in/900x600/filters:no_upscale():strip_icc()/pic2669869.jpg',\n",
       "  'imperios-milenarios'),\n",
       " ('https://cf.geekdo-images.com/0cd1R5u0afFta7nT6P77ZQ__imagepage/img/yWqwIp_AeglibJAXctNnvnSsVgU=/fit-in/900x600/filters:no_upscale():strip_icc()/pic2669870.jpg',\n",
       "  'erebus-herald'),\n",
       " ('https://cf.geekdo-images.com/Rw_-MtvjA9CnF_1Khvms_A__imagepage/img/x802ObfcRaS-Lk50xGTlljEQf5I=/fit-in/900x600/filters:no_upscale():strip_icc()/pic2669871.jpg',\n",
       "  'erebus-excerpts-journal-natural-philosophy'),\n",
       " ('https://cf.geekdo-images.com/uf_7B4WRvJSBz9n3E5dYXQ__imagepage/img/b7LmY73DwaDecfZV9Bk38JH39nw=/fit-in/900x600/filters:no_upscale():strip_icc()/pic2669872.jpg',\n",
       "  'erebus-archive-ereban-culture-and-mythology'),\n",
       " ('https://cf.geekdo-images.com/UhLqb4pW7hVFydd3SB4OMg__imagepage/img/QvpScW7AVYRg540MteAI3se2KBI=/fit-in/900x600/filters:no_upscale():strip_icc()/pic2669873.jpg',\n",
       "  'erebus-definitive-guide-entertainment-city-shadows'),\n",
       " ('https://cf.geekdo-images.com/MsrY9AKlbUlS70mEbqpsaQ__imagepage/img/Wg03lG9lTKTBquiRWnWFzn3yB-I=/fit-in/900x600/filters:no_upscale():strip_icc()/pic2669874.jpg',\n",
       "  'imperios-milenarios'),\n",
       " ('https://cf.geekdo-images.com/6QqCFiFcisiU1JnV_RRBdA__imagepage/img/FDcYOkR78dCaxevGtKJMG3S_sj8=/fit-in/900x600/filters:no_upscale():strip_icc()/pic2669875.jpg',\n",
       "  'jmaydet'),\n",
       " ('https://cf.geekdo-images.com/dFvO6YN_81DyIHHuyezOGA__imagepage/img/XP959448_1jrpBZK3BrR58dxTCE=/fit-in/900x600/filters:no_upscale():strip_icc()/pic2669876.jpg',\n",
       "  'esbegan'),\n",
       " ('https://cf.geekdo-images.com/yKg0222WAzwnAT6BupQ1XQ__imagepage/img/BRjnZvkf_yRAax_xnLCyMJA-JJ4=/fit-in/900x600/filters:no_upscale():strip_icc()/pic2669877.jpg',\n",
       "  'esbegan'),\n",
       " ('https://cf.geekdo-images.com/Hlx7DbdxgweQRFF3C3HWIQ__imagepage/img/BdAB1d5jVPoCT93RLsL_3j575hM=/fit-in/900x600/filters:no_upscale():strip_icc()/pic2669878.jpg',\n",
       "  'pickboy87'),\n",
       " ('https://cf.geekdo-images.com/Kd2CjUVmpYY84r3wg5PBNQ__imagepage/img/cT9z6o26bRLGg79huDs2GvkgXTw=/fit-in/900x600/filters:no_upscale():strip_icc()/pic2669879.jpg',\n",
       "  'pickboy87'),\n",
       " ('https://cf.geekdo-images.com/zUO5ECQ2RlzCrmTiVGqnfQ__imagepage/img/MKgRrd3uxlccN9SHd-OSz0mze3M=/fit-in/900x600/filters:no_upscale():strip_icc()/pic2669880.jpg',\n",
       "  'esbegan'),\n",
       " ('https://cf.geekdo-images.com/F1m7HwDVuargrL18N-b3Rw__imagepage/img/EfWIM9PhoxegOGondwPSJTH6U88=/fit-in/900x600/filters:no_upscale():strip_icc()/pic2669881.jpg',\n",
       "  'pickboy87'),\n",
       " ('https://cf.geekdo-images.com/1JJzsgdRTzx5L1ZB9fZSZA__imagepage/img/O5xykihSu2qPLKrax1_J3FYVYLk=/fit-in/900x600/filters:no_upscale():strip_icc()/pic2669882.jpg',\n",
       "  'pickboy87'),\n",
       " ('https://cf.geekdo-images.com/qbczxnnM_q1Y4frmv76CKA__imagepage/img/A_0oxmU0xWmPkDm-xCEDqw_kJs4=/fit-in/900x600/filters:no_upscale():strip_icc()/pic2669883.jpg',\n",
       "  'esbegan'),\n",
       " ('https://cf.geekdo-images.com/KIMTuXbUw0x0PUvSzQqThQ__imagepage/img/dTCFc6snDHJy9X-PjivjcTlunII=/fit-in/900x600/filters:no_upscale():strip_icc()/pic2669884.jpg',\n",
       "  'pickboy87'),\n",
       " ('https://cf.geekdo-images.com/c5ULX4TJVbiDLLDmeExz6Q__imagepage/img/S11qmsDLUKsB2hfx3O-2jXvrwHA=/fit-in/900x600/filters:no_upscale():strip_icc()/pic2669885.jpg',\n",
       "  'wolfcry91'),\n",
       " ('https://cf.geekdo-images.com/g9LjeM0D7PIMHLmliUNOzw__imagepage/img/iHvS4NR9rdRrmPrgk5pB9woX_oY=/fit-in/900x600/filters:no_upscale():strip_icc()/pic2669886.jpg',\n",
       "  'pickboy87'),\n",
       " ('https://cf.geekdo-images.com/h6e1OEmJkPXZ9zUEADhFVg__imagepage/img/5Rho9fpDs1G_JFzS5iyJrbJHJ5A=/fit-in/900x600/filters:no_upscale():strip_icc()/pic2669887.jpg',\n",
       "  'sdric'),\n",
       " ('https://cf.geekdo-images.com/EGfVDsbuzL9QPUMZ9X2WJg__imagepage/img/1KB61S7GpblbpluscBBrSrC1Zw4=/fit-in/900x600/filters:no_upscale():strip_icc()/pic2669888.jpg',\n",
       "  'pickboy87'),\n",
       " ('https://cf.geekdo-images.com/qdhl4xLGomNCf6JqhbPnFQ__imagepage/img/RPNG-uxRXYuiDD5EsIPlLMLD8r4=/fit-in/900x600/filters:no_upscale():strip_icc()/pic2669889.jpg',\n",
       "  'esbegan'),\n",
       " ('https://cf.geekdo-images.com/EIpeVdmEwchkpotvOXkdVA__imagepage/img/NOPG8deLLl7wzXm8CHlPEDLQapA=/fit-in/900x600/filters:no_upscale():strip_icc()/pic2669890.jpg',\n",
       "  'pickboy87'),\n",
       " ('https://cf.geekdo-images.com/X3MzQsDH_CxeOAdDNgmv1g__imagepage/img/geklCL3111tO9GqSFwttOKbQSMY=/fit-in/900x600/filters:no_upscale():strip_icc()/pic2669891.jpg',\n",
       "  'esbegan'),\n",
       " ('https://cf.geekdo-images.com/aReH-EVCGTM03SLrJbboTw__imagepage/img/p88GziQIlg23giYjyPB1EEfMoUo=/fit-in/900x600/filters:no_upscale():strip_icc()/pic2669892.jpg',\n",
       "  'the-immortal'),\n",
       " ('https://cf.geekdo-images.com/VV8FM0AHJVCBHH2FLswy1g__imagepage/img/7IZgzMLHPWnIlCzwXa3mEyDE76I=/fit-in/900x600/filters:no_upscale():strip_icc()/pic2669893.jpg',\n",
       "  'esbegan'),\n",
       " ('https://cf.geekdo-images.com/XTiPlBOnsbw4XKGGqC5OCg__imagepage/img/bzuekoRSzJN94a_4CYYQXDTci8o=/fit-in/900x600/filters:no_upscale():strip_icc()/pic2669894.png',\n",
       "  'mrraow'),\n",
       " ('https://cf.geekdo-images.com/wRPMsajqM3LBFyayzvJ41A__imagepage/img/uetZZ0QE-AFxQ_XkTCeqa87zmxE=/fit-in/900x600/filters:no_upscale():strip_icc()/pic2669895.jpg',\n",
       "  'esbegan'),\n",
       " ('https://cf.geekdo-images.com/EZhocYWQTIhuZNT0TXKmfA__imagepage/img/X8lN3EZ8pN8RmXSa5wxqV3iXsy4=/fit-in/900x600/filters:no_upscale():strip_icc()/pic2669896.jpg',\n",
       "  'kraftwagen'),\n",
       " ('https://cf.geekdo-images.com/IuiM8CfrBAfoBxEu4EjuNA__imagepage/img/K2ZCS2Zh8XXyeNHdYgbxCXwjun0=/fit-in/900x600/filters:no_upscale():strip_icc()/pic2669897.jpg',\n",
       "  'kraftwagen'),\n",
       " ('https://cf.geekdo-images.com/szpVO9oo1KVUN6o_waOY0A__imagepage/img/6duvl5ysfJvi90HzQOXwEGbqed4=/fit-in/900x600/filters:no_upscale():strip_icc()/pic2669898.jpg',\n",
       "  'kraftwagen'),\n",
       " ('https://cf.geekdo-images.com/xcjAoDRUYrq_04KBFSbwwA__imagepage/img/eLPzj-YzZJnchDf2vsphGOuUy6s=/fit-in/900x600/filters:no_upscale():strip_icc()/pic2669899.jpg',\n",
       "  'esbegan'),\n",
       " ('https://cf.geekdo-images.com/0WHEngboBp96fNQmqVNjiQ__imagepage/img/95blS1S21dYclnS_bMi7ws_pRq8=/fit-in/900x600/filters:no_upscale():strip_icc()/pic2669900.jpg',\n",
       "  'jmaydet'),\n",
       " ('https://cf.geekdo-images.com/MY2LSo4UOrvJ9EJbbLY-GA__imagepage/img/n7UbdGi6W5kEoyBLd7iPwe7fCsQ=/fit-in/900x600/filters:no_upscale():strip_icc()/pic2669901.jpg',\n",
       "  'esbegan'),\n",
       " ('invalid',\n",
       "  'None\\nNone\\n<!DOCTYPE html>\\n\\n<html lang=\"en-US\">\\n<head>\\n<meta charset=\"utf-8\"/>\\n<title>404 - Page Not Found</title>\\n<meta content=\"width=device-width, initial-scale=1\" name=\"viewport\"/>\\n<style>\\n      @import url(\"https://use.typekit.net/ddz3tbb.css\");\\n\\n      * {\\n        box-sizing: border-box;\\n      }\\n\\n      html,\\n      body {\\n        margin: 0;\\n        width: 100%;\\n        height: 100%;\\n        font-family: proxima-nova, Arial, sans-serif;\\n        line-height: 1.5;\\n        background-color: #3f3a60;\\n      }\\n\\n      body {\\n        display: flex; /* fallback */\\n        display: grid;\\n        flex-direction: column;\\n        align-items: center;\\n        justify-content: center;\\n      }\\n\\n      .container {\\n        padding: 15px;\\n        text-align: center;\\n      }\\n\\n      svg {\\n        width: 85%;\\n        max-width: 430px;\\n        height: auto;\\n      }\\n\\n      @media (min-width: 600px) {\\n        svg {\\n          width: 100%;\\n        }\\n      }\\n\\n      h1 {\\n        margin: 6% 0 2% 0;\\n        font-size: 1.25em;\\n        line-height: 1.2;\\n        color: #fff;\\n      }\\n\\n      @media (min-width: 600px) {\\n        h1 {\\n          font-size: 1.75em;\\n        }\\n      }\\n\\n      p {\\n        margin: 0 0 5% 0;\\n        color: rgba(255, 255, 255, 0.6);\\n      }\\n\\n      .btn {\\n        display: inline-block;\\n        padding: 12px 18px;\\n        font-size: 1em;\\n        font-weight: 600;\\n        line-height: 1;\\n        color: #fff;\\n        background-color: #da2b6f;\\n        text-decoration: none;\\n        box-shadow: 2px 2px 0 2px #59122d;\\n        transition: background-color 0.2s ease-in-out;\\n      }\\n\\n      .btn:hover,\\n      .btn:focus {\\n        background-color: #b3235b;\\n      }\\n    </style>\\n</head>\\n<body>\\n<main class=\"container\">\\n<a href=\"/\">\\n<svg aria-labelledby=\"title-404\" viewbox=\"0 0 432 170\" xmlns=\"http://www.w3.org/2000/svg\">\\n<title id=\"title-404\">Error 404</title>\\n<g fill=\"none\" fill-rule=\"nonzero\">\\n<path d=\"M346.443 95.687h-9.729l33.424-53.785v15.655l-23.695 38.13zm67.737 66.177h-38.042l-7.995-4.004v-22.888h-62.151L298 130.96V98.94l56.51-92.1h55.664l4.006 7.997v78.866h13.777l4.035 7.984v33.285H414.18v26.892zm-6-6v-26.892h17.812V95.687H408.18V8.837h-52.555l-55.633 90.597v29.538h70.146v26.892h38.042z\" fill=\"#59122D\"></path>\\n<path d=\"M408.18 155.864h-38.042v-26.892h-70.146V99.434l55.633-90.597h52.555v86.85h17.812v33.285H408.18v26.892zm-38.042-60.177V41.902l-33.424 53.785h33.424z\" fill=\"#DA2B6F\" stroke=\"#8C1C47\" stroke-width=\"4\"></path>\\n<path d=\"M253.39 35.799l3.478 1.633-.715 1.546-4.824 1.325 2.06-4.504zm8.672-9.743l-3.592 7.838-3.498-1.59 3.591-7.837 3.499 1.589zm5.187-11.322l-3.591 7.838-3.499-1.59 3.592-7.837 3.498 1.59zm-7.056-9.648L274 0l-5.658 12.269-3.447-1.53 1.77-3.954-5.137 1.893-1.335-3.592zm-11.72 4.318l8.114-2.989 1.334 3.591-8.114 2.99-1.334-3.592zm-11.721 4.318l8.114-2.989 1.335 3.591-8.115 2.99-1.334-3.592zm-11.72 4.318l8.114-2.989 1.334 3.591-8.114 2.99-1.335-3.592zm-11.721 4.318l8.114-2.989 1.334 3.591-8.114 2.99-1.334-3.592zm-11.721 4.318l8.114-2.989 1.335 3.591-8.115 2.99-1.334-3.592zm-11.72 4.318l8.114-2.989 1.334 3.591-8.114 2.99-1.335-3.592zm-11.721 4.318l8.114-2.989 1.334 3.591-8.114 2.99-1.334-3.592zm-11.72 4.318l8.113-2.989 1.335 3.591-8.115 2.99-1.334-3.592zm-1.514 16.071l-1.06-8.55 3.817-.47 1.059 8.551-3.816.469zm1.53 12.351l-1.06-8.55 3.817-.47 1.059 8.551-3.817.469zm1.53 12.35l-1.06-8.55 3.816-.468 1.06 8.55-3.817.469zm-1.597 7.635l3.645-3.518 2.676 2.75-3.816.469-.438-3.535 3.816-.468.438 3.534-3.645 3.518-2.676-2.75zm-4.66 13.938l-1.769-4.436-.949-2.38 1.847-1.783 2.77-2.674 2.676 2.75-2.77 2.673 1.77 4.437-3.574 1.413zm4.614 11.566l-3.194-8.007 3.574-1.413 3.193 8.007-3.573 1.413zm4.612 11.566l-3.193-8.007 3.574-1.414 3.193 8.008-3.574 1.413zm4.613 11.566l-3.193-8.007 3.573-1.414 3.194 8.007-3.574 1.414zm4.613 11.565l-3.193-8.007 3.573-1.413 3.194 8.007-3.574 1.413zm4.613 11.566l-3.194-8.007 3.574-1.413 3.194 8.007-3.574 1.413zm12.73 6.57l-5.29 1.952-3.523 1.299-1.387-3.477-1.11-2.785 3.573-1.413 1.11 2.785 5.292-1.951 1.335 3.59zm11.72-4.321l-8.114 2.992-1.335-3.591 8.113-2.992 1.335 3.59zm11.718-4.323l-8.113 2.993-1.335-3.591 8.113-2.992 1.335 3.59zm11.72-4.322l-8.114 2.993-1.335-3.591 8.113-2.992 1.336 3.59zm11.719-4.322l-8.114 2.993-1.335-3.591 8.113-2.992 1.336 3.59zm10.581-9.904l-2.382 5.597-.647 1.522-1.558.575-2.388.88-1.336-3.59 2.389-.881 2.382-5.597 3.54 1.494zm4.876-11.458l-3.375 7.932-3.54-1.494 3.375-7.932 3.54 1.494zm4.876-11.458l-3.375 7.932-3.54-1.494 3.375-7.933 3.54 1.495zm4.876-11.459l-3.375 7.933-3.54-1.494 3.375-7.933 3.54 1.494zm-.725-14.745l3.07 2.962 1.892 1.827-1.028 2.417-1.708 4.014-3.54-1.494 1.707-4.014-3.069-2.962 2.676-2.75zm-3.894-6.822l-.576 4.63-1.14-3.221 2.848 2.749-2.676 2.75-2.849-2.75.577-4.63 3.816.472zm1.537-12.35l-1.064 8.55-3.816-.471 1.064-8.55 3.816.471zm1.538-12.35l-1.065 8.55-3.816-.471 1.065-8.55 3.816.471zm1.537-12.35l-1.064 8.55-3.816-.471 1.064-8.55 3.816.471zm-9.873-12.157l5.115-1.428 1.086 3.694-5.185 1.427-1.016-3.693zm6.53 7.886l.741-5.935 3.815.462-.74 5.944-3.816-.471z\" fill=\"#C0C5C8\"></path>\\n<g>\\n<path d=\"M49.443 95.687h-9.729l33.424-53.785v15.655l-23.695 38.13zm67.737 66.177H79.138l-7.995-4.004v-22.888H8.992L1 130.96V98.94l56.51-92.1h55.664l4.006 7.997v78.866h13.777l4.035 7.984v33.285H117.18v26.892zm-6-6v-26.892h17.812V95.687H111.18V8.837H58.625L2.992 99.434v29.538h70.146v26.892h38.042z\" fill=\"#59122D\"></path>\\n<path d=\"M111.18 155.864H73.138v-26.892H2.992V99.434L58.625 8.837h52.555v86.85h17.812v33.285H111.18v26.892zM73.138 95.687V41.902L39.714 95.687h33.424z\" fill=\"#DA2B6F\" stroke=\"#8C1C47\" stroke-width=\"4\"></path>\\n</g>\\n</g>\\n</svg>\\n</a>\\n<h1>It appears we\\'re missing some bits…</h1>\\n<p>Sorry, the page you\\'re looking for is missing or does not exist.</p>\\n<p><a class=\"btn\" href=\"/\">Take Me Home</a></p>\\n</main>\\n</body>\\n</html>\\n'),\n",
       " ('https://cf.geekdo-images.com/AaXZOPDcW8X5GN978Cl1JQ__imagepage/img/BY1jrczKnqTwbJldOCsHJRz9xdA=/fit-in/900x600/filters:no_upscale():strip_icc()/pic2669903.jpg',\n",
       "  'happyshopper'),\n",
       " ('https://cf.geekdo-images.com/E4JI-MSIbZ8eK3dJ5rQlKA__imagepage/img/S1qvbxJJdtHa_6gz53KX46LlKVA=/fit-in/900x600/filters:no_upscale():strip_icc()/pic2669904.jpg',\n",
       "  'quiveryopossum7'),\n",
       " ('https://cf.geekdo-images.com/IqnZ5s2wdD3IpjyfJJdVBQ__imagepage/img/C1gNijrEQOhQIRMa1olxJCFz720=/fit-in/900x600/filters:no_upscale():strip_icc()/pic2669905.jpg',\n",
       "  'quiveryopossum7')]"
      ]
     },
     "execution_count": 30,
     "metadata": {},
     "output_type": "execute_result"
    }
   ],
   "source": [
    "l2"
   ]
  },
  {
   "cell_type": "code",
   "execution_count": null,
   "id": "62c5d00f-b14f-4f75-a9a8-cd979fbe47f2",
   "metadata": {},
   "outputs": [],
   "source": []
  }
 ],
 "metadata": {
  "kernelspec": {
   "display_name": "Python 3 (ipykernel)",
   "language": "python",
   "name": "python3"
  },
  "language_info": {
   "codemirror_mode": {
    "name": "ipython",
    "version": 3
   },
   "file_extension": ".py",
   "mimetype": "text/x-python",
   "name": "python",
   "nbconvert_exporter": "python",
   "pygments_lexer": "ipython3",
   "version": "3.10.6"
  }
 },
 "nbformat": 4,
 "nbformat_minor": 5
}
