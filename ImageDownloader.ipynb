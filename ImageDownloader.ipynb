{
 "cells": [
  {
   "cell_type": "code",
   "execution_count": 1,
   "id": "72c3a73b-4923-4e13-a342-aa76e7e22f31",
   "metadata": {},
   "outputs": [],
   "source": [
    "from duckduckgo_search import ddg_images\n",
    "from fastcore.all import *\n",
    "\n",
    "def search_images(term, max_images=200): return L(ddg_images(term, max_results=max_images)).itemgot('image')\n",
    "\n",
    "from fastdownload import download_url\n",
    "\n",
    "from fastai.vision.all import *\n",
    "import timm\n",
    "import numpy as np\n",
    "import requests\n",
    "from bs4 import BeautifulSoup as bs4\n",
    "import pandas as pd\n",
    "import pickle"
   ]
  },
  {
   "cell_type": "markdown",
   "id": "253e38b2-a3b0-475c-8370-f054cff68b88",
   "metadata": {},
   "source": [
    "## Getting lists of initial pictures"
   ]
  },
  {
   "cell_type": "code",
   "execution_count": 6,
   "id": "062c34a7-f93d-407f-9e72-d70a129985fd",
   "metadata": {},
   "outputs": [],
   "source": [
    "page_t = requests.get('https://boardgamegeek.com/browse/boardgame')\n",
    "soup_t = bs4(page_t.content, 'html.parser')"
   ]
  },
  {
   "cell_type": "code",
   "execution_count": 17,
   "id": "1f8a388c-5620-49d9-9a4b-df8f35c6060a",
   "metadata": {},
   "outputs": [],
   "source": [
    "links=list(soup_t.find_all(\"img\", src=re.compile(r'geekdo-images')))"
   ]
  },
  {
   "cell_type": "code",
   "execution_count": 23,
   "id": "15afb65e-6c35-48ef-a513-99eee4420020",
   "metadata": {},
   "outputs": [
    {
     "data": {
      "text/plain": [
       "'<img alt=\"Board Game: Gloomhaven\" src=\"https://cf.geekdo-images.com/sZYp_3BTDGjh2unaZfZmuA__micro/img/sQyh47ClBO3d5sxPm73hMvM-JV4=/fit-in/64x64/filters:strip_icc()/pic2437871.jpg\"/>'"
      ]
     },
     "execution_count": 23,
     "metadata": {},
     "output_type": "execute_result"
    }
   ],
   "source": [
    "str(links[0])"
   ]
  },
  {
   "cell_type": "code",
   "execution_count": 25,
   "id": "5ac39b9e-ef4c-45d1-9809-3f7b26c141d3",
   "metadata": {},
   "outputs": [],
   "source": [
    "patt= re.compile(r'pic\\d*')"
   ]
  },
  {
   "cell_type": "code",
   "execution_count": 35,
   "id": "c59877da-13e7-4ee4-a112-2483a1f05e25",
   "metadata": {},
   "outputs": [],
   "source": [
    "gns=[]\n",
    "for link in links :\n",
    "    gns.append(patt.findall(str(link))[0][3:])"
   ]
  },
  {
   "cell_type": "code",
   "execution_count": 38,
   "id": "8da7e05e-4798-4193-9437-663726bf0d6b",
   "metadata": {},
   "outputs": [
    {
     "data": {
      "text/plain": [
       "str"
      ]
     },
     "execution_count": 38,
     "metadata": {},
     "output_type": "execute_result"
    }
   ],
   "source": [
    "type(gns[0])"
   ]
  },
  {
   "cell_type": "code",
   "execution_count": 39,
   "id": "ae820052-54d1-4917-bcc2-fb13d75869c1",
   "metadata": {},
   "outputs": [
    {
     "data": {
      "text/plain": [
       "True"
      ]
     },
     "execution_count": 39,
     "metadata": {},
     "output_type": "execute_result"
    }
   ],
   "source": [
    "gns[0].isnumeric()"
   ]
  },
  {
   "cell_type": "code",
   "execution_count": 48,
   "id": "26f55418-a887-475f-abd1-6c671624b1f6",
   "metadata": {},
   "outputs": [
    {
     "data": {
      "text/plain": [
       "True"
      ]
     },
     "execution_count": 48,
     "metadata": {},
     "output_type": "execute_result"
    }
   ],
   "source": [
    "type(int(gns[0]) )==int"
   ]
  },
  {
   "cell_type": "code",
   "execution_count": 52,
   "id": "6b31dd23-947c-4652-8930-b1b53368796e",
   "metadata": {},
   "outputs": [],
   "source": [
    "with open('game_numbers', 'wb') as fp:\n",
    "    pickle.dump(gns, fp)"
   ]
  },
  {
   "cell_type": "markdown",
   "id": "7fdd7a84-34b2-42cb-84cc-cb20fb51c207",
   "metadata": {},
   "source": [
    "## Working with the dataframe of game_links"
   ]
  },
  {
   "cell_type": "code",
   "execution_count": 12,
   "id": "9895dacf-b40d-48d4-9650-5935aefedfde",
   "metadata": {},
   "outputs": [],
   "source": [
    "df=pd.read_csv('game_links_selenium.csv',header=None,index_col=0)"
   ]
  },
  {
   "cell_type": "code",
   "execution_count": 13,
   "id": "2832d4c5-422f-4371-8252-b9bcc9a17e5b",
   "metadata": {},
   "outputs": [],
   "source": [
    "df.drop(['crew-mission-deep-sea','pandemic-legacy-season-2'],axis=0,inplace=True)"
   ]
  },
  {
   "cell_type": "code",
   "execution_count": 14,
   "id": "cf2cd810-56b0-4a04-9203-16c63062d16c",
   "metadata": {},
   "outputs": [],
   "source": [
    "df2=pd.DataFrame(df.stack())"
   ]
  },
  {
   "cell_type": "code",
   "execution_count": 15,
   "id": "d3643dc5-6dd7-44d9-974b-d470ca1ad55d",
   "metadata": {},
   "outputs": [],
   "source": [
    "df2.columns=['link']"
   ]
  },
  {
   "cell_type": "code",
   "execution_count": 16,
   "id": "975f4027-a74f-4576-b7d6-df3e812dd0f6",
   "metadata": {},
   "outputs": [],
   "source": [
    "df2=df2.reset_index().drop('level_1',axis=1)"
   ]
  },
  {
   "cell_type": "code",
   "execution_count": 17,
   "id": "27857195-afd0-4fbc-a5d9-b2bf03526a9e",
   "metadata": {},
   "outputs": [],
   "source": [
    "df2.columns=['game_name','image_page']"
   ]
  },
  {
   "cell_type": "code",
   "execution_count": 18,
   "id": "2db8baf1-e40e-46d2-b1d8-581a8cdb43bc",
   "metadata": {},
   "outputs": [],
   "source": [
    "df2['image_number']=(df2['image_page'].str.split('/')).map(lambda l : l[-2])"
   ]
  },
  {
   "cell_type": "code",
   "execution_count": 19,
   "id": "d7324a76-95c8-4861-ae5f-478e791df3c2",
   "metadata": {},
   "outputs": [],
   "source": [
    "df2['direct_link']= None"
   ]
  },
  {
   "cell_type": "code",
   "execution_count": null,
   "id": "ba9763a8-5a39-4e84-8add-397e26cde594",
   "metadata": {},
   "outputs": [],
   "source": []
  },
  {
   "cell_type": "markdown",
   "id": "45de80c0-e5f6-4dd8-ba35-3d874e3f208b",
   "metadata": {},
   "source": [
    "Idea: Direct link can be filled while downloading for possible future use."
   ]
  },
  {
   "cell_type": "code",
   "execution_count": 10,
   "id": "a36891d7-80a2-43c6-9330-3e765540e8c6",
   "metadata": {},
   "outputs": [
    {
     "data": {
      "text/html": [
       "<div>\n",
       "<style scoped>\n",
       "    .dataframe tbody tr th:only-of-type {\n",
       "        vertical-align: middle;\n",
       "    }\n",
       "\n",
       "    .dataframe tbody tr th {\n",
       "        vertical-align: top;\n",
       "    }\n",
       "\n",
       "    .dataframe thead th {\n",
       "        text-align: right;\n",
       "    }\n",
       "</style>\n",
       "<table border=\"1\" class=\"dataframe\">\n",
       "  <thead>\n",
       "    <tr style=\"text-align: right;\">\n",
       "      <th></th>\n",
       "      <th>game_name</th>\n",
       "      <th>image_page</th>\n",
       "      <th>image_number</th>\n",
       "      <th>direct_link</th>\n",
       "    </tr>\n",
       "  </thead>\n",
       "  <tbody>\n",
       "    <tr>\n",
       "      <th>5134</th>\n",
       "      <td>food-chain-magnate</td>\n",
       "      <td>https://boardgamegeek.com/image/2649434/food-chain-magnate</td>\n",
       "      <td>2649434</td>\n",
       "      <td>None</td>\n",
       "    </tr>\n",
       "    <tr>\n",
       "      <th>5135</th>\n",
       "      <td>food-chain-magnate</td>\n",
       "      <td>https://boardgamegeek.com/image/2649623/food-chain-magnate</td>\n",
       "      <td>2649623</td>\n",
       "      <td>None</td>\n",
       "    </tr>\n",
       "    <tr>\n",
       "      <th>5136</th>\n",
       "      <td>food-chain-magnate</td>\n",
       "      <td>https://boardgamegeek.com/image/2652009/food-chain-magnate</td>\n",
       "      <td>2652009</td>\n",
       "      <td>None</td>\n",
       "    </tr>\n",
       "    <tr>\n",
       "      <th>5137</th>\n",
       "      <td>food-chain-magnate</td>\n",
       "      <td>https://boardgamegeek.com/image/2654169/food-chain-magnate</td>\n",
       "      <td>2654169</td>\n",
       "      <td>None</td>\n",
       "    </tr>\n",
       "    <tr>\n",
       "      <th>5138</th>\n",
       "      <td>food-chain-magnate</td>\n",
       "      <td>https://boardgamegeek.com/image/2659708/food-chain-magnate</td>\n",
       "      <td>2659708</td>\n",
       "      <td>None</td>\n",
       "    </tr>\n",
       "    <tr>\n",
       "      <th>...</th>\n",
       "      <td>...</td>\n",
       "      <td>...</td>\n",
       "      <td>...</td>\n",
       "      <td>...</td>\n",
       "    </tr>\n",
       "    <tr>\n",
       "      <th>5280</th>\n",
       "      <td>food-chain-magnate</td>\n",
       "      <td>https://boardgamegeek.com/image/2933438/food-chain-magnate</td>\n",
       "      <td>2933438</td>\n",
       "      <td>None</td>\n",
       "    </tr>\n",
       "    <tr>\n",
       "      <th>5281</th>\n",
       "      <td>food-chain-magnate</td>\n",
       "      <td>https://boardgamegeek.com/image/2935379/food-chain-magnate</td>\n",
       "      <td>2935379</td>\n",
       "      <td>None</td>\n",
       "    </tr>\n",
       "    <tr>\n",
       "      <th>5282</th>\n",
       "      <td>food-chain-magnate</td>\n",
       "      <td>https://boardgamegeek.com/image/2941651/food-chain-magnate</td>\n",
       "      <td>2941651</td>\n",
       "      <td>None</td>\n",
       "    </tr>\n",
       "    <tr>\n",
       "      <th>5283</th>\n",
       "      <td>food-chain-magnate</td>\n",
       "      <td>https://boardgamegeek.com/image/2941654/food-chain-magnate</td>\n",
       "      <td>2941654</td>\n",
       "      <td>None</td>\n",
       "    </tr>\n",
       "    <tr>\n",
       "      <th>5284</th>\n",
       "      <td>food-chain-magnate</td>\n",
       "      <td>https://boardgamegeek.com/image/2941656/food-chain-magnate</td>\n",
       "      <td>2941656</td>\n",
       "      <td>None</td>\n",
       "    </tr>\n",
       "  </tbody>\n",
       "</table>\n",
       "<p>151 rows × 4 columns</p>\n",
       "</div>"
      ],
      "text/plain": [
       "               game_name  \\\n",
       "5134  food-chain-magnate   \n",
       "5135  food-chain-magnate   \n",
       "5136  food-chain-magnate   \n",
       "5137  food-chain-magnate   \n",
       "5138  food-chain-magnate   \n",
       "...                  ...   \n",
       "5280  food-chain-magnate   \n",
       "5281  food-chain-magnate   \n",
       "5282  food-chain-magnate   \n",
       "5283  food-chain-magnate   \n",
       "5284  food-chain-magnate   \n",
       "\n",
       "                                                      image_page image_number  \\\n",
       "5134  https://boardgamegeek.com/image/2649434/food-chain-magnate      2649434   \n",
       "5135  https://boardgamegeek.com/image/2649623/food-chain-magnate      2649623   \n",
       "5136  https://boardgamegeek.com/image/2652009/food-chain-magnate      2652009   \n",
       "5137  https://boardgamegeek.com/image/2654169/food-chain-magnate      2654169   \n",
       "5138  https://boardgamegeek.com/image/2659708/food-chain-magnate      2659708   \n",
       "...                                                          ...          ...   \n",
       "5280  https://boardgamegeek.com/image/2933438/food-chain-magnate      2933438   \n",
       "5281  https://boardgamegeek.com/image/2935379/food-chain-magnate      2935379   \n",
       "5282  https://boardgamegeek.com/image/2941651/food-chain-magnate      2941651   \n",
       "5283  https://boardgamegeek.com/image/2941654/food-chain-magnate      2941654   \n",
       "5284  https://boardgamegeek.com/image/2941656/food-chain-magnate      2941656   \n",
       "\n",
       "     direct_link  \n",
       "5134        None  \n",
       "5135        None  \n",
       "5136        None  \n",
       "5137        None  \n",
       "5138        None  \n",
       "...          ...  \n",
       "5280        None  \n",
       "5281        None  \n",
       "5282        None  \n",
       "5283        None  \n",
       "5284        None  \n",
       "\n",
       "[151 rows x 4 columns]"
      ]
     },
     "execution_count": 10,
     "metadata": {},
     "output_type": "execute_result"
    }
   ],
   "source": [
    "df2[df2['game_name']=='food-chain-magnate']"
   ]
  },
  {
   "cell_type": "code",
   "execution_count": 19,
   "id": "d5bbe6da-4bdb-4700-bbc0-5aec5c126c44",
   "metadata": {},
   "outputs": [
    {
     "data": {
      "text/plain": [
       "2114"
      ]
     },
     "execution_count": 19,
     "metadata": {},
     "output_type": "execute_result"
    }
   ],
   "source": [
    "len(df2)-5134"
   ]
  },
  {
   "cell_type": "code",
   "execution_count": 18,
   "id": "eda55c44-e9b5-4a14-a555-208e2f77f47f",
   "metadata": {},
   "outputs": [
    {
     "data": {
      "text/html": [
       "<div>\n",
       "<style scoped>\n",
       "    .dataframe tbody tr th:only-of-type {\n",
       "        vertical-align: middle;\n",
       "    }\n",
       "\n",
       "    .dataframe tbody tr th {\n",
       "        vertical-align: top;\n",
       "    }\n",
       "\n",
       "    .dataframe thead th {\n",
       "        text-align: right;\n",
       "    }\n",
       "</style>\n",
       "<table border=\"1\" class=\"dataframe\">\n",
       "  <thead>\n",
       "    <tr style=\"text-align: right;\">\n",
       "      <th></th>\n",
       "      <th>game_name</th>\n",
       "      <th>image_page</th>\n",
       "      <th>image_number</th>\n",
       "      <th>direct_link</th>\n",
       "    </tr>\n",
       "  </thead>\n",
       "  <tbody>\n",
       "    <tr>\n",
       "      <th>5134</th>\n",
       "      <td>food-chain-magnate</td>\n",
       "      <td>https://boardgamegeek.com/image/2649434/food-chain-magnate</td>\n",
       "      <td>2649434</td>\n",
       "      <td>None</td>\n",
       "    </tr>\n",
       "    <tr>\n",
       "      <th>5135</th>\n",
       "      <td>food-chain-magnate</td>\n",
       "      <td>https://boardgamegeek.com/image/2649623/food-chain-magnate</td>\n",
       "      <td>2649623</td>\n",
       "      <td>None</td>\n",
       "    </tr>\n",
       "    <tr>\n",
       "      <th>5136</th>\n",
       "      <td>food-chain-magnate</td>\n",
       "      <td>https://boardgamegeek.com/image/2652009/food-chain-magnate</td>\n",
       "      <td>2652009</td>\n",
       "      <td>None</td>\n",
       "    </tr>\n",
       "    <tr>\n",
       "      <th>5137</th>\n",
       "      <td>food-chain-magnate</td>\n",
       "      <td>https://boardgamegeek.com/image/2654169/food-chain-magnate</td>\n",
       "      <td>2654169</td>\n",
       "      <td>None</td>\n",
       "    </tr>\n",
       "    <tr>\n",
       "      <th>5138</th>\n",
       "      <td>food-chain-magnate</td>\n",
       "      <td>https://boardgamegeek.com/image/2659708/food-chain-magnate</td>\n",
       "      <td>2659708</td>\n",
       "      <td>None</td>\n",
       "    </tr>\n",
       "    <tr>\n",
       "      <th>...</th>\n",
       "      <td>...</td>\n",
       "      <td>...</td>\n",
       "      <td>...</td>\n",
       "      <td>...</td>\n",
       "    </tr>\n",
       "    <tr>\n",
       "      <th>7243</th>\n",
       "      <td>crew-quest-planet-nine</td>\n",
       "      <td>https://boardgamegeek.com/image/6091311/crew-quest-planet-nine</td>\n",
       "      <td>6091311</td>\n",
       "      <td>None</td>\n",
       "    </tr>\n",
       "    <tr>\n",
       "      <th>7244</th>\n",
       "      <td>crew-quest-planet-nine</td>\n",
       "      <td>https://boardgamegeek.com/image/6091312/crew-quest-planet-nine</td>\n",
       "      <td>6091312</td>\n",
       "      <td>None</td>\n",
       "    </tr>\n",
       "    <tr>\n",
       "      <th>7245</th>\n",
       "      <td>crew-quest-planet-nine</td>\n",
       "      <td>https://boardgamegeek.com/image/6091313/crew-quest-planet-nine</td>\n",
       "      <td>6091313</td>\n",
       "      <td>None</td>\n",
       "    </tr>\n",
       "    <tr>\n",
       "      <th>7246</th>\n",
       "      <td>crew-quest-planet-nine</td>\n",
       "      <td>https://boardgamegeek.com/image/6091314/crew-quest-planet-nine</td>\n",
       "      <td>6091314</td>\n",
       "      <td>None</td>\n",
       "    </tr>\n",
       "    <tr>\n",
       "      <th>7247</th>\n",
       "      <td>crew-quest-planet-nine</td>\n",
       "      <td>https://boardgamegeek.com/image/6091315/crew-quest-planet-nine</td>\n",
       "      <td>6091315</td>\n",
       "      <td>None</td>\n",
       "    </tr>\n",
       "  </tbody>\n",
       "</table>\n",
       "<p>2114 rows × 4 columns</p>\n",
       "</div>"
      ],
      "text/plain": [
       "                   game_name  \\\n",
       "5134      food-chain-magnate   \n",
       "5135      food-chain-magnate   \n",
       "5136      food-chain-magnate   \n",
       "5137      food-chain-magnate   \n",
       "5138      food-chain-magnate   \n",
       "...                      ...   \n",
       "7243  crew-quest-planet-nine   \n",
       "7244  crew-quest-planet-nine   \n",
       "7245  crew-quest-planet-nine   \n",
       "7246  crew-quest-planet-nine   \n",
       "7247  crew-quest-planet-nine   \n",
       "\n",
       "                                                          image_page  \\\n",
       "5134      https://boardgamegeek.com/image/2649434/food-chain-magnate   \n",
       "5135      https://boardgamegeek.com/image/2649623/food-chain-magnate   \n",
       "5136      https://boardgamegeek.com/image/2652009/food-chain-magnate   \n",
       "5137      https://boardgamegeek.com/image/2654169/food-chain-magnate   \n",
       "5138      https://boardgamegeek.com/image/2659708/food-chain-magnate   \n",
       "...                                                              ...   \n",
       "7243  https://boardgamegeek.com/image/6091311/crew-quest-planet-nine   \n",
       "7244  https://boardgamegeek.com/image/6091312/crew-quest-planet-nine   \n",
       "7245  https://boardgamegeek.com/image/6091313/crew-quest-planet-nine   \n",
       "7246  https://boardgamegeek.com/image/6091314/crew-quest-planet-nine   \n",
       "7247  https://boardgamegeek.com/image/6091315/crew-quest-planet-nine   \n",
       "\n",
       "     image_number direct_link  \n",
       "5134      2649434        None  \n",
       "5135      2649623        None  \n",
       "5136      2652009        None  \n",
       "5137      2654169        None  \n",
       "5138      2659708        None  \n",
       "...           ...         ...  \n",
       "7243      6091311        None  \n",
       "7244      6091312        None  \n",
       "7245      6091313        None  \n",
       "7246      6091314        None  \n",
       "7247      6091315        None  \n",
       "\n",
       "[2114 rows x 4 columns]"
      ]
     },
     "execution_count": 18,
     "metadata": {},
     "output_type": "execute_result"
    }
   ],
   "source": [
    "df2.tail(2114)"
   ]
  },
  {
   "cell_type": "code",
   "execution_count": 20,
   "id": "2a0ea096-8b07-41d3-9df2-1e4fb58ac24f",
   "metadata": {},
   "outputs": [],
   "source": [
    "pd.to_pickle(df2,'df_images')"
   ]
  },
  {
   "cell_type": "code",
   "execution_count": 21,
   "id": "7f9603d1-dad3-43fe-8bb9-1e05956f9c76",
   "metadata": {},
   "outputs": [],
   "source": [
    "pd.to_pickle(df2.head(),'df_images_head')"
   ]
  },
  {
   "cell_type": "code",
   "execution_count": 22,
   "id": "c5797a9f-8f03-4d3b-82f5-9801db12ddfb",
   "metadata": {},
   "outputs": [],
   "source": [
    "pd.to_pickle(df2.tail(2114),'df_images_tail')"
   ]
  },
  {
   "cell_type": "code",
   "execution_count": null,
   "id": "a8261ff0-2926-48ea-871a-30f24d4d76f9",
   "metadata": {},
   "outputs": [],
   "source": []
  },
  {
   "cell_type": "code",
   "execution_count": null,
   "id": "b32546b6-b39c-45fb-b582-3937ed39761b",
   "metadata": {},
   "outputs": [],
   "source": []
  },
  {
   "cell_type": "markdown",
   "id": "9287299d-7d35-478b-bfeb-4382f5845a48",
   "metadata": {},
   "source": [
    "# Testing"
   ]
  },
  {
   "cell_type": "markdown",
   "id": "f4c2f127-8062-46cf-b119-785de8e22c71",
   "metadata": {
    "jp-MarkdownHeadingCollapsed": true,
    "tags": []
   },
   "source": [
    "### Testing"
   ]
  },
  {
   "cell_type": "code",
   "execution_count": 28,
   "id": "7d7cee18-28d2-45ed-bf72-210bb3c3b02d",
   "metadata": {
    "collapsed": true,
    "jupyter": {
     "outputs_hidden": true
    },
    "tags": []
   },
   "outputs": [
    {
     "data": {
      "text/plain": [
       "[]"
      ]
     },
     "execution_count": 28,
     "metadata": {},
     "output_type": "execute_result"
    }
   ],
   "source": [
    "soup_t.find_all(\"a\",src=re.compile(r'geekdo-images'))"
   ]
  },
  {
   "cell_type": "code",
   "execution_count": 2,
   "id": "0de893d5-eb87-4424-b5d6-0f749e14a053",
   "metadata": {},
   "outputs": [],
   "source": [
    "page_t = requests.get('https://boardgamegeek.com/image/2669798')"
   ]
  },
  {
   "cell_type": "code",
   "execution_count": 3,
   "id": "64868e71-25a3-4739-b9ac-e747d9ec4d62",
   "metadata": {},
   "outputs": [],
   "source": [
    "soup_t = bs4(page_t.content, 'html.parser')"
   ]
  },
  {
   "cell_type": "code",
   "execution_count": 4,
   "id": "589e3ec2-35d3-4c44-89e6-f3d849db0ae2",
   "metadata": {},
   "outputs": [],
   "source": [
    "def extract_img(image_number): \n",
    "    page = requests.get('https://boardgamegeek.com/image/'+str(image_number))\n",
    "    soup = bs4(page.content, 'html.parser')\n",
    "    uncleaned_image_link=(str(soup.find('link',href=re.compile(r'geekdo-images'))))\n",
    "    patt= re.compile(r'https.*'+str(image_number)+r'[^\"]*')\n",
    "    image_link=patt.findall(uncleaned_image_link) #add an assertion that the list is nonempty\n",
    "    \n",
    "    uncleaned_game_name=(str(soup.find('link',rel='canonical')))\n",
    "    patt2= re.compile(str(image_number)+r'/[^\"]*')\n",
    "    game_name=patt2.findall(uncleaned_game_name) #add an assertion that the list is nonempty\n",
    "    if len(image_link)==0 or len(game_name)==0:\n",
    "        return 'invalid', uncleaned_image_link +'\\n' + uncleaned_game_name +'\\n' +str(soup)\n",
    "    return game_name[0][8:], image_link[0]  #,page, soup, uncleaned_image_link, patt,"
   ]
  },
  {
   "cell_type": "code",
   "execution_count": 9,
   "id": "8b9a04f5-eae3-4d36-b6ff-38ab25db56d5",
   "metadata": {},
   "outputs": [],
   "source": [
    "def get_link(image_number):\n",
    "    page = requests.get('https://boardgamegeek.com/image/'+str(image_number))\n",
    "    if page.status_code==404:\n",
    "        game_name='404'\n",
    "        image_link=None\n",
    "    else:\n",
    "        soup = bs4(page.content, 'html.parser')\n",
    "        uncleaned_image_link=(str(soup.find('link',href=re.compile(r'geekdo-images')))) #isolates the full link element to the image\n",
    "        patt= re.compile(r'https.*'+str(image_number)+r'[^\"]*')  \n",
    "        image_link=patt.findall(uncleaned_image_link) #removes everything except the link iteself\n",
    "\n",
    "        uncleaned_game_name=(str(soup.find('link',rel='canonical'))) \n",
    "        patt2= re.compile(str(image_number)+r'/[^\"]*')\n",
    "        game_name=patt2.findall(uncleaned_game_name)\n",
    "\n",
    "        if image_link==[] or game_name==[]:\n",
    "            game_name=str(page.status_code)\n",
    "            image_link= None\n",
    "        else: \n",
    "            game_name=game_name[0][8:]\n",
    "            image_link=image_link[0]\n",
    "\n",
    "    return np.asarray([image_number,game_name,image_link])"
   ]
  },
  {
   "cell_type": "code",
   "execution_count": 5,
   "id": "f3338278-ee06-4804-b48b-4e288af3456f",
   "metadata": {},
   "outputs": [],
   "source": [
    "page_t = requests.get('https://boardgamegeek.com/image/'+str(2669812))\n",
    "soup_t = bs4(page_t.content, 'html.parser')\n",
    "uncleaned_image_link_t=(str(soup_t.find('link',href=re.compile(r'geekdo-images'))))\n",
    "patt_t= re.compile(r'https.*'+str(2669812)+r'[^\"]*')\n",
    "image_link_t=patt_t.findall(uncleaned_image_link_t)"
   ]
  },
  {
   "cell_type": "code",
   "execution_count": 6,
   "id": "f5268a15-8c63-454c-9057-43ec8c3c410b",
   "metadata": {},
   "outputs": [
    {
     "data": {
      "text/plain": [
       "False"
      ]
     },
     "execution_count": 8,
     "metadata": {},
     "output_type": "execute_result"
    }
   ],
   "source": [
    "page_t.status_code==404"
   ]
  },
  {
   "cell_type": "code",
   "execution_count": 10,
   "id": "68f2ea61-4f0f-4987-ab8b-2404fcf2db18",
   "metadata": {},
   "outputs": [
    {
     "data": {
      "text/plain": [
       "('gloomhaven',\n",
       " 'https://cf.geekdo-images.com/HNMHfQ49oxs8ig-IEmNQWQ__imagepage/img/nNo4l2NjXToU3DCoBnMIbDExJu0=/fit-in/900x600/filters:no_upscale():strip_icc()/pic2669798.png')"
      ]
     },
     "execution_count": 10,
     "metadata": {},
     "output_type": "execute_result"
    }
   ],
   "source": [
    "extract_img(2669798)"
   ]
  },
  {
   "cell_type": "code",
   "execution_count": 11,
   "id": "8aa0078f-4cd0-4edd-ade9-e4d124a0ad55",
   "metadata": {},
   "outputs": [
    {
     "data": {
      "text/plain": [
       "('jmaydet',\n",
       " 'https://cf.geekdo-images.com/0WHEngboBp96fNQmqVNjiQ__imagepage/img/95blS1S21dYclnS_bMi7ws_pRq8=/fit-in/900x600/filters:no_upscale():strip_icc()/pic2669900.jpg')"
      ]
     },
     "execution_count": 11,
     "metadata": {},
     "output_type": "execute_result"
    }
   ],
   "source": [
    "extract_img(2669900)"
   ]
  },
  {
   "cell_type": "markdown",
   "id": "a5c4084b-f971-4d6b-acd2-242a43c90969",
   "metadata": {
    "tags": []
   },
   "source": [
    "### Testing for: \"Working with the dataframe of game_links\""
   ]
  },
  {
   "cell_type": "markdown",
   "id": "320b1f7e-5ee1-4d52-9648-f9d4dd25041c",
   "metadata": {},
   "source": [
    "Need to create a dataframe with rows: individual game links using columns=[game_name, image_number, image_url] using pivot? No, pivot doesn't seem right. TBD"
   ]
  },
  {
   "cell_type": "code",
   "execution_count": 49,
   "id": "ceef747a-b965-40a0-adee-68fdb42b411e",
   "metadata": {},
   "outputs": [],
   "source": [
    "df=pd.read_csv('game_links_selenium.csv',header=None,index_col=0)"
   ]
  },
  {
   "cell_type": "code",
   "execution_count": 50,
   "id": "9cda1477-e1eb-46fa-83dd-e4fdfb8cc807",
   "metadata": {},
   "outputs": [
    {
     "data": {
      "text/html": [
       "<div>\n",
       "<style scoped>\n",
       "    .dataframe tbody tr th:only-of-type {\n",
       "        vertical-align: middle;\n",
       "    }\n",
       "\n",
       "    .dataframe tbody tr th {\n",
       "        vertical-align: top;\n",
       "    }\n",
       "\n",
       "    .dataframe thead th {\n",
       "        text-align: right;\n",
       "    }\n",
       "</style>\n",
       "<table border=\"1\" class=\"dataframe\">\n",
       "  <thead>\n",
       "    <tr style=\"text-align: right;\">\n",
       "      <th></th>\n",
       "      <th>1</th>\n",
       "      <th>2</th>\n",
       "      <th>3</th>\n",
       "      <th>4</th>\n",
       "      <th>5</th>\n",
       "      <th>6</th>\n",
       "      <th>7</th>\n",
       "      <th>8</th>\n",
       "      <th>9</th>\n",
       "      <th>10</th>\n",
       "      <th>...</th>\n",
       "      <th>142</th>\n",
       "      <th>143</th>\n",
       "      <th>144</th>\n",
       "      <th>145</th>\n",
       "      <th>146</th>\n",
       "      <th>147</th>\n",
       "      <th>148</th>\n",
       "      <th>149</th>\n",
       "      <th>150</th>\n",
       "      <th>151</th>\n",
       "    </tr>\n",
       "    <tr>\n",
       "      <th>0</th>\n",
       "      <th></th>\n",
       "      <th></th>\n",
       "      <th></th>\n",
       "      <th></th>\n",
       "      <th></th>\n",
       "      <th></th>\n",
       "      <th></th>\n",
       "      <th></th>\n",
       "      <th></th>\n",
       "      <th></th>\n",
       "      <th></th>\n",
       "      <th></th>\n",
       "      <th></th>\n",
       "      <th></th>\n",
       "      <th></th>\n",
       "      <th></th>\n",
       "      <th></th>\n",
       "      <th></th>\n",
       "      <th></th>\n",
       "      <th></th>\n",
       "      <th></th>\n",
       "    </tr>\n",
       "  </thead>\n",
       "  <tbody>\n",
       "    <tr>\n",
       "      <th>gloomhaven</th>\n",
       "      <td>https://boardgamegeek.com/image/2437871/gloomhaven</td>\n",
       "      <td>https://boardgamegeek.com/image/2556210/gloomhaven</td>\n",
       "      <td>https://boardgamegeek.com/image/2563554/gloomhaven</td>\n",
       "      <td>https://boardgamegeek.com/image/2571642/gloomhaven</td>\n",
       "      <td>https://boardgamegeek.com/image/2579136/gloomhaven</td>\n",
       "      <td>https://boardgamegeek.com/image/2586084/gloomhaven</td>\n",
       "      <td>https://boardgamegeek.com/image/2594721/gloomhaven</td>\n",
       "      <td>https://boardgamegeek.com/image/2602482/gloomhaven</td>\n",
       "      <td>https://boardgamegeek.com/image/2632373/gloomhaven</td>\n",
       "      <td>https://boardgamegeek.com/image/2632375/gloomhaven</td>\n",
       "      <td>...</td>\n",
       "      <td>https://boardgamegeek.com/image/3392632/gloomhaven</td>\n",
       "      <td>https://boardgamegeek.com/image/3392633/gloomhaven</td>\n",
       "      <td>https://boardgamegeek.com/image/3392634/gloomhaven</td>\n",
       "      <td>https://boardgamegeek.com/image/3392635/gloomhaven</td>\n",
       "      <td>https://boardgamegeek.com/image/3392636/gloomhaven</td>\n",
       "      <td>https://boardgamegeek.com/image/3392664/gloomhaven</td>\n",
       "      <td>https://boardgamegeek.com/image/3392667/gloomhaven</td>\n",
       "      <td>https://boardgamegeek.com/image/3392669/gloomhaven</td>\n",
       "      <td>https://boardgamegeek.com/image/3392671/gloomhaven</td>\n",
       "      <td>https://boardgamegeek.com/image/3392672/gloomhaven</td>\n",
       "    </tr>\n",
       "    <tr>\n",
       "      <th>brass-birmingham</th>\n",
       "      <td>https://boardgamegeek.com/image/3490053/brass-birmingham</td>\n",
       "      <td>https://boardgamegeek.com/image/3490095/brass-birmingham</td>\n",
       "      <td>https://boardgamegeek.com/image/3500869/brass-birmingham</td>\n",
       "      <td>https://boardgamegeek.com/image/3509697/brass-birmingham</td>\n",
       "      <td>https://boardgamegeek.com/image/3509698/brass-birmingham</td>\n",
       "      <td>https://boardgamegeek.com/image/3549793/brass-birmingham</td>\n",
       "      <td>https://boardgamegeek.com/image/3733951/brass-birmingham</td>\n",
       "      <td>https://boardgamegeek.com/image/3733952/brass-birmingham</td>\n",
       "      <td>https://boardgamegeek.com/image/4099876/brass-birmingham</td>\n",
       "      <td>https://boardgamegeek.com/image/4099877/brass-birmingham</td>\n",
       "      <td>...</td>\n",
       "      <td>https://boardgamegeek.com/image/4310169/brass-birmingham</td>\n",
       "      <td>https://boardgamegeek.com/image/4311986/brass-birmingham</td>\n",
       "      <td>https://boardgamegeek.com/image/4316215/brass-birmingham</td>\n",
       "      <td>https://boardgamegeek.com/image/4317265/brass-birmingham</td>\n",
       "      <td>https://boardgamegeek.com/image/4325228/brass-birmingham</td>\n",
       "      <td>https://boardgamegeek.com/image/4325229/brass-birmingham</td>\n",
       "      <td>https://boardgamegeek.com/image/4325230/brass-birmingham</td>\n",
       "      <td>https://boardgamegeek.com/image/4325231/brass-birmingham</td>\n",
       "      <td>https://boardgamegeek.com/image/4341198/brass-birmingham</td>\n",
       "      <td>https://boardgamegeek.com/image/4346280/brass-birmingham</td>\n",
       "    </tr>\n",
       "    <tr>\n",
       "      <th>pandemic-legacy-season-1</th>\n",
       "      <td>https://boardgamegeek.com/image/2452831/pandemic-legacy-season-1</td>\n",
       "      <td>https://boardgamegeek.com/image/2474195/pandemic-legacy-season-1</td>\n",
       "      <td>https://boardgamegeek.com/image/2474196/pandemic-legacy-season-1</td>\n",
       "      <td>https://boardgamegeek.com/image/2488668/pandemic-legacy-season-1</td>\n",
       "      <td>https://boardgamegeek.com/image/2488706/pandemic-legacy-season-1</td>\n",
       "      <td>https://boardgamegeek.com/image/2620676/pandemic-legacy-season-1</td>\n",
       "      <td>https://boardgamegeek.com/image/2649655/pandemic-legacy-season-1</td>\n",
       "      <td>https://boardgamegeek.com/image/2649656/pandemic-legacy-season-1</td>\n",
       "      <td>https://boardgamegeek.com/image/2649657/pandemic-legacy-season-1</td>\n",
       "      <td>https://boardgamegeek.com/image/2649659/pandemic-legacy-season-1</td>\n",
       "      <td>...</td>\n",
       "      <td>https://boardgamegeek.com/image/2807432/pandemic-legacy-season-1</td>\n",
       "      <td>https://boardgamegeek.com/image/2808169/pandemic-legacy-season-1</td>\n",
       "      <td>https://boardgamegeek.com/image/2809485/pandemic-legacy-season-1</td>\n",
       "      <td>https://boardgamegeek.com/image/2809486/pandemic-legacy-season-1</td>\n",
       "      <td>https://boardgamegeek.com/image/2809817/pandemic-legacy-season-1</td>\n",
       "      <td>https://boardgamegeek.com/image/2813424/pandemic-legacy-season-1</td>\n",
       "      <td>https://boardgamegeek.com/image/2814770/pandemic-legacy-season-1</td>\n",
       "      <td>https://boardgamegeek.com/image/2817971/pandemic-legacy-season-1</td>\n",
       "      <td>https://boardgamegeek.com/image/2817972/pandemic-legacy-season-1</td>\n",
       "      <td>https://boardgamegeek.com/image/2817974/pandemic-legacy-season-1</td>\n",
       "    </tr>\n",
       "    <tr>\n",
       "      <th>ark-nova</th>\n",
       "      <td>https://boardgamegeek.com/image/6293412/ark-nova</td>\n",
       "      <td>https://boardgamegeek.com/image/6294036/ark-nova</td>\n",
       "      <td>https://boardgamegeek.com/image/6294513/ark-nova</td>\n",
       "      <td>https://boardgamegeek.com/image/6398292/ark-nova</td>\n",
       "      <td>https://boardgamegeek.com/image/6417715/ark-nova</td>\n",
       "      <td>https://boardgamegeek.com/image/6428595/ark-nova</td>\n",
       "      <td>https://boardgamegeek.com/image/6446792/ark-nova</td>\n",
       "      <td>https://boardgamegeek.com/image/6452574/ark-nova</td>\n",
       "      <td>https://boardgamegeek.com/image/6452609/ark-nova</td>\n",
       "      <td>https://boardgamegeek.com/image/6453563/ark-nova</td>\n",
       "      <td>...</td>\n",
       "      <td>https://boardgamegeek.com/image/6701394/ark-nova</td>\n",
       "      <td>https://boardgamegeek.com/image/6705950/ark-nova</td>\n",
       "      <td>https://boardgamegeek.com/image/6705951/ark-nova</td>\n",
       "      <td>https://boardgamegeek.com/image/6708367/ark-nova</td>\n",
       "      <td>https://boardgamegeek.com/image/6708368/ark-nova</td>\n",
       "      <td>https://boardgamegeek.com/image/6708369/ark-nova</td>\n",
       "      <td>https://boardgamegeek.com/image/6708370/ark-nova</td>\n",
       "      <td>https://boardgamegeek.com/image/6708371/ark-nova</td>\n",
       "      <td>https://boardgamegeek.com/image/6708372/ark-nova</td>\n",
       "      <td>https://boardgamegeek.com/image/6708373/ark-nova</td>\n",
       "    </tr>\n",
       "    <tr>\n",
       "      <th>terraforming-mars</th>\n",
       "      <td>https://boardgamegeek.com/image/3536616/terraforming-mars</td>\n",
       "      <td>https://boardgamegeek.com/image/3536618/terraforming-mars</td>\n",
       "      <td>https://boardgamegeek.com/image/3538816/terraforming-mars</td>\n",
       "      <td>https://boardgamegeek.com/image/3538817/terraforming-mars</td>\n",
       "      <td>https://boardgamegeek.com/image/3538818/terraforming-mars</td>\n",
       "      <td>https://boardgamegeek.com/image/3540110/terraforming-mars</td>\n",
       "      <td>https://boardgamegeek.com/image/3540716/terraforming-mars</td>\n",
       "      <td>https://boardgamegeek.com/image/3541149/terraforming-mars</td>\n",
       "      <td>https://boardgamegeek.com/image/3542439/terraforming-mars</td>\n",
       "      <td>https://boardgamegeek.com/image/3542440/terraforming-mars</td>\n",
       "      <td>...</td>\n",
       "      <td>https://boardgamegeek.com/image/3685829/terraforming-mars</td>\n",
       "      <td>https://boardgamegeek.com/image/3685830/terraforming-mars</td>\n",
       "      <td>https://boardgamegeek.com/image/3686050/terraforming-mars</td>\n",
       "      <td>https://boardgamegeek.com/image/3686462/terraforming-mars</td>\n",
       "      <td>https://boardgamegeek.com/image/3687870/terraforming-mars</td>\n",
       "      <td>https://boardgamegeek.com/image/3688352/terraforming-mars</td>\n",
       "      <td>https://boardgamegeek.com/image/3688353/terraforming-mars</td>\n",
       "      <td>https://boardgamegeek.com/image/3688354/terraforming-mars</td>\n",
       "      <td>https://boardgamegeek.com/image/3689488/terraforming-mars</td>\n",
       "      <td>https://boardgamegeek.com/image/3690388/terraforming-mars</td>\n",
       "    </tr>\n",
       "  </tbody>\n",
       "</table>\n",
       "<p>5 rows × 151 columns</p>\n",
       "</div>"
      ],
      "text/plain": [
       "                                                                                       1    \\\n",
       "0                                                                                            \n",
       "gloomhaven                              https://boardgamegeek.com/image/2437871/gloomhaven   \n",
       "brass-birmingham                  https://boardgamegeek.com/image/3490053/brass-birmingham   \n",
       "pandemic-legacy-season-1  https://boardgamegeek.com/image/2452831/pandemic-legacy-season-1   \n",
       "ark-nova                                  https://boardgamegeek.com/image/6293412/ark-nova   \n",
       "terraforming-mars                https://boardgamegeek.com/image/3536616/terraforming-mars   \n",
       "\n",
       "                                                                                       2    \\\n",
       "0                                                                                            \n",
       "gloomhaven                              https://boardgamegeek.com/image/2556210/gloomhaven   \n",
       "brass-birmingham                  https://boardgamegeek.com/image/3490095/brass-birmingham   \n",
       "pandemic-legacy-season-1  https://boardgamegeek.com/image/2474195/pandemic-legacy-season-1   \n",
       "ark-nova                                  https://boardgamegeek.com/image/6294036/ark-nova   \n",
       "terraforming-mars                https://boardgamegeek.com/image/3536618/terraforming-mars   \n",
       "\n",
       "                                                                                       3    \\\n",
       "0                                                                                            \n",
       "gloomhaven                              https://boardgamegeek.com/image/2563554/gloomhaven   \n",
       "brass-birmingham                  https://boardgamegeek.com/image/3500869/brass-birmingham   \n",
       "pandemic-legacy-season-1  https://boardgamegeek.com/image/2474196/pandemic-legacy-season-1   \n",
       "ark-nova                                  https://boardgamegeek.com/image/6294513/ark-nova   \n",
       "terraforming-mars                https://boardgamegeek.com/image/3538816/terraforming-mars   \n",
       "\n",
       "                                                                                       4    \\\n",
       "0                                                                                            \n",
       "gloomhaven                              https://boardgamegeek.com/image/2571642/gloomhaven   \n",
       "brass-birmingham                  https://boardgamegeek.com/image/3509697/brass-birmingham   \n",
       "pandemic-legacy-season-1  https://boardgamegeek.com/image/2488668/pandemic-legacy-season-1   \n",
       "ark-nova                                  https://boardgamegeek.com/image/6398292/ark-nova   \n",
       "terraforming-mars                https://boardgamegeek.com/image/3538817/terraforming-mars   \n",
       "\n",
       "                                                                                       5    \\\n",
       "0                                                                                            \n",
       "gloomhaven                              https://boardgamegeek.com/image/2579136/gloomhaven   \n",
       "brass-birmingham                  https://boardgamegeek.com/image/3509698/brass-birmingham   \n",
       "pandemic-legacy-season-1  https://boardgamegeek.com/image/2488706/pandemic-legacy-season-1   \n",
       "ark-nova                                  https://boardgamegeek.com/image/6417715/ark-nova   \n",
       "terraforming-mars                https://boardgamegeek.com/image/3538818/terraforming-mars   \n",
       "\n",
       "                                                                                       6    \\\n",
       "0                                                                                            \n",
       "gloomhaven                              https://boardgamegeek.com/image/2586084/gloomhaven   \n",
       "brass-birmingham                  https://boardgamegeek.com/image/3549793/brass-birmingham   \n",
       "pandemic-legacy-season-1  https://boardgamegeek.com/image/2620676/pandemic-legacy-season-1   \n",
       "ark-nova                                  https://boardgamegeek.com/image/6428595/ark-nova   \n",
       "terraforming-mars                https://boardgamegeek.com/image/3540110/terraforming-mars   \n",
       "\n",
       "                                                                                       7    \\\n",
       "0                                                                                            \n",
       "gloomhaven                              https://boardgamegeek.com/image/2594721/gloomhaven   \n",
       "brass-birmingham                  https://boardgamegeek.com/image/3733951/brass-birmingham   \n",
       "pandemic-legacy-season-1  https://boardgamegeek.com/image/2649655/pandemic-legacy-season-1   \n",
       "ark-nova                                  https://boardgamegeek.com/image/6446792/ark-nova   \n",
       "terraforming-mars                https://boardgamegeek.com/image/3540716/terraforming-mars   \n",
       "\n",
       "                                                                                       8    \\\n",
       "0                                                                                            \n",
       "gloomhaven                              https://boardgamegeek.com/image/2602482/gloomhaven   \n",
       "brass-birmingham                  https://boardgamegeek.com/image/3733952/brass-birmingham   \n",
       "pandemic-legacy-season-1  https://boardgamegeek.com/image/2649656/pandemic-legacy-season-1   \n",
       "ark-nova                                  https://boardgamegeek.com/image/6452574/ark-nova   \n",
       "terraforming-mars                https://boardgamegeek.com/image/3541149/terraforming-mars   \n",
       "\n",
       "                                                                                       9    \\\n",
       "0                                                                                            \n",
       "gloomhaven                              https://boardgamegeek.com/image/2632373/gloomhaven   \n",
       "brass-birmingham                  https://boardgamegeek.com/image/4099876/brass-birmingham   \n",
       "pandemic-legacy-season-1  https://boardgamegeek.com/image/2649657/pandemic-legacy-season-1   \n",
       "ark-nova                                  https://boardgamegeek.com/image/6452609/ark-nova   \n",
       "terraforming-mars                https://boardgamegeek.com/image/3542439/terraforming-mars   \n",
       "\n",
       "                                                                                       10   \\\n",
       "0                                                                                            \n",
       "gloomhaven                              https://boardgamegeek.com/image/2632375/gloomhaven   \n",
       "brass-birmingham                  https://boardgamegeek.com/image/4099877/brass-birmingham   \n",
       "pandemic-legacy-season-1  https://boardgamegeek.com/image/2649659/pandemic-legacy-season-1   \n",
       "ark-nova                                  https://boardgamegeek.com/image/6453563/ark-nova   \n",
       "terraforming-mars                https://boardgamegeek.com/image/3542440/terraforming-mars   \n",
       "\n",
       "                          ...  \\\n",
       "0                         ...   \n",
       "gloomhaven                ...   \n",
       "brass-birmingham          ...   \n",
       "pandemic-legacy-season-1  ...   \n",
       "ark-nova                  ...   \n",
       "terraforming-mars         ...   \n",
       "\n",
       "                                                                                       142  \\\n",
       "0                                                                                            \n",
       "gloomhaven                              https://boardgamegeek.com/image/3392632/gloomhaven   \n",
       "brass-birmingham                  https://boardgamegeek.com/image/4310169/brass-birmingham   \n",
       "pandemic-legacy-season-1  https://boardgamegeek.com/image/2807432/pandemic-legacy-season-1   \n",
       "ark-nova                                  https://boardgamegeek.com/image/6701394/ark-nova   \n",
       "terraforming-mars                https://boardgamegeek.com/image/3685829/terraforming-mars   \n",
       "\n",
       "                                                                                       143  \\\n",
       "0                                                                                            \n",
       "gloomhaven                              https://boardgamegeek.com/image/3392633/gloomhaven   \n",
       "brass-birmingham                  https://boardgamegeek.com/image/4311986/brass-birmingham   \n",
       "pandemic-legacy-season-1  https://boardgamegeek.com/image/2808169/pandemic-legacy-season-1   \n",
       "ark-nova                                  https://boardgamegeek.com/image/6705950/ark-nova   \n",
       "terraforming-mars                https://boardgamegeek.com/image/3685830/terraforming-mars   \n",
       "\n",
       "                                                                                       144  \\\n",
       "0                                                                                            \n",
       "gloomhaven                              https://boardgamegeek.com/image/3392634/gloomhaven   \n",
       "brass-birmingham                  https://boardgamegeek.com/image/4316215/brass-birmingham   \n",
       "pandemic-legacy-season-1  https://boardgamegeek.com/image/2809485/pandemic-legacy-season-1   \n",
       "ark-nova                                  https://boardgamegeek.com/image/6705951/ark-nova   \n",
       "terraforming-mars                https://boardgamegeek.com/image/3686050/terraforming-mars   \n",
       "\n",
       "                                                                                       145  \\\n",
       "0                                                                                            \n",
       "gloomhaven                              https://boardgamegeek.com/image/3392635/gloomhaven   \n",
       "brass-birmingham                  https://boardgamegeek.com/image/4317265/brass-birmingham   \n",
       "pandemic-legacy-season-1  https://boardgamegeek.com/image/2809486/pandemic-legacy-season-1   \n",
       "ark-nova                                  https://boardgamegeek.com/image/6708367/ark-nova   \n",
       "terraforming-mars                https://boardgamegeek.com/image/3686462/terraforming-mars   \n",
       "\n",
       "                                                                                       146  \\\n",
       "0                                                                                            \n",
       "gloomhaven                              https://boardgamegeek.com/image/3392636/gloomhaven   \n",
       "brass-birmingham                  https://boardgamegeek.com/image/4325228/brass-birmingham   \n",
       "pandemic-legacy-season-1  https://boardgamegeek.com/image/2809817/pandemic-legacy-season-1   \n",
       "ark-nova                                  https://boardgamegeek.com/image/6708368/ark-nova   \n",
       "terraforming-mars                https://boardgamegeek.com/image/3687870/terraforming-mars   \n",
       "\n",
       "                                                                                       147  \\\n",
       "0                                                                                            \n",
       "gloomhaven                              https://boardgamegeek.com/image/3392664/gloomhaven   \n",
       "brass-birmingham                  https://boardgamegeek.com/image/4325229/brass-birmingham   \n",
       "pandemic-legacy-season-1  https://boardgamegeek.com/image/2813424/pandemic-legacy-season-1   \n",
       "ark-nova                                  https://boardgamegeek.com/image/6708369/ark-nova   \n",
       "terraforming-mars                https://boardgamegeek.com/image/3688352/terraforming-mars   \n",
       "\n",
       "                                                                                       148  \\\n",
       "0                                                                                            \n",
       "gloomhaven                              https://boardgamegeek.com/image/3392667/gloomhaven   \n",
       "brass-birmingham                  https://boardgamegeek.com/image/4325230/brass-birmingham   \n",
       "pandemic-legacy-season-1  https://boardgamegeek.com/image/2814770/pandemic-legacy-season-1   \n",
       "ark-nova                                  https://boardgamegeek.com/image/6708370/ark-nova   \n",
       "terraforming-mars                https://boardgamegeek.com/image/3688353/terraforming-mars   \n",
       "\n",
       "                                                                                       149  \\\n",
       "0                                                                                            \n",
       "gloomhaven                              https://boardgamegeek.com/image/3392669/gloomhaven   \n",
       "brass-birmingham                  https://boardgamegeek.com/image/4325231/brass-birmingham   \n",
       "pandemic-legacy-season-1  https://boardgamegeek.com/image/2817971/pandemic-legacy-season-1   \n",
       "ark-nova                                  https://boardgamegeek.com/image/6708371/ark-nova   \n",
       "terraforming-mars                https://boardgamegeek.com/image/3688354/terraforming-mars   \n",
       "\n",
       "                                                                                       150  \\\n",
       "0                                                                                            \n",
       "gloomhaven                              https://boardgamegeek.com/image/3392671/gloomhaven   \n",
       "brass-birmingham                  https://boardgamegeek.com/image/4341198/brass-birmingham   \n",
       "pandemic-legacy-season-1  https://boardgamegeek.com/image/2817972/pandemic-legacy-season-1   \n",
       "ark-nova                                  https://boardgamegeek.com/image/6708372/ark-nova   \n",
       "terraforming-mars                https://boardgamegeek.com/image/3689488/terraforming-mars   \n",
       "\n",
       "                                                                                       151  \n",
       "0                                                                                           \n",
       "gloomhaven                              https://boardgamegeek.com/image/3392672/gloomhaven  \n",
       "brass-birmingham                  https://boardgamegeek.com/image/4346280/brass-birmingham  \n",
       "pandemic-legacy-season-1  https://boardgamegeek.com/image/2817974/pandemic-legacy-season-1  \n",
       "ark-nova                                  https://boardgamegeek.com/image/6708373/ark-nova  \n",
       "terraforming-mars                https://boardgamegeek.com/image/3690388/terraforming-mars  \n",
       "\n",
       "[5 rows x 151 columns]"
      ]
     },
     "execution_count": 50,
     "metadata": {},
     "output_type": "execute_result"
    }
   ],
   "source": [
    "df.head()"
   ]
  },
  {
   "cell_type": "raw",
   "id": "da4d0ad6-aabb-4243-812f-1356dcabf07c",
   "metadata": {},
   "source": [
    "df.isnull().sum(axis=1)"
   ]
  },
  {
   "cell_type": "code",
   "execution_count": 51,
   "id": "4990b320-a1ee-425a-9d1d-a98d4d0f1ae6",
   "metadata": {},
   "outputs": [],
   "source": [
    "df.drop(['crew-mission-deep-sea','pandemic-legacy-season-2'],axis=0,inplace=True)"
   ]
  },
  {
   "cell_type": "code",
   "execution_count": 52,
   "id": "dadaa2c1-ad48-43f2-9fe0-b7c278a88930",
   "metadata": {},
   "outputs": [
    {
     "data": {
      "text/plain": [
       "0"
      ]
     },
     "execution_count": 52,
     "metadata": {},
     "output_type": "execute_result"
    }
   ],
   "source": [
    "df.isnull().sum(axis=1).sum()"
   ]
  },
  {
   "cell_type": "code",
   "execution_count": 53,
   "id": "0f5b4fac-4b80-49b2-a8c8-8740ffe3596a",
   "metadata": {},
   "outputs": [
    {
     "data": {
      "text/html": [
       "<div>\n",
       "<style scoped>\n",
       "    .dataframe tbody tr th:only-of-type {\n",
       "        vertical-align: middle;\n",
       "    }\n",
       "\n",
       "    .dataframe tbody tr th {\n",
       "        vertical-align: top;\n",
       "    }\n",
       "\n",
       "    .dataframe thead th {\n",
       "        text-align: right;\n",
       "    }\n",
       "</style>\n",
       "<table border=\"1\" class=\"dataframe\">\n",
       "  <thead>\n",
       "    <tr style=\"text-align: right;\">\n",
       "      <th></th>\n",
       "      <th>1</th>\n",
       "      <th>2</th>\n",
       "      <th>3</th>\n",
       "      <th>4</th>\n",
       "      <th>5</th>\n",
       "      <th>6</th>\n",
       "      <th>7</th>\n",
       "      <th>8</th>\n",
       "      <th>9</th>\n",
       "      <th>10</th>\n",
       "      <th>...</th>\n",
       "      <th>142</th>\n",
       "      <th>143</th>\n",
       "      <th>144</th>\n",
       "      <th>145</th>\n",
       "      <th>146</th>\n",
       "      <th>147</th>\n",
       "      <th>148</th>\n",
       "      <th>149</th>\n",
       "      <th>150</th>\n",
       "      <th>151</th>\n",
       "    </tr>\n",
       "    <tr>\n",
       "      <th>0</th>\n",
       "      <th></th>\n",
       "      <th></th>\n",
       "      <th></th>\n",
       "      <th></th>\n",
       "      <th></th>\n",
       "      <th></th>\n",
       "      <th></th>\n",
       "      <th></th>\n",
       "      <th></th>\n",
       "      <th></th>\n",
       "      <th></th>\n",
       "      <th></th>\n",
       "      <th></th>\n",
       "      <th></th>\n",
       "      <th></th>\n",
       "      <th></th>\n",
       "      <th></th>\n",
       "      <th></th>\n",
       "      <th></th>\n",
       "      <th></th>\n",
       "      <th></th>\n",
       "    </tr>\n",
       "  </thead>\n",
       "  <tbody>\n",
       "    <tr>\n",
       "      <th>gloomhaven</th>\n",
       "      <td>https://boardgamegeek.com/image/2437871/gloomhaven</td>\n",
       "      <td>https://boardgamegeek.com/image/2556210/gloomhaven</td>\n",
       "      <td>https://boardgamegeek.com/image/2563554/gloomhaven</td>\n",
       "      <td>https://boardgamegeek.com/image/2571642/gloomhaven</td>\n",
       "      <td>https://boardgamegeek.com/image/2579136/gloomhaven</td>\n",
       "      <td>https://boardgamegeek.com/image/2586084/gloomhaven</td>\n",
       "      <td>https://boardgamegeek.com/image/2594721/gloomhaven</td>\n",
       "      <td>https://boardgamegeek.com/image/2602482/gloomhaven</td>\n",
       "      <td>https://boardgamegeek.com/image/2632373/gloomhaven</td>\n",
       "      <td>https://boardgamegeek.com/image/2632375/gloomhaven</td>\n",
       "      <td>...</td>\n",
       "      <td>https://boardgamegeek.com/image/3392632/gloomhaven</td>\n",
       "      <td>https://boardgamegeek.com/image/3392633/gloomhaven</td>\n",
       "      <td>https://boardgamegeek.com/image/3392634/gloomhaven</td>\n",
       "      <td>https://boardgamegeek.com/image/3392635/gloomhaven</td>\n",
       "      <td>https://boardgamegeek.com/image/3392636/gloomhaven</td>\n",
       "      <td>https://boardgamegeek.com/image/3392664/gloomhaven</td>\n",
       "      <td>https://boardgamegeek.com/image/3392667/gloomhaven</td>\n",
       "      <td>https://boardgamegeek.com/image/3392669/gloomhaven</td>\n",
       "      <td>https://boardgamegeek.com/image/3392671/gloomhaven</td>\n",
       "      <td>https://boardgamegeek.com/image/3392672/gloomhaven</td>\n",
       "    </tr>\n",
       "    <tr>\n",
       "      <th>brass-birmingham</th>\n",
       "      <td>https://boardgamegeek.com/image/3490053/brass-birmingham</td>\n",
       "      <td>https://boardgamegeek.com/image/3490095/brass-birmingham</td>\n",
       "      <td>https://boardgamegeek.com/image/3500869/brass-birmingham</td>\n",
       "      <td>https://boardgamegeek.com/image/3509697/brass-birmingham</td>\n",
       "      <td>https://boardgamegeek.com/image/3509698/brass-birmingham</td>\n",
       "      <td>https://boardgamegeek.com/image/3549793/brass-birmingham</td>\n",
       "      <td>https://boardgamegeek.com/image/3733951/brass-birmingham</td>\n",
       "      <td>https://boardgamegeek.com/image/3733952/brass-birmingham</td>\n",
       "      <td>https://boardgamegeek.com/image/4099876/brass-birmingham</td>\n",
       "      <td>https://boardgamegeek.com/image/4099877/brass-birmingham</td>\n",
       "      <td>...</td>\n",
       "      <td>https://boardgamegeek.com/image/4310169/brass-birmingham</td>\n",
       "      <td>https://boardgamegeek.com/image/4311986/brass-birmingham</td>\n",
       "      <td>https://boardgamegeek.com/image/4316215/brass-birmingham</td>\n",
       "      <td>https://boardgamegeek.com/image/4317265/brass-birmingham</td>\n",
       "      <td>https://boardgamegeek.com/image/4325228/brass-birmingham</td>\n",
       "      <td>https://boardgamegeek.com/image/4325229/brass-birmingham</td>\n",
       "      <td>https://boardgamegeek.com/image/4325230/brass-birmingham</td>\n",
       "      <td>https://boardgamegeek.com/image/4325231/brass-birmingham</td>\n",
       "      <td>https://boardgamegeek.com/image/4341198/brass-birmingham</td>\n",
       "      <td>https://boardgamegeek.com/image/4346280/brass-birmingham</td>\n",
       "    </tr>\n",
       "    <tr>\n",
       "      <th>pandemic-legacy-season-1</th>\n",
       "      <td>https://boardgamegeek.com/image/2452831/pandemic-legacy-season-1</td>\n",
       "      <td>https://boardgamegeek.com/image/2474195/pandemic-legacy-season-1</td>\n",
       "      <td>https://boardgamegeek.com/image/2474196/pandemic-legacy-season-1</td>\n",
       "      <td>https://boardgamegeek.com/image/2488668/pandemic-legacy-season-1</td>\n",
       "      <td>https://boardgamegeek.com/image/2488706/pandemic-legacy-season-1</td>\n",
       "      <td>https://boardgamegeek.com/image/2620676/pandemic-legacy-season-1</td>\n",
       "      <td>https://boardgamegeek.com/image/2649655/pandemic-legacy-season-1</td>\n",
       "      <td>https://boardgamegeek.com/image/2649656/pandemic-legacy-season-1</td>\n",
       "      <td>https://boardgamegeek.com/image/2649657/pandemic-legacy-season-1</td>\n",
       "      <td>https://boardgamegeek.com/image/2649659/pandemic-legacy-season-1</td>\n",
       "      <td>...</td>\n",
       "      <td>https://boardgamegeek.com/image/2807432/pandemic-legacy-season-1</td>\n",
       "      <td>https://boardgamegeek.com/image/2808169/pandemic-legacy-season-1</td>\n",
       "      <td>https://boardgamegeek.com/image/2809485/pandemic-legacy-season-1</td>\n",
       "      <td>https://boardgamegeek.com/image/2809486/pandemic-legacy-season-1</td>\n",
       "      <td>https://boardgamegeek.com/image/2809817/pandemic-legacy-season-1</td>\n",
       "      <td>https://boardgamegeek.com/image/2813424/pandemic-legacy-season-1</td>\n",
       "      <td>https://boardgamegeek.com/image/2814770/pandemic-legacy-season-1</td>\n",
       "      <td>https://boardgamegeek.com/image/2817971/pandemic-legacy-season-1</td>\n",
       "      <td>https://boardgamegeek.com/image/2817972/pandemic-legacy-season-1</td>\n",
       "      <td>https://boardgamegeek.com/image/2817974/pandemic-legacy-season-1</td>\n",
       "    </tr>\n",
       "    <tr>\n",
       "      <th>ark-nova</th>\n",
       "      <td>https://boardgamegeek.com/image/6293412/ark-nova</td>\n",
       "      <td>https://boardgamegeek.com/image/6294036/ark-nova</td>\n",
       "      <td>https://boardgamegeek.com/image/6294513/ark-nova</td>\n",
       "      <td>https://boardgamegeek.com/image/6398292/ark-nova</td>\n",
       "      <td>https://boardgamegeek.com/image/6417715/ark-nova</td>\n",
       "      <td>https://boardgamegeek.com/image/6428595/ark-nova</td>\n",
       "      <td>https://boardgamegeek.com/image/6446792/ark-nova</td>\n",
       "      <td>https://boardgamegeek.com/image/6452574/ark-nova</td>\n",
       "      <td>https://boardgamegeek.com/image/6452609/ark-nova</td>\n",
       "      <td>https://boardgamegeek.com/image/6453563/ark-nova</td>\n",
       "      <td>...</td>\n",
       "      <td>https://boardgamegeek.com/image/6701394/ark-nova</td>\n",
       "      <td>https://boardgamegeek.com/image/6705950/ark-nova</td>\n",
       "      <td>https://boardgamegeek.com/image/6705951/ark-nova</td>\n",
       "      <td>https://boardgamegeek.com/image/6708367/ark-nova</td>\n",
       "      <td>https://boardgamegeek.com/image/6708368/ark-nova</td>\n",
       "      <td>https://boardgamegeek.com/image/6708369/ark-nova</td>\n",
       "      <td>https://boardgamegeek.com/image/6708370/ark-nova</td>\n",
       "      <td>https://boardgamegeek.com/image/6708371/ark-nova</td>\n",
       "      <td>https://boardgamegeek.com/image/6708372/ark-nova</td>\n",
       "      <td>https://boardgamegeek.com/image/6708373/ark-nova</td>\n",
       "    </tr>\n",
       "    <tr>\n",
       "      <th>terraforming-mars</th>\n",
       "      <td>https://boardgamegeek.com/image/3536616/terraforming-mars</td>\n",
       "      <td>https://boardgamegeek.com/image/3536618/terraforming-mars</td>\n",
       "      <td>https://boardgamegeek.com/image/3538816/terraforming-mars</td>\n",
       "      <td>https://boardgamegeek.com/image/3538817/terraforming-mars</td>\n",
       "      <td>https://boardgamegeek.com/image/3538818/terraforming-mars</td>\n",
       "      <td>https://boardgamegeek.com/image/3540110/terraforming-mars</td>\n",
       "      <td>https://boardgamegeek.com/image/3540716/terraforming-mars</td>\n",
       "      <td>https://boardgamegeek.com/image/3541149/terraforming-mars</td>\n",
       "      <td>https://boardgamegeek.com/image/3542439/terraforming-mars</td>\n",
       "      <td>https://boardgamegeek.com/image/3542440/terraforming-mars</td>\n",
       "      <td>...</td>\n",
       "      <td>https://boardgamegeek.com/image/3685829/terraforming-mars</td>\n",
       "      <td>https://boardgamegeek.com/image/3685830/terraforming-mars</td>\n",
       "      <td>https://boardgamegeek.com/image/3686050/terraforming-mars</td>\n",
       "      <td>https://boardgamegeek.com/image/3686462/terraforming-mars</td>\n",
       "      <td>https://boardgamegeek.com/image/3687870/terraforming-mars</td>\n",
       "      <td>https://boardgamegeek.com/image/3688352/terraforming-mars</td>\n",
       "      <td>https://boardgamegeek.com/image/3688353/terraforming-mars</td>\n",
       "      <td>https://boardgamegeek.com/image/3688354/terraforming-mars</td>\n",
       "      <td>https://boardgamegeek.com/image/3689488/terraforming-mars</td>\n",
       "      <td>https://boardgamegeek.com/image/3690388/terraforming-mars</td>\n",
       "    </tr>\n",
       "  </tbody>\n",
       "</table>\n",
       "<p>5 rows × 151 columns</p>\n",
       "</div>"
      ],
      "text/plain": [
       "                                                                                       1    \\\n",
       "0                                                                                            \n",
       "gloomhaven                              https://boardgamegeek.com/image/2437871/gloomhaven   \n",
       "brass-birmingham                  https://boardgamegeek.com/image/3490053/brass-birmingham   \n",
       "pandemic-legacy-season-1  https://boardgamegeek.com/image/2452831/pandemic-legacy-season-1   \n",
       "ark-nova                                  https://boardgamegeek.com/image/6293412/ark-nova   \n",
       "terraforming-mars                https://boardgamegeek.com/image/3536616/terraforming-mars   \n",
       "\n",
       "                                                                                       2    \\\n",
       "0                                                                                            \n",
       "gloomhaven                              https://boardgamegeek.com/image/2556210/gloomhaven   \n",
       "brass-birmingham                  https://boardgamegeek.com/image/3490095/brass-birmingham   \n",
       "pandemic-legacy-season-1  https://boardgamegeek.com/image/2474195/pandemic-legacy-season-1   \n",
       "ark-nova                                  https://boardgamegeek.com/image/6294036/ark-nova   \n",
       "terraforming-mars                https://boardgamegeek.com/image/3536618/terraforming-mars   \n",
       "\n",
       "                                                                                       3    \\\n",
       "0                                                                                            \n",
       "gloomhaven                              https://boardgamegeek.com/image/2563554/gloomhaven   \n",
       "brass-birmingham                  https://boardgamegeek.com/image/3500869/brass-birmingham   \n",
       "pandemic-legacy-season-1  https://boardgamegeek.com/image/2474196/pandemic-legacy-season-1   \n",
       "ark-nova                                  https://boardgamegeek.com/image/6294513/ark-nova   \n",
       "terraforming-mars                https://boardgamegeek.com/image/3538816/terraforming-mars   \n",
       "\n",
       "                                                                                       4    \\\n",
       "0                                                                                            \n",
       "gloomhaven                              https://boardgamegeek.com/image/2571642/gloomhaven   \n",
       "brass-birmingham                  https://boardgamegeek.com/image/3509697/brass-birmingham   \n",
       "pandemic-legacy-season-1  https://boardgamegeek.com/image/2488668/pandemic-legacy-season-1   \n",
       "ark-nova                                  https://boardgamegeek.com/image/6398292/ark-nova   \n",
       "terraforming-mars                https://boardgamegeek.com/image/3538817/terraforming-mars   \n",
       "\n",
       "                                                                                       5    \\\n",
       "0                                                                                            \n",
       "gloomhaven                              https://boardgamegeek.com/image/2579136/gloomhaven   \n",
       "brass-birmingham                  https://boardgamegeek.com/image/3509698/brass-birmingham   \n",
       "pandemic-legacy-season-1  https://boardgamegeek.com/image/2488706/pandemic-legacy-season-1   \n",
       "ark-nova                                  https://boardgamegeek.com/image/6417715/ark-nova   \n",
       "terraforming-mars                https://boardgamegeek.com/image/3538818/terraforming-mars   \n",
       "\n",
       "                                                                                       6    \\\n",
       "0                                                                                            \n",
       "gloomhaven                              https://boardgamegeek.com/image/2586084/gloomhaven   \n",
       "brass-birmingham                  https://boardgamegeek.com/image/3549793/brass-birmingham   \n",
       "pandemic-legacy-season-1  https://boardgamegeek.com/image/2620676/pandemic-legacy-season-1   \n",
       "ark-nova                                  https://boardgamegeek.com/image/6428595/ark-nova   \n",
       "terraforming-mars                https://boardgamegeek.com/image/3540110/terraforming-mars   \n",
       "\n",
       "                                                                                       7    \\\n",
       "0                                                                                            \n",
       "gloomhaven                              https://boardgamegeek.com/image/2594721/gloomhaven   \n",
       "brass-birmingham                  https://boardgamegeek.com/image/3733951/brass-birmingham   \n",
       "pandemic-legacy-season-1  https://boardgamegeek.com/image/2649655/pandemic-legacy-season-1   \n",
       "ark-nova                                  https://boardgamegeek.com/image/6446792/ark-nova   \n",
       "terraforming-mars                https://boardgamegeek.com/image/3540716/terraforming-mars   \n",
       "\n",
       "                                                                                       8    \\\n",
       "0                                                                                            \n",
       "gloomhaven                              https://boardgamegeek.com/image/2602482/gloomhaven   \n",
       "brass-birmingham                  https://boardgamegeek.com/image/3733952/brass-birmingham   \n",
       "pandemic-legacy-season-1  https://boardgamegeek.com/image/2649656/pandemic-legacy-season-1   \n",
       "ark-nova                                  https://boardgamegeek.com/image/6452574/ark-nova   \n",
       "terraforming-mars                https://boardgamegeek.com/image/3541149/terraforming-mars   \n",
       "\n",
       "                                                                                       9    \\\n",
       "0                                                                                            \n",
       "gloomhaven                              https://boardgamegeek.com/image/2632373/gloomhaven   \n",
       "brass-birmingham                  https://boardgamegeek.com/image/4099876/brass-birmingham   \n",
       "pandemic-legacy-season-1  https://boardgamegeek.com/image/2649657/pandemic-legacy-season-1   \n",
       "ark-nova                                  https://boardgamegeek.com/image/6452609/ark-nova   \n",
       "terraforming-mars                https://boardgamegeek.com/image/3542439/terraforming-mars   \n",
       "\n",
       "                                                                                       10   \\\n",
       "0                                                                                            \n",
       "gloomhaven                              https://boardgamegeek.com/image/2632375/gloomhaven   \n",
       "brass-birmingham                  https://boardgamegeek.com/image/4099877/brass-birmingham   \n",
       "pandemic-legacy-season-1  https://boardgamegeek.com/image/2649659/pandemic-legacy-season-1   \n",
       "ark-nova                                  https://boardgamegeek.com/image/6453563/ark-nova   \n",
       "terraforming-mars                https://boardgamegeek.com/image/3542440/terraforming-mars   \n",
       "\n",
       "                          ...  \\\n",
       "0                         ...   \n",
       "gloomhaven                ...   \n",
       "brass-birmingham          ...   \n",
       "pandemic-legacy-season-1  ...   \n",
       "ark-nova                  ...   \n",
       "terraforming-mars         ...   \n",
       "\n",
       "                                                                                       142  \\\n",
       "0                                                                                            \n",
       "gloomhaven                              https://boardgamegeek.com/image/3392632/gloomhaven   \n",
       "brass-birmingham                  https://boardgamegeek.com/image/4310169/brass-birmingham   \n",
       "pandemic-legacy-season-1  https://boardgamegeek.com/image/2807432/pandemic-legacy-season-1   \n",
       "ark-nova                                  https://boardgamegeek.com/image/6701394/ark-nova   \n",
       "terraforming-mars                https://boardgamegeek.com/image/3685829/terraforming-mars   \n",
       "\n",
       "                                                                                       143  \\\n",
       "0                                                                                            \n",
       "gloomhaven                              https://boardgamegeek.com/image/3392633/gloomhaven   \n",
       "brass-birmingham                  https://boardgamegeek.com/image/4311986/brass-birmingham   \n",
       "pandemic-legacy-season-1  https://boardgamegeek.com/image/2808169/pandemic-legacy-season-1   \n",
       "ark-nova                                  https://boardgamegeek.com/image/6705950/ark-nova   \n",
       "terraforming-mars                https://boardgamegeek.com/image/3685830/terraforming-mars   \n",
       "\n",
       "                                                                                       144  \\\n",
       "0                                                                                            \n",
       "gloomhaven                              https://boardgamegeek.com/image/3392634/gloomhaven   \n",
       "brass-birmingham                  https://boardgamegeek.com/image/4316215/brass-birmingham   \n",
       "pandemic-legacy-season-1  https://boardgamegeek.com/image/2809485/pandemic-legacy-season-1   \n",
       "ark-nova                                  https://boardgamegeek.com/image/6705951/ark-nova   \n",
       "terraforming-mars                https://boardgamegeek.com/image/3686050/terraforming-mars   \n",
       "\n",
       "                                                                                       145  \\\n",
       "0                                                                                            \n",
       "gloomhaven                              https://boardgamegeek.com/image/3392635/gloomhaven   \n",
       "brass-birmingham                  https://boardgamegeek.com/image/4317265/brass-birmingham   \n",
       "pandemic-legacy-season-1  https://boardgamegeek.com/image/2809486/pandemic-legacy-season-1   \n",
       "ark-nova                                  https://boardgamegeek.com/image/6708367/ark-nova   \n",
       "terraforming-mars                https://boardgamegeek.com/image/3686462/terraforming-mars   \n",
       "\n",
       "                                                                                       146  \\\n",
       "0                                                                                            \n",
       "gloomhaven                              https://boardgamegeek.com/image/3392636/gloomhaven   \n",
       "brass-birmingham                  https://boardgamegeek.com/image/4325228/brass-birmingham   \n",
       "pandemic-legacy-season-1  https://boardgamegeek.com/image/2809817/pandemic-legacy-season-1   \n",
       "ark-nova                                  https://boardgamegeek.com/image/6708368/ark-nova   \n",
       "terraforming-mars                https://boardgamegeek.com/image/3687870/terraforming-mars   \n",
       "\n",
       "                                                                                       147  \\\n",
       "0                                                                                            \n",
       "gloomhaven                              https://boardgamegeek.com/image/3392664/gloomhaven   \n",
       "brass-birmingham                  https://boardgamegeek.com/image/4325229/brass-birmingham   \n",
       "pandemic-legacy-season-1  https://boardgamegeek.com/image/2813424/pandemic-legacy-season-1   \n",
       "ark-nova                                  https://boardgamegeek.com/image/6708369/ark-nova   \n",
       "terraforming-mars                https://boardgamegeek.com/image/3688352/terraforming-mars   \n",
       "\n",
       "                                                                                       148  \\\n",
       "0                                                                                            \n",
       "gloomhaven                              https://boardgamegeek.com/image/3392667/gloomhaven   \n",
       "brass-birmingham                  https://boardgamegeek.com/image/4325230/brass-birmingham   \n",
       "pandemic-legacy-season-1  https://boardgamegeek.com/image/2814770/pandemic-legacy-season-1   \n",
       "ark-nova                                  https://boardgamegeek.com/image/6708370/ark-nova   \n",
       "terraforming-mars                https://boardgamegeek.com/image/3688353/terraforming-mars   \n",
       "\n",
       "                                                                                       149  \\\n",
       "0                                                                                            \n",
       "gloomhaven                              https://boardgamegeek.com/image/3392669/gloomhaven   \n",
       "brass-birmingham                  https://boardgamegeek.com/image/4325231/brass-birmingham   \n",
       "pandemic-legacy-season-1  https://boardgamegeek.com/image/2817971/pandemic-legacy-season-1   \n",
       "ark-nova                                  https://boardgamegeek.com/image/6708371/ark-nova   \n",
       "terraforming-mars                https://boardgamegeek.com/image/3688354/terraforming-mars   \n",
       "\n",
       "                                                                                       150  \\\n",
       "0                                                                                            \n",
       "gloomhaven                              https://boardgamegeek.com/image/3392671/gloomhaven   \n",
       "brass-birmingham                  https://boardgamegeek.com/image/4341198/brass-birmingham   \n",
       "pandemic-legacy-season-1  https://boardgamegeek.com/image/2817972/pandemic-legacy-season-1   \n",
       "ark-nova                                  https://boardgamegeek.com/image/6708372/ark-nova   \n",
       "terraforming-mars                https://boardgamegeek.com/image/3689488/terraforming-mars   \n",
       "\n",
       "                                                                                       151  \n",
       "0                                                                                           \n",
       "gloomhaven                              https://boardgamegeek.com/image/3392672/gloomhaven  \n",
       "brass-birmingham                  https://boardgamegeek.com/image/4346280/brass-birmingham  \n",
       "pandemic-legacy-season-1  https://boardgamegeek.com/image/2817974/pandemic-legacy-season-1  \n",
       "ark-nova                                  https://boardgamegeek.com/image/6708373/ark-nova  \n",
       "terraforming-mars                https://boardgamegeek.com/image/3690388/terraforming-mars  \n",
       "\n",
       "[5 rows x 151 columns]"
      ]
     },
     "execution_count": 53,
     "metadata": {},
     "output_type": "execute_result"
    }
   ],
   "source": [
    "df.head()"
   ]
  },
  {
   "cell_type": "code",
   "execution_count": 54,
   "id": "c08068ee-f32c-4f9d-bed3-20370b54e904",
   "metadata": {},
   "outputs": [
    {
     "data": {
      "text/plain": [
       "1      https://boardgamegeek.com/image/2437871/gloomhaven\n",
       "2      https://boardgamegeek.com/image/2556210/gloomhaven\n",
       "3      https://boardgamegeek.com/image/2563554/gloomhaven\n",
       "4      https://boardgamegeek.com/image/2571642/gloomhaven\n",
       "5      https://boardgamegeek.com/image/2579136/gloomhaven\n",
       "                              ...                        \n",
       "147    https://boardgamegeek.com/image/3392664/gloomhaven\n",
       "148    https://boardgamegeek.com/image/3392667/gloomhaven\n",
       "149    https://boardgamegeek.com/image/3392669/gloomhaven\n",
       "150    https://boardgamegeek.com/image/3392671/gloomhaven\n",
       "151    https://boardgamegeek.com/image/3392672/gloomhaven\n",
       "Name: gloomhaven, Length: 151, dtype: object"
      ]
     },
     "execution_count": 54,
     "metadata": {},
     "output_type": "execute_result"
    }
   ],
   "source": [
    "df.loc['gloomhaven']"
   ]
  },
  {
   "cell_type": "code",
   "execution_count": 30,
   "id": "c91cab40-607a-4aa4-8ff1-6bc2b937ca1f",
   "metadata": {},
   "outputs": [],
   "source": [
    "#df=df.transpose()"
   ]
  },
  {
   "cell_type": "code",
   "execution_count": 67,
   "id": "275aa3fa-650a-4e24-9b03-8a565e9057c1",
   "metadata": {},
   "outputs": [],
   "source": [
    "df2=pd.DataFrame(df.stack())"
   ]
  },
  {
   "cell_type": "code",
   "execution_count": 68,
   "id": "44982e3d-0936-45df-a3bf-20e03df8cc94",
   "metadata": {},
   "outputs": [
    {
     "data": {
      "text/html": [
       "<div>\n",
       "<style scoped>\n",
       "    .dataframe tbody tr th:only-of-type {\n",
       "        vertical-align: middle;\n",
       "    }\n",
       "\n",
       "    .dataframe tbody tr th {\n",
       "        vertical-align: top;\n",
       "    }\n",
       "\n",
       "    .dataframe thead th {\n",
       "        text-align: right;\n",
       "    }\n",
       "</style>\n",
       "<table border=\"1\" class=\"dataframe\">\n",
       "  <thead>\n",
       "    <tr style=\"text-align: right;\">\n",
       "      <th></th>\n",
       "      <th></th>\n",
       "      <th>0</th>\n",
       "    </tr>\n",
       "    <tr>\n",
       "      <th>0</th>\n",
       "      <th></th>\n",
       "      <th></th>\n",
       "    </tr>\n",
       "  </thead>\n",
       "  <tbody>\n",
       "    <tr>\n",
       "      <th rowspan=\"5\" valign=\"top\">gloomhaven</th>\n",
       "      <th>1</th>\n",
       "      <td>https://boardgamegeek.com/image/2437871/gloomhaven</td>\n",
       "    </tr>\n",
       "    <tr>\n",
       "      <th>2</th>\n",
       "      <td>https://boardgamegeek.com/image/2556210/gloomhaven</td>\n",
       "    </tr>\n",
       "    <tr>\n",
       "      <th>3</th>\n",
       "      <td>https://boardgamegeek.com/image/2563554/gloomhaven</td>\n",
       "    </tr>\n",
       "    <tr>\n",
       "      <th>4</th>\n",
       "      <td>https://boardgamegeek.com/image/2571642/gloomhaven</td>\n",
       "    </tr>\n",
       "    <tr>\n",
       "      <th>5</th>\n",
       "      <td>https://boardgamegeek.com/image/2579136/gloomhaven</td>\n",
       "    </tr>\n",
       "  </tbody>\n",
       "</table>\n",
       "</div>"
      ],
      "text/plain": [
       "                                                               0\n",
       "0                                                               \n",
       "gloomhaven 1  https://boardgamegeek.com/image/2437871/gloomhaven\n",
       "           2  https://boardgamegeek.com/image/2556210/gloomhaven\n",
       "           3  https://boardgamegeek.com/image/2563554/gloomhaven\n",
       "           4  https://boardgamegeek.com/image/2571642/gloomhaven\n",
       "           5  https://boardgamegeek.com/image/2579136/gloomhaven"
      ]
     },
     "execution_count": 68,
     "metadata": {},
     "output_type": "execute_result"
    }
   ],
   "source": [
    "df2.head()"
   ]
  },
  {
   "cell_type": "code",
   "execution_count": 69,
   "id": "2eea6e98-5940-486e-b146-1cec43979d6e",
   "metadata": {},
   "outputs": [],
   "source": [
    "df2.columns=['link']"
   ]
  },
  {
   "cell_type": "code",
   "execution_count": 70,
   "id": "996a527b-d17b-4559-8101-055351c16dfc",
   "metadata": {},
   "outputs": [],
   "source": [
    "df2=df2.reset_index().drop('level_1',axis=1)"
   ]
  },
  {
   "cell_type": "code",
   "execution_count": 71,
   "id": "590b3d66-9dca-4aed-b317-6c653bbc27c6",
   "metadata": {},
   "outputs": [],
   "source": [
    "df2.columns=['game_name','image_page']"
   ]
  },
  {
   "cell_type": "code",
   "execution_count": 80,
   "id": "caa12526-9ba0-453e-98d0-51837dba7a99",
   "metadata": {},
   "outputs": [],
   "source": [
    "df2['image_number']=(df2['image_page'].str.split('/')).map(lambda l : l[-2])"
   ]
  },
  {
   "cell_type": "code",
   "execution_count": 84,
   "id": "530480ba-e721-4f04-964c-f52c1047041e",
   "metadata": {},
   "outputs": [],
   "source": [
    "df2.set_index('image_number',inplace=True)"
   ]
  },
  {
   "cell_type": "code",
   "execution_count": 87,
   "id": "a2552289-0ede-4b7f-a366-cc4be5860592",
   "metadata": {},
   "outputs": [],
   "source": [
    "df2=df2.reset_index()"
   ]
  },
  {
   "cell_type": "code",
   "execution_count": 90,
   "id": "223683aa-fdf8-4f88-b043-50cee04d41b2",
   "metadata": {},
   "outputs": [
    {
     "data": {
      "text/html": [
       "<div>\n",
       "<style scoped>\n",
       "    .dataframe tbody tr th:only-of-type {\n",
       "        vertical-align: middle;\n",
       "    }\n",
       "\n",
       "    .dataframe tbody tr th {\n",
       "        vertical-align: top;\n",
       "    }\n",
       "\n",
       "    .dataframe thead th {\n",
       "        text-align: right;\n",
       "    }\n",
       "</style>\n",
       "<table border=\"1\" class=\"dataframe\">\n",
       "  <thead>\n",
       "    <tr style=\"text-align: right;\">\n",
       "      <th></th>\n",
       "      <th>image_number</th>\n",
       "      <th>game_name</th>\n",
       "      <th>image_page</th>\n",
       "    </tr>\n",
       "  </thead>\n",
       "  <tbody>\n",
       "    <tr>\n",
       "      <th>0</th>\n",
       "      <td>2437871</td>\n",
       "      <td>gloomhaven</td>\n",
       "      <td>https://boardgamegeek.com/image/2437871/gloomhaven</td>\n",
       "    </tr>\n",
       "    <tr>\n",
       "      <th>1</th>\n",
       "      <td>2556210</td>\n",
       "      <td>gloomhaven</td>\n",
       "      <td>https://boardgamegeek.com/image/2556210/gloomhaven</td>\n",
       "    </tr>\n",
       "    <tr>\n",
       "      <th>2</th>\n",
       "      <td>2563554</td>\n",
       "      <td>gloomhaven</td>\n",
       "      <td>https://boardgamegeek.com/image/2563554/gloomhaven</td>\n",
       "    </tr>\n",
       "    <tr>\n",
       "      <th>3</th>\n",
       "      <td>2571642</td>\n",
       "      <td>gloomhaven</td>\n",
       "      <td>https://boardgamegeek.com/image/2571642/gloomhaven</td>\n",
       "    </tr>\n",
       "    <tr>\n",
       "      <th>4</th>\n",
       "      <td>2579136</td>\n",
       "      <td>gloomhaven</td>\n",
       "      <td>https://boardgamegeek.com/image/2579136/gloomhaven</td>\n",
       "    </tr>\n",
       "    <tr>\n",
       "      <th>...</th>\n",
       "      <td>...</td>\n",
       "      <td>...</td>\n",
       "      <td>...</td>\n",
       "    </tr>\n",
       "    <tr>\n",
       "      <th>7243</th>\n",
       "      <td>6091311</td>\n",
       "      <td>crew-quest-planet-nine</td>\n",
       "      <td>https://boardgamegeek.com/image/6091311/crew-quest-planet-nine</td>\n",
       "    </tr>\n",
       "    <tr>\n",
       "      <th>7244</th>\n",
       "      <td>6091312</td>\n",
       "      <td>crew-quest-planet-nine</td>\n",
       "      <td>https://boardgamegeek.com/image/6091312/crew-quest-planet-nine</td>\n",
       "    </tr>\n",
       "    <tr>\n",
       "      <th>7245</th>\n",
       "      <td>6091313</td>\n",
       "      <td>crew-quest-planet-nine</td>\n",
       "      <td>https://boardgamegeek.com/image/6091313/crew-quest-planet-nine</td>\n",
       "    </tr>\n",
       "    <tr>\n",
       "      <th>7246</th>\n",
       "      <td>6091314</td>\n",
       "      <td>crew-quest-planet-nine</td>\n",
       "      <td>https://boardgamegeek.com/image/6091314/crew-quest-planet-nine</td>\n",
       "    </tr>\n",
       "    <tr>\n",
       "      <th>7247</th>\n",
       "      <td>6091315</td>\n",
       "      <td>crew-quest-planet-nine</td>\n",
       "      <td>https://boardgamegeek.com/image/6091315/crew-quest-planet-nine</td>\n",
       "    </tr>\n",
       "  </tbody>\n",
       "</table>\n",
       "<p>7248 rows × 3 columns</p>\n",
       "</div>"
      ],
      "text/plain": [
       "     image_number               game_name  \\\n",
       "0         2437871              gloomhaven   \n",
       "1         2556210              gloomhaven   \n",
       "2         2563554              gloomhaven   \n",
       "3         2571642              gloomhaven   \n",
       "4         2579136              gloomhaven   \n",
       "...           ...                     ...   \n",
       "7243      6091311  crew-quest-planet-nine   \n",
       "7244      6091312  crew-quest-planet-nine   \n",
       "7245      6091313  crew-quest-planet-nine   \n",
       "7246      6091314  crew-quest-planet-nine   \n",
       "7247      6091315  crew-quest-planet-nine   \n",
       "\n",
       "                                                          image_page  \n",
       "0                 https://boardgamegeek.com/image/2437871/gloomhaven  \n",
       "1                 https://boardgamegeek.com/image/2556210/gloomhaven  \n",
       "2                 https://boardgamegeek.com/image/2563554/gloomhaven  \n",
       "3                 https://boardgamegeek.com/image/2571642/gloomhaven  \n",
       "4                 https://boardgamegeek.com/image/2579136/gloomhaven  \n",
       "...                                                              ...  \n",
       "7243  https://boardgamegeek.com/image/6091311/crew-quest-planet-nine  \n",
       "7244  https://boardgamegeek.com/image/6091312/crew-quest-planet-nine  \n",
       "7245  https://boardgamegeek.com/image/6091313/crew-quest-planet-nine  \n",
       "7246  https://boardgamegeek.com/image/6091314/crew-quest-planet-nine  \n",
       "7247  https://boardgamegeek.com/image/6091315/crew-quest-planet-nine  \n",
       "\n",
       "[7248 rows x 3 columns]"
      ]
     },
     "execution_count": 90,
     "metadata": {},
     "output_type": "execute_result"
    }
   ],
   "source": [
    "df2"
   ]
  },
  {
   "cell_type": "code",
   "execution_count": 91,
   "id": "fca37cf9-b585-4c28-b55a-081e6d730d1f",
   "metadata": {},
   "outputs": [],
   "source": [
    "df2['direct_link']= None"
   ]
  },
  {
   "cell_type": "markdown",
   "id": "3fea8ece-999e-4140-8ba7-efa9ce9ddb44",
   "metadata": {},
   "source": [
    "Idea: Direct link can be filled while downloading for possible future use."
   ]
  },
  {
   "cell_type": "code",
   "execution_count": 129,
   "id": "a5ecd7b0-8d05-4c80-b236-364148751853",
   "metadata": {},
   "outputs": [],
   "source": [
    "pd.to_pickle(df2,'df_images')"
   ]
  },
  {
   "cell_type": "code",
   "execution_count": 130,
   "id": "d48e0d52-419f-4d1b-ba30-ae852eda1ea5",
   "metadata": {},
   "outputs": [],
   "source": [
    "pd.to_pickle(df2.head(),'df_images_head')"
   ]
  },
  {
   "cell_type": "code",
   "execution_count": 105,
   "id": "1c74c3b3-ae15-4a36-9f13-aa233c48c042",
   "metadata": {},
   "outputs": [],
   "source": [
    "url=df2.iloc[0]\n",
    "output_folder='boardgame-pictures'\n",
    "patt= re.compile(r'https[^\"]*')  "
   ]
  },
  {
   "cell_type": "code",
   "execution_count": 98,
   "id": "3c7d78f7-ff16-4109-a3d8-dda510697da9",
   "metadata": {},
   "outputs": [
    {
     "data": {
      "text/plain": [
       "image_number                                               2437871\n",
       "game_name                                               gloomhaven\n",
       "image_page      https://boardgamegeek.com/image/2437871/gloomhaven\n",
       "direct_link                                                   None\n",
       "Name: 0, dtype: object"
      ]
     },
     "execution_count": 98,
     "metadata": {},
     "output_type": "execute_result"
    }
   ],
   "source": [
    "url"
   ]
  },
  {
   "cell_type": "code",
   "execution_count": 101,
   "id": "a451af15-2c0b-4bf8-a2a8-efd8149e683a",
   "metadata": {},
   "outputs": [],
   "source": [
    "page = requests.get(url.image_page)"
   ]
  },
  {
   "cell_type": "code",
   "execution_count": 102,
   "id": "fa24fafb-3ca7-4c38-99e5-8165eb976825",
   "metadata": {},
   "outputs": [],
   "source": [
    "soup = bs4(page.content, 'html.parser')"
   ]
  },
  {
   "cell_type": "code",
   "execution_count": 103,
   "id": "34ecfd1a-846b-4863-8a8c-e11a150beb02",
   "metadata": {},
   "outputs": [],
   "source": [
    "uncleaned_image_link=(str(soup.find('link',href=re.compile(r'geekdo-images')))) "
   ]
  },
  {
   "cell_type": "code",
   "execution_count": 106,
   "id": "5d656478-a07d-441b-b65f-50adff8dff4f",
   "metadata": {},
   "outputs": [],
   "source": [
    "dl=patt.findall(uncleaned_image_link) #removes everything except the link iteself"
   ]
  },
  {
   "cell_type": "code",
   "execution_count": null,
   "id": "25e28851-9d81-4e14-b3db-64fa13c15a7b",
   "metadata": {},
   "outputs": [],
   "source": []
  },
  {
   "cell_type": "markdown",
   "id": "9942f518-7159-44aa-a5f5-9f39639ea42d",
   "metadata": {},
   "source": [
    "#### Testing download of a single image"
   ]
  },
  {
   "cell_type": "code",
   "execution_count": 123,
   "id": "5dd21481-dd50-4832-b4fa-ee696b48be37",
   "metadata": {},
   "outputs": [
    {
     "name": "stdout",
     "output_type": "stream",
     "text": [
      "boardgame-pictures/gloomhaven/2437871.jpg\n"
     ]
    }
   ],
   "source": [
    "page = requests.get(url.image_page)\n",
    "soup = bs4(page.content, 'html.parser')\n",
    "uncleaned_image_link=(str(soup.find('link',href=re.compile(r'geekdo-images')))) #isolates the full link element to the image\n",
    "dl=patt.findall(uncleaned_image_link) #removes everything except the link iteself\n",
    "if dl !=[]:\n",
    "    dl= dl[0]\n",
    "#    url.direct_link=dl\n",
    "    image = requests.get(dl)\n",
    "    output_path = os.path.join(\n",
    "        output_folder, url.game_name, url.image_number+dl[-4:]\n",
    "    )\n",
    "    print(output_path)\n",
    "    os.makedirs(os.path.dirname(output_path), exist_ok=True)\n",
    "    with open(output_path, \"wb\") as f:\n",
    "        f.write(image.content)\n",
    "#else :\n",
    "#    url.direct_link=uncleaned_image_link"
   ]
  },
  {
   "cell_type": "markdown",
   "id": "83aebcea-36a4-4128-b186-473d096f32ce",
   "metadata": {},
   "source": [
    "Getting the correct output path"
   ]
  },
  {
   "cell_type": "code",
   "execution_count": 100,
   "id": "b829a6f4-c962-4e76-95f2-ca5e1d845d88",
   "metadata": {},
   "outputs": [
    {
     "name": "stdout",
     "output_type": "stream",
     "text": [
      "boardgame-pictures/gloomhaven/2437871.jpg\n"
     ]
    }
   ],
   "source": [
    "output_path = os.path.join(\n",
    "    output_folder, url.game_name, url.image_number+'.jpg'\n",
    ")\n",
    "print(output_path)"
   ]
  },
  {
   "cell_type": "markdown",
   "id": "919dc318-e777-44af-b8a5-852adb3d11d2",
   "metadata": {},
   "source": [
    "Testing how iterating actually works"
   ]
  },
  {
   "cell_type": "code",
   "execution_count": 137,
   "id": "62c04891-809c-496b-925b-ca3018e1d2f4",
   "metadata": {},
   "outputs": [
    {
     "name": "stdout",
     "output_type": "stream",
     "text": [
      "(0, image_number                                               2437871\n",
      "game_name                                               gloomhaven\n",
      "image_page      https://boardgamegeek.com/image/2437871/gloomhaven\n",
      "direct_link                                                   None\n",
      "Name: 0, dtype: object)\n",
      "(1, image_number                                               2556210\n",
      "game_name                                               gloomhaven\n",
      "image_page      https://boardgamegeek.com/image/2556210/gloomhaven\n",
      "direct_link                                                   None\n",
      "Name: 1, dtype: object)\n",
      "(2, image_number                                               2563554\n",
      "game_name                                               gloomhaven\n",
      "image_page      https://boardgamegeek.com/image/2563554/gloomhaven\n",
      "direct_link                                                   None\n",
      "Name: 2, dtype: object)\n",
      "(3, image_number                                               2571642\n",
      "game_name                                               gloomhaven\n",
      "image_page      https://boardgamegeek.com/image/2571642/gloomhaven\n",
      "direct_link                                                   None\n",
      "Name: 3, dtype: object)\n",
      "(4, image_number                                               2579136\n",
      "game_name                                               gloomhaven\n",
      "image_page      https://boardgamegeek.com/image/2579136/gloomhaven\n",
      "direct_link                                                   None\n",
      "Name: 4, dtype: object)\n"
     ]
    }
   ],
   "source": [
    "for idx_row in df2.head().iterrows():\n",
    "    idx,row=idx_row\n",
    "    print(idx_row)\n",
    "    #print(idx)\n",
    "    #print(row)"
   ]
  },
  {
   "cell_type": "code",
   "execution_count": 147,
   "id": "72f210fe-5229-489d-aa89-fae9233f6b23",
   "metadata": {},
   "outputs": [
    {
     "data": {
      "text/html": [
       "<div>\n",
       "<style scoped>\n",
       "    .dataframe tbody tr th:only-of-type {\n",
       "        vertical-align: middle;\n",
       "    }\n",
       "\n",
       "    .dataframe tbody tr th {\n",
       "        vertical-align: top;\n",
       "    }\n",
       "\n",
       "    .dataframe thead th {\n",
       "        text-align: right;\n",
       "    }\n",
       "</style>\n",
       "<table border=\"1\" class=\"dataframe\">\n",
       "  <thead>\n",
       "    <tr style=\"text-align: right;\">\n",
       "      <th></th>\n",
       "      <th>image_number</th>\n",
       "      <th>game_name</th>\n",
       "      <th>image_page</th>\n",
       "      <th>direct_link</th>\n",
       "    </tr>\n",
       "  </thead>\n",
       "  <tbody>\n",
       "    <tr>\n",
       "      <th>0</th>\n",
       "      <td>2437871</td>\n",
       "      <td>gloomhaven</td>\n",
       "      <td>https://boardgamegeek.com/image/2437871/gloomhaven</td>\n",
       "      <td>None</td>\n",
       "    </tr>\n",
       "    <tr>\n",
       "      <th>1</th>\n",
       "      <td>2556210</td>\n",
       "      <td>gloomhaven</td>\n",
       "      <td>https://boardgamegeek.com/image/2556210/gloomhaven</td>\n",
       "      <td>None</td>\n",
       "    </tr>\n",
       "    <tr>\n",
       "      <th>2</th>\n",
       "      <td>2563554</td>\n",
       "      <td>gloomhaven</td>\n",
       "      <td>https://boardgamegeek.com/image/2563554/gloomhaven</td>\n",
       "      <td>None</td>\n",
       "    </tr>\n",
       "    <tr>\n",
       "      <th>3</th>\n",
       "      <td>2571642</td>\n",
       "      <td>gloomhaven</td>\n",
       "      <td>https://boardgamegeek.com/image/2571642/gloomhaven</td>\n",
       "      <td>None</td>\n",
       "    </tr>\n",
       "    <tr>\n",
       "      <th>4</th>\n",
       "      <td>2579136</td>\n",
       "      <td>gloomhaven</td>\n",
       "      <td>https://boardgamegeek.com/image/2579136/gloomhaven</td>\n",
       "      <td>None</td>\n",
       "    </tr>\n",
       "  </tbody>\n",
       "</table>\n",
       "</div>"
      ],
      "text/plain": [
       "  image_number   game_name  \\\n",
       "0      2437871  gloomhaven   \n",
       "1      2556210  gloomhaven   \n",
       "2      2563554  gloomhaven   \n",
       "3      2571642  gloomhaven   \n",
       "4      2579136  gloomhaven   \n",
       "\n",
       "                                           image_page direct_link  \n",
       "0  https://boardgamegeek.com/image/2437871/gloomhaven        None  \n",
       "1  https://boardgamegeek.com/image/2556210/gloomhaven        None  \n",
       "2  https://boardgamegeek.com/image/2563554/gloomhaven        None  \n",
       "3  https://boardgamegeek.com/image/2571642/gloomhaven        None  \n",
       "4  https://boardgamegeek.com/image/2579136/gloomhaven        None  "
      ]
     },
     "execution_count": 147,
     "metadata": {},
     "output_type": "execute_result"
    }
   ],
   "source": [
    "df2.head()"
   ]
  },
  {
   "cell_type": "code",
   "execution_count": 146,
   "id": "cce24e8c-8534-4fa4-95d6-4b81dc9e7a27",
   "metadata": {},
   "outputs": [],
   "source": [
    "df2.at[0,'direct_link']=None"
   ]
  },
  {
   "cell_type": "code",
   "execution_count": 150,
   "id": "be857eeb-51fd-416f-83ec-4b48762e23b1",
   "metadata": {},
   "outputs": [],
   "source": [
    "df2head=pd.read_pickle('df_images_head')"
   ]
  },
  {
   "cell_type": "code",
   "execution_count": 151,
   "id": "63a42680-d6ac-4f84-afa7-d292dbb9c269",
   "metadata": {},
   "outputs": [
    {
     "data": {
      "text/html": [
       "<div>\n",
       "<style scoped>\n",
       "    .dataframe tbody tr th:only-of-type {\n",
       "        vertical-align: middle;\n",
       "    }\n",
       "\n",
       "    .dataframe tbody tr th {\n",
       "        vertical-align: top;\n",
       "    }\n",
       "\n",
       "    .dataframe thead th {\n",
       "        text-align: right;\n",
       "    }\n",
       "</style>\n",
       "<table border=\"1\" class=\"dataframe\">\n",
       "  <thead>\n",
       "    <tr style=\"text-align: right;\">\n",
       "      <th></th>\n",
       "      <th>image_number</th>\n",
       "      <th>game_name</th>\n",
       "      <th>image_page</th>\n",
       "      <th>direct_link</th>\n",
       "    </tr>\n",
       "  </thead>\n",
       "  <tbody>\n",
       "    <tr>\n",
       "      <th>0</th>\n",
       "      <td>2437871</td>\n",
       "      <td>gloomhaven</td>\n",
       "      <td>https://boardgamegeek.com/image/2437871/gloomhaven</td>\n",
       "      <td>https://cf.geekdo-images.com/sZYp_3BTDGjh2unaZfZmuA__imagepage/img/pBaOL7vV402nn1I5dHsdSKsFHqA=/fit-in/900x600/filters:no_upscale():strip_icc()/pic2437871.jpg</td>\n",
       "    </tr>\n",
       "    <tr>\n",
       "      <th>1</th>\n",
       "      <td>2556210</td>\n",
       "      <td>gloomhaven</td>\n",
       "      <td>https://boardgamegeek.com/image/2556210/gloomhaven</td>\n",
       "      <td>https://cf.geekdo-images.com/8_t1fAfg2XUXZwXmQAKKEw__imagepage/img/YdUkrBtJyR5KChUOZRoNdbk6jfs=/fit-in/900x600/filters:no_upscale():strip_icc()/pic2556210.jpg</td>\n",
       "    </tr>\n",
       "    <tr>\n",
       "      <th>2</th>\n",
       "      <td>2563554</td>\n",
       "      <td>gloomhaven</td>\n",
       "      <td>https://boardgamegeek.com/image/2563554/gloomhaven</td>\n",
       "      <td>https://cf.geekdo-images.com/KfNMyGdwipOJZymQep-nBw__imagepage/img/c9RLY7w-F2yqOBBprEa9cJyJWGk=/fit-in/900x600/filters:no_upscale():strip_icc()/pic2563554.jpg</td>\n",
       "    </tr>\n",
       "    <tr>\n",
       "      <th>3</th>\n",
       "      <td>2571642</td>\n",
       "      <td>gloomhaven</td>\n",
       "      <td>https://boardgamegeek.com/image/2571642/gloomhaven</td>\n",
       "      <td>https://cf.geekdo-images.com/Q26KGdwoIk7vfe0vMUqAuA__imagepage/img/fE1XRGllK26lG7DNhXeL4HiTWOI=/fit-in/900x600/filters:no_upscale():strip_icc()/pic2571642.jpg</td>\n",
       "    </tr>\n",
       "    <tr>\n",
       "      <th>4</th>\n",
       "      <td>2579136</td>\n",
       "      <td>gloomhaven</td>\n",
       "      <td>https://boardgamegeek.com/image/2579136/gloomhaven</td>\n",
       "      <td>https://cf.geekdo-images.com/R7CLLqDH_ymF_nOBkn1Qug__imagepage/img/jwYsOjFUYRbxHUmB1pxJY7k8IqY=/fit-in/900x600/filters:no_upscale():strip_icc()/pic2579136.jpg</td>\n",
       "    </tr>\n",
       "  </tbody>\n",
       "</table>\n",
       "</div>"
      ],
      "text/plain": [
       "  image_number   game_name  \\\n",
       "0      2437871  gloomhaven   \n",
       "1      2556210  gloomhaven   \n",
       "2      2563554  gloomhaven   \n",
       "3      2571642  gloomhaven   \n",
       "4      2579136  gloomhaven   \n",
       "\n",
       "                                           image_page  \\\n",
       "0  https://boardgamegeek.com/image/2437871/gloomhaven   \n",
       "1  https://boardgamegeek.com/image/2556210/gloomhaven   \n",
       "2  https://boardgamegeek.com/image/2563554/gloomhaven   \n",
       "3  https://boardgamegeek.com/image/2571642/gloomhaven   \n",
       "4  https://boardgamegeek.com/image/2579136/gloomhaven   \n",
       "\n",
       "                                                                                                                                                      direct_link  \n",
       "0  https://cf.geekdo-images.com/sZYp_3BTDGjh2unaZfZmuA__imagepage/img/pBaOL7vV402nn1I5dHsdSKsFHqA=/fit-in/900x600/filters:no_upscale():strip_icc()/pic2437871.jpg  \n",
       "1  https://cf.geekdo-images.com/8_t1fAfg2XUXZwXmQAKKEw__imagepage/img/YdUkrBtJyR5KChUOZRoNdbk6jfs=/fit-in/900x600/filters:no_upscale():strip_icc()/pic2556210.jpg  \n",
       "2  https://cf.geekdo-images.com/KfNMyGdwipOJZymQep-nBw__imagepage/img/c9RLY7w-F2yqOBBprEa9cJyJWGk=/fit-in/900x600/filters:no_upscale():strip_icc()/pic2563554.jpg  \n",
       "3  https://cf.geekdo-images.com/Q26KGdwoIk7vfe0vMUqAuA__imagepage/img/fE1XRGllK26lG7DNhXeL4HiTWOI=/fit-in/900x600/filters:no_upscale():strip_icc()/pic2571642.jpg  \n",
       "4  https://cf.geekdo-images.com/R7CLLqDH_ymF_nOBkn1Qug__imagepage/img/jwYsOjFUYRbxHUmB1pxJY7k8IqY=/fit-in/900x600/filters:no_upscale():strip_icc()/pic2579136.jpg  "
      ]
     },
     "execution_count": 151,
     "metadata": {},
     "output_type": "execute_result"
    }
   ],
   "source": [
    "df2head"
   ]
  },
  {
   "cell_type": "code",
   "execution_count": 152,
   "id": "98bad663-3c1b-4987-92b5-51b0d300b8f5",
   "metadata": {},
   "outputs": [
    {
     "data": {
      "text/plain": [
       "'https://cf.geekdo-images.com/eiZ1dJ8dND0UVpRT5ha0eA__original/img/kRVUqjNxKulURCmF53OWLL3jJ_U=/0x0/filters:format(png)/pic2602482.png'"
      ]
     },
     "execution_count": 152,
     "metadata": {},
     "output_type": "execute_result"
    }
   ],
   "source": [
    "'https://cf.geekdo-images.com/eiZ1dJ8dND0UVpRT5ha0eA__original/img/kRVUqjNxKulURCmF53OWLL3jJ_U=/0x0/filters:format(png)/pic2602482.png'"
   ]
  },
  {
   "cell_type": "code",
   "execution_count": 153,
   "id": "c0d60ba8-4a03-4882-bf30-3bfcb84e0ee6",
   "metadata": {},
   "outputs": [
    {
     "data": {
      "text/plain": [
       "'https://cf.geekdo-images.com/R7CLLqDH_ymF_nOBkn1Qug__imagepage/img/jwYsOjFUYRbxHUmB1pxJY7k8IqY=/fit-in/900x600/filters:no_upscale():strip_icc()/pic2579136.jpg'"
      ]
     },
     "execution_count": 153,
     "metadata": {},
     "output_type": "execute_result"
    }
   ],
   "source": [
    "'https://cf.geekdo-images.com/R7CLLqDH_ymF_nOBkn1Qug__imagepage/img/jwYsOjFUYRbxHUmB1pxJY7k8IqY=/fit-in/900x600/filters:no_upscale():strip_icc()/pic2579136.jpg'"
   ]
  },
  {
   "cell_type": "code",
   "execution_count": 154,
   "id": "fc074e96-168a-4fc9-a7b9-2bdf36bf31dd",
   "metadata": {},
   "outputs": [
    {
     "data": {
      "text/plain": [
       "'https://cf.geekdo-images.com/R7CLLqDH_ymF_nOBkn1Qug__original/img/jwYsOjFUYRbxHUmB1pxJY7k8IqY=/0x0/filters:format(jpg)/pic2579136.jpg'"
      ]
     },
     "execution_count": 154,
     "metadata": {},
     "output_type": "execute_result"
    }
   ],
   "source": [
    "'https://cf.geekdo-images.com/R7CLLqDH_ymF_nOBkn1Qug__original/img/jwYsOjFUYRbxHUmB1pxJY7k8IqY=/0x0/filters:format(jpg)/pic2579136.jpg'"
   ]
  },
  {
   "cell_type": "code",
   "execution_count": 23,
   "id": "93b43564-5dc2-46d8-857c-5320b2352e5f",
   "metadata": {},
   "outputs": [
    {
     "data": {
      "text/plain": [
       "'https://cf.geekdo-images.com/R7CLLqDH_ymF_nOBkn1Qug__original/img/xsdFquOOjiolTa2QHZ6b5vMec4o=/0x0/filters:format(jpeg)/pic2579136.jpg'"
      ]
     },
     "execution_count": 23,
     "metadata": {},
     "output_type": "execute_result"
    }
   ],
   "source": [
    "'https://cf.geekdo-images.com/R7CLLqDH_ymF_nOBkn1Qug__original/img/xsdFquOOjiolTa2QHZ6b5vMec4o=/0x0/filters:format(jpeg)/pic2579136.jpg'"
   ]
  },
  {
   "cell_type": "markdown",
   "id": "aaf340d9-4b70-4d84-9d1d-36f2cab7f51e",
   "metadata": {},
   "source": [
    "Had to repair a single file by hand"
   ]
  },
  {
   "cell_type": "raw",
   "id": "24de13ad-7ea8-41ec-856c-0424fa0a5d26",
   "metadata": {},
   "source": [
    "page= requests.get('https://cf.geekdo-images.com/ULeaDfnrDxsxECfiX5_UKg__imagepage/img/Owd7DQsmeMYRftRNSCI037CPL6E=/fit-in/900x600/filters:no_upscale():strip_icc()/pic1207320.jpg')"
   ]
  },
  {
   "cell_type": "raw",
   "id": "86b3b4fe-933b-4437-934d-e108c07a2638",
   "metadata": {},
   "source": [
    "with open(os.path.join('boardgame-pictures','mage-knight-board-game','1207320.jpg'), \"wb\") as f:\n",
    "        f.write(page.content)"
   ]
  },
  {
   "cell_type": "markdown",
   "id": "e3fe3661-8474-4196-85c4-2dd9b55444bc",
   "metadata": {
    "jp-MarkdownHeadingCollapsed": true,
    "tags": []
   },
   "source": [
    "### Link Collector (OLD, using consecutive image number)"
   ]
  },
  {
   "cell_type": "code",
   "execution_count": 26,
   "id": "c537ad25-7009-45bb-97af-0d5b0093eb5b",
   "metadata": {},
   "outputs": [],
   "source": [
    "def get_links_simple(start,stop):\n",
    "    linklist=[]\n",
    "    errorlist=[]\n",
    "    for image_number in range(start,stop): \n",
    "        if image_number%10==0 and image_number!=0:\n",
    "                print(image_number)\n",
    "        page = requests.get('https://boardgamegeek.com/image/'+str(image_number))\n",
    "        if page.status_code==404:\n",
    "            errorlist.append([image_number,404,None])#None for vectorization\n",
    "        else:\n",
    "            soup = bs4(page.content, 'html.parser')\n",
    "            uncleaned_image_link=(str(soup.find('link',href=re.compile(r'geekdo-images')))) #isolates the full link element to the image\n",
    "            patt= re.compile(r'https.*'+str(image_number)+r'[^\"]*')  \n",
    "            image_link=patt.findall(uncleaned_image_link) #removes everything except the link iteself\n",
    "\n",
    "            uncleaned_game_name=(str(soup.find('link',rel='canonical'))) \n",
    "            patt2= re.compile(str(image_number)+r'/[^\"]*')\n",
    "            game_name=patt2.findall(uncleaned_game_name)\n",
    "            \n",
    "            if image_link==[] or game_name==[]:\n",
    "                errorlist.append([image_number, page.status_code,None]) #None for vectorization\n",
    "            else: \n",
    "                linklist.append([image_number,game_name[0][8:],image_link[0]])\n",
    "            \n",
    "    return [linklist, errorlist]"
   ]
  },
  {
   "cell_type": "markdown",
   "id": "503d6629-badc-466b-9f65-57baa9b7b892",
   "metadata": {
    "jp-MarkdownHeadingCollapsed": true,
    "tags": []
   },
   "source": [
    "### collecting links (OLD, using consecutive image number)"
   ]
  },
  {
   "cell_type": "code",
   "execution_count": 40,
   "id": "0522aa0f-8236-4f01-90c0-1bd7dda72652",
   "metadata": {},
   "outputs": [
    {
     "name": "stdout",
     "output_type": "stream",
     "text": [
      "2669800\n"
     ]
    }
   ],
   "source": [
    "l1 = get_links(2669798,2669806)"
   ]
  },
  {
   "cell_type": "code",
   "execution_count": 6,
   "id": "659e0ecb-c59b-4192-b147-b5638f3f79ec",
   "metadata": {},
   "outputs": [],
   "source": [
    "#l1"
   ]
  },
  {
   "cell_type": "code",
   "execution_count": 42,
   "id": "ec7a357b-cc80-44dc-a950-9738efaf4372",
   "metadata": {},
   "outputs": [],
   "source": [
    "l2 = get_links(2669806,2669816)"
   ]
  },
  {
   "cell_type": "code",
   "execution_count": 7,
   "id": "cec9ca03-1ee8-44a1-8dce-554c7078c327",
   "metadata": {},
   "outputs": [],
   "source": [
    "#l2"
   ]
  },
  {
   "cell_type": "code",
   "execution_count": 10,
   "id": "4d06bdaf-9b82-42a0-9ec4-8001e89349e8",
   "metadata": {},
   "outputs": [
    {
     "name": "stdout",
     "output_type": "stream",
     "text": [
      "2437900\n",
      "2438000\n",
      "2438100\n",
      "2438200\n",
      "2438300\n",
      "2438400\n",
      "2438500\n",
      "2438600\n",
      "2438700\n",
      "2438800\n"
     ]
    }
   ],
   "source": [
    "l1=get_links_simple(2437871,2438871)"
   ]
  },
  {
   "cell_type": "code",
   "execution_count": 18,
   "id": "7681db53-aa4c-4e1a-98ca-75089330adc1",
   "metadata": {},
   "outputs": [],
   "source": [
    "with open('game_links01', 'wb') as fp:\n",
    "    pickle.dump(l1, fp)"
   ]
  },
  {
   "cell_type": "code",
   "execution_count": 12,
   "id": "2112aa8a-999e-4cd6-aada-a83428b0828e",
   "metadata": {},
   "outputs": [],
   "source": [
    "with open ('game_links01', 'rb') as fp:\n",
    "    l1_loaded = pickle.load(fp)"
   ]
  },
  {
   "cell_type": "code",
   "execution_count": 18,
   "id": "dc36f3e0-7b35-49c7-83cc-1d71b6baa0af",
   "metadata": {},
   "outputs": [],
   "source": [
    "with open('testing', 'ab') as fp:\n",
    "    pickle.dump([1,2,3,4,5], fp)"
   ]
  },
  {
   "cell_type": "code",
   "execution_count": 22,
   "id": "9660b77a-417c-4fa4-aa72-71464900c4fa",
   "metadata": {},
   "outputs": [],
   "source": [
    "with open ('testing', 'rb') as fp:\n",
    "    test_loaded = pickle.load(fp)"
   ]
  },
  {
   "cell_type": "code",
   "execution_count": 20,
   "id": "34122698-00b0-431b-a787-c85eff7c4d7b",
   "metadata": {},
   "outputs": [
    {
     "data": {
      "text/plain": [
       "[1, 2, 3, 4]"
      ]
     },
     "execution_count": 20,
     "metadata": {},
     "output_type": "execute_result"
    }
   ],
   "source": [
    "test_loaded"
   ]
  },
  {
   "cell_type": "code",
   "execution_count": null,
   "id": "8d7deaa8-fb3d-46f6-afbe-4f829edc7d8b",
   "metadata": {},
   "outputs": [],
   "source": []
  },
  {
   "cell_type": "raw",
   "id": "b1a2d429-848a-48e6-b9e3-3528144893ef",
   "metadata": {},
   "source": [
    "l2=get_links_simple(2438871,2439171)"
   ]
  },
  {
   "cell_type": "raw",
   "id": "a3ee76c2-25af-42f4-b072-615026dd3abd",
   "metadata": {},
   "source": [
    "l3=get_links_simple(2439171,2439471)"
   ]
  },
  {
   "cell_type": "raw",
   "id": "e6397ac0-e545-40ec-a4d7-732303380021",
   "metadata": {},
   "source": [
    "l4=get_links_simple(2439171,2439571)"
   ]
  },
  {
   "cell_type": "code",
   "execution_count": 136,
   "id": "d45fbf37-054a-42da-9418-46b164208173",
   "metadata": {},
   "outputs": [],
   "source": [
    "l_save=[l2[0]+l3[0]+l4[0],l2[1]+l3[1]+l4[1]]"
   ]
  },
  {
   "cell_type": "code",
   "execution_count": 137,
   "id": "91a82376-420c-47ba-9798-6d3910999f94",
   "metadata": {},
   "outputs": [],
   "source": [
    "with open('game_links02', 'wb') as fp:\n",
    "    pickle.dump(l_save, fp)"
   ]
  },
  {
   "cell_type": "code",
   "execution_count": 138,
   "id": "e451993f-c248-44a9-b939-4988edc29884",
   "metadata": {},
   "outputs": [],
   "source": [
    "with open ('game_links02', 'rb') as fp:\n",
    "    l_loaded = pickle.load(fp)"
   ]
  },
  {
   "cell_type": "code",
   "execution_count": null,
   "id": "1de2dabe-9d7a-4e70-8e77-64a320c2ac7c",
   "metadata": {},
   "outputs": [],
   "source": []
  },
  {
   "cell_type": "raw",
   "id": "cd9a4880-d186-4e5c-9bd2-7a929c47301e",
   "metadata": {},
   "source": [
    "l2=get_links_simple(2669798,2669898)"
   ]
  },
  {
   "cell_type": "markdown",
   "id": "46f10d07-ea4c-433c-93fb-e0608b4d7343",
   "metadata": {},
   "source": [
    "This took ~30 seconds"
   ]
  },
  {
   "cell_type": "code",
   "execution_count": 58,
   "id": "38b308fb-582e-4712-af62-d13ee10ae060",
   "metadata": {},
   "outputs": [
    {
     "data": {
      "text/plain": [
       "12000"
      ]
     },
     "execution_count": 58,
     "metadata": {},
     "output_type": "execute_result"
    }
   ],
   "source": [
    "60*2*100"
   ]
  },
  {
   "cell_type": "markdown",
   "id": "54f6e242-463a-48a9-bb15-a6e50501f667",
   "metadata": {},
   "source": [
    "So I could expect to get 12000 links in an hour"
   ]
  },
  {
   "cell_type": "markdown",
   "id": "2cc30a45-82e4-42e2-84e8-9c3b3c3b8031",
   "metadata": {
    "jp-MarkdownHeadingCollapsed": true,
    "tags": []
   },
   "source": [
    "### some inspection"
   ]
  },
  {
   "cell_type": "code",
   "execution_count": 155,
   "id": "b1408fcc-27bf-4ae8-98a5-5e9aef3faf83",
   "metadata": {},
   "outputs": [],
   "source": [
    "gns=pd.DataFrame(l_loaded[0])"
   ]
  },
  {
   "cell_type": "code",
   "execution_count": 156,
   "id": "0b4e24ec-bd46-447a-9516-b483cfefeee7",
   "metadata": {},
   "outputs": [
    {
     "data": {
      "text/html": [
       "<div>\n",
       "<style scoped>\n",
       "    .dataframe tbody tr th:only-of-type {\n",
       "        vertical-align: middle;\n",
       "    }\n",
       "\n",
       "    .dataframe tbody tr th {\n",
       "        vertical-align: top;\n",
       "    }\n",
       "\n",
       "    .dataframe thead th {\n",
       "        text-align: right;\n",
       "    }\n",
       "</style>\n",
       "<table border=\"1\" class=\"dataframe\">\n",
       "  <thead>\n",
       "    <tr style=\"text-align: right;\">\n",
       "      <th></th>\n",
       "      <th>0</th>\n",
       "      <th>1</th>\n",
       "      <th>2</th>\n",
       "    </tr>\n",
       "  </thead>\n",
       "  <tbody>\n",
       "    <tr>\n",
       "      <th>0</th>\n",
       "      <td>2438871</td>\n",
       "      <td>entranced</td>\n",
       "      <td>https://cf.geekdo-images.com/U70FOKd_6j717C06XruJrw__imagepage/img/xgs8ngN6RvZfvop3stwcNGFHNck=/fit-in/900x600/filters:no_upscale():strip_icc()/pic2438871.png</td>\n",
       "    </tr>\n",
       "    <tr>\n",
       "      <th>1</th>\n",
       "      <td>2438872</td>\n",
       "      <td>entranced</td>\n",
       "      <td>https://cf.geekdo-images.com/SukFOA6_sH7xcLo7NF1LzQ__imagepage/img/wMigVCnMrN97yWkaszA10G0H670=/fit-in/900x600/filters:no_upscale():strip_icc()/pic2438872.png</td>\n",
       "    </tr>\n",
       "    <tr>\n",
       "      <th>2</th>\n",
       "      <td>2438873</td>\n",
       "      <td>entranced</td>\n",
       "      <td>https://cf.geekdo-images.com/wwlkbuFMPeGEQkPauyp-aA__imagepage/img/du5CWGW3Uwq4OqjIhcMUwu0VFdk=/fit-in/900x600/filters:no_upscale():strip_icc()/pic2438873.png</td>\n",
       "    </tr>\n",
       "    <tr>\n",
       "      <th>3</th>\n",
       "      <td>2438874</td>\n",
       "      <td>entranced</td>\n",
       "      <td>https://cf.geekdo-images.com/7c_AiD--joSVIU9GyGgerA__imagepage/img/BToCrDQBpNJOL_YSKF3qcySFQ8I=/fit-in/900x600/filters:no_upscale():strip_icc()/pic2438874.png</td>\n",
       "    </tr>\n",
       "    <tr>\n",
       "      <th>4</th>\n",
       "      <td>2438875</td>\n",
       "      <td>entranced</td>\n",
       "      <td>https://cf.geekdo-images.com/SzbQ0ZTlWuQh-f0TgRbTkQ__imagepage/img/xaYouPhVk-0ySBzZOB9Oxj_Ogzw=/fit-in/900x600/filters:no_upscale():strip_icc()/pic2438875.png</td>\n",
       "    </tr>\n",
       "    <tr>\n",
       "      <th>...</th>\n",
       "      <td>...</td>\n",
       "      <td>...</td>\n",
       "      <td>...</td>\n",
       "    </tr>\n",
       "    <tr>\n",
       "      <th>832</th>\n",
       "      <td>2439566</td>\n",
       "      <td>murder-baldurs-gate-launch-weekend</td>\n",
       "      <td>https://cf.geekdo-images.com/wXxQmQwPpqQzreIGQdLypA__imagepage/img/Q0F2ceuSgzZwXAXprs3nhBEz6T8=/fit-in/900x600/filters:no_upscale():strip_icc()/pic2439566.jpg</td>\n",
       "    </tr>\n",
       "    <tr>\n",
       "      <th>833</th>\n",
       "      <td>2439567</td>\n",
       "      <td>murder-baldurs-gate-launch-weekend</td>\n",
       "      <td>https://cf.geekdo-images.com/unUjmsWNqTUb9-2qfit-Jg__imagepage/img/en5R5Wt_GGGPLSPDakcmNOPuK8k=/fit-in/900x600/filters:no_upscale():strip_icc()/pic2439567.jpg</td>\n",
       "    </tr>\n",
       "    <tr>\n",
       "      <th>834</th>\n",
       "      <td>2439568</td>\n",
       "      <td>murder-baldurs-gate-launch-weekend</td>\n",
       "      <td>https://cf.geekdo-images.com/iR0lfPph2RrmbNthTFRrhg__imagepage/img/5lejpE-Uq75ZcKR0ItMFaatYmL0=/fit-in/900x600/filters:no_upscale():strip_icc()/pic2439568.jpg</td>\n",
       "    </tr>\n",
       "    <tr>\n",
       "      <th>835</th>\n",
       "      <td>2439569</td>\n",
       "      <td>murder-baldurs-gate-launch-weekend</td>\n",
       "      <td>https://cf.geekdo-images.com/PPsbTfuNUAmCfbGj9sSb8A__imagepage/img/4wnsg6oFFI-r3UhIceZ68Uoj250=/fit-in/900x600/filters:no_upscale():strip_icc()/pic2439569.jpg</td>\n",
       "    </tr>\n",
       "    <tr>\n",
       "      <th>836</th>\n",
       "      <td>2439570</td>\n",
       "      <td>fief-france-1429-buildings-pack</td>\n",
       "      <td>https://cf.geekdo-images.com/CFdmdym33GF_OcFRiZJ-wg__imagepage/img/6Dp_hZhdgLUxkCRrtiF0jHAOE7E=/fit-in/900x600/filters:no_upscale():strip_icc()/pic2439570.jpg</td>\n",
       "    </tr>\n",
       "  </tbody>\n",
       "</table>\n",
       "<p>837 rows × 3 columns</p>\n",
       "</div>"
      ],
      "text/plain": [
       "           0                                   1  \\\n",
       "0    2438871                           entranced   \n",
       "1    2438872                           entranced   \n",
       "2    2438873                           entranced   \n",
       "3    2438874                           entranced   \n",
       "4    2438875                           entranced   \n",
       "..       ...                                 ...   \n",
       "832  2439566  murder-baldurs-gate-launch-weekend   \n",
       "833  2439567  murder-baldurs-gate-launch-weekend   \n",
       "834  2439568  murder-baldurs-gate-launch-weekend   \n",
       "835  2439569  murder-baldurs-gate-launch-weekend   \n",
       "836  2439570     fief-france-1429-buildings-pack   \n",
       "\n",
       "                                                                                                                                                                  2  \n",
       "0    https://cf.geekdo-images.com/U70FOKd_6j717C06XruJrw__imagepage/img/xgs8ngN6RvZfvop3stwcNGFHNck=/fit-in/900x600/filters:no_upscale():strip_icc()/pic2438871.png  \n",
       "1    https://cf.geekdo-images.com/SukFOA6_sH7xcLo7NF1LzQ__imagepage/img/wMigVCnMrN97yWkaszA10G0H670=/fit-in/900x600/filters:no_upscale():strip_icc()/pic2438872.png  \n",
       "2    https://cf.geekdo-images.com/wwlkbuFMPeGEQkPauyp-aA__imagepage/img/du5CWGW3Uwq4OqjIhcMUwu0VFdk=/fit-in/900x600/filters:no_upscale():strip_icc()/pic2438873.png  \n",
       "3    https://cf.geekdo-images.com/7c_AiD--joSVIU9GyGgerA__imagepage/img/BToCrDQBpNJOL_YSKF3qcySFQ8I=/fit-in/900x600/filters:no_upscale():strip_icc()/pic2438874.png  \n",
       "4    https://cf.geekdo-images.com/SzbQ0ZTlWuQh-f0TgRbTkQ__imagepage/img/xaYouPhVk-0ySBzZOB9Oxj_Ogzw=/fit-in/900x600/filters:no_upscale():strip_icc()/pic2438875.png  \n",
       "..                                                                                                                                                              ...  \n",
       "832  https://cf.geekdo-images.com/wXxQmQwPpqQzreIGQdLypA__imagepage/img/Q0F2ceuSgzZwXAXprs3nhBEz6T8=/fit-in/900x600/filters:no_upscale():strip_icc()/pic2439566.jpg  \n",
       "833  https://cf.geekdo-images.com/unUjmsWNqTUb9-2qfit-Jg__imagepage/img/en5R5Wt_GGGPLSPDakcmNOPuK8k=/fit-in/900x600/filters:no_upscale():strip_icc()/pic2439567.jpg  \n",
       "834  https://cf.geekdo-images.com/iR0lfPph2RrmbNthTFRrhg__imagepage/img/5lejpE-Uq75ZcKR0ItMFaatYmL0=/fit-in/900x600/filters:no_upscale():strip_icc()/pic2439568.jpg  \n",
       "835  https://cf.geekdo-images.com/PPsbTfuNUAmCfbGj9sSb8A__imagepage/img/4wnsg6oFFI-r3UhIceZ68Uoj250=/fit-in/900x600/filters:no_upscale():strip_icc()/pic2439569.jpg  \n",
       "836  https://cf.geekdo-images.com/CFdmdym33GF_OcFRiZJ-wg__imagepage/img/6Dp_hZhdgLUxkCRrtiF0jHAOE7E=/fit-in/900x600/filters:no_upscale():strip_icc()/pic2439570.jpg  \n",
       "\n",
       "[837 rows x 3 columns]"
      ]
     },
     "execution_count": 156,
     "metadata": {},
     "output_type": "execute_result"
    }
   ],
   "source": [
    "gns"
   ]
  },
  {
   "cell_type": "code",
   "execution_count": 157,
   "id": "c7ef2c12-c6bf-4371-a0a1-066dcb437fc7",
   "metadata": {},
   "outputs": [],
   "source": [
    "gns.columns=['image_id','game_title','image_link']"
   ]
  },
  {
   "cell_type": "raw",
   "id": "d339423b-0c30-4f4d-b039-0338454d05db",
   "metadata": {},
   "source": [
    "gns[gns['game_title']=='']"
   ]
  },
  {
   "cell_type": "code",
   "execution_count": 160,
   "id": "00df938b-793c-438e-b05e-ec918c9a4678",
   "metadata": {},
   "outputs": [
    {
     "data": {
      "text/plain": [
       "andrei123                          51\n",
       "entranced                          45\n",
       "                                   39\n",
       "fogus                              30\n",
       "mars-attacks-miniatures-game       30\n",
       "                                   ..\n",
       "cleric                              1\n",
       "assassin                            1\n",
       "jester                              1\n",
       "mice-and-mystics                    1\n",
       "fief-france-1429-buildings-pack     1\n",
       "Name: game_title, Length: 190, dtype: int64"
      ]
     },
     "execution_count": 160,
     "metadata": {},
     "output_type": "execute_result"
    }
   ],
   "source": [
    "gns['game_title'].value_counts()"
   ]
  },
  {
   "cell_type": "markdown",
   "id": "6322e53f-6c10-4140-9c3d-040a3222f536",
   "metadata": {},
   "source": [
    "We need an effective way to isolate games from users"
   ]
  },
  {
   "cell_type": "markdown",
   "id": "44cc2d87-4bb0-4d6c-99b5-91ec88484855",
   "metadata": {
    "jp-MarkdownHeadingCollapsed": true,
    "tags": []
   },
   "source": [
    "### Starting another test to use the gallery"
   ]
  },
  {
   "cell_type": "code",
   "execution_count": 161,
   "id": "00f8b994-05fd-4d0a-baa3-fdad7c4fe8b4",
   "metadata": {},
   "outputs": [],
   "source": [
    "page_t = requests.get('https://boardgamegeek.com/boardgame/174430/gloomhaven/images?pageid=1')\n",
    "soup_t = bs4(page_t.content, 'html.parser')"
   ]
  },
  {
   "cell_type": "code",
   "execution_count": 162,
   "id": "54f49a1a-7c01-44ab-beaa-544d2ca4ce98",
   "metadata": {},
   "outputs": [],
   "source": [
    "page_t = requests.get('https://boardgamegeek.com/image/2437871/gloomhaven')\n",
    "soup_t = bs4(page_t.content, 'html.parser')"
   ]
  },
  {
   "cell_type": "code",
   "execution_count": 163,
   "id": "8f3d5663-af32-42a4-9832-bc5ec67571c1",
   "metadata": {},
   "outputs": [
    {
     "data": {
      "text/plain": [
       "[<gg-app>\n",
       " <header class=\"skeleton-header\">\n",
       " <nav>\n",
       " <span class=\"skeleton-header-logo\"></span>\n",
       " <span class=\"skeleton-header-item\"></span>\n",
       " <span class=\"skeleton-header-item\"></span>\n",
       " <span class=\"skeleton-header-item\"></span>\n",
       " <span class=\"skeleton-header-item\"></span>\n",
       " <span class=\"skeleton-header-item\"></span>\n",
       " <span class=\"skeleton-header-item\"></span>\n",
       " </nav>\n",
       " </header>\n",
       " <main class=\"skeleton-main\">\n",
       " <div class=\"loader\">\n",
       " <div class=\"line\"></div>\n",
       " <div class=\"line\"></div>\n",
       " <div class=\"line\"></div>\n",
       " <div class=\"line\"></div>\n",
       " </div>\n",
       " </main>\n",
       " </gg-app>]"
      ]
     },
     "execution_count": 163,
     "metadata": {},
     "output_type": "execute_result"
    }
   ],
   "source": [
    "soup_t.find_all(\"gg-app\")"
   ]
  },
  {
   "cell_type": "code",
   "execution_count": 1,
   "id": "98be7711-b1d7-41ba-add5-e1d66e0d8d09",
   "metadata": {},
   "outputs": [
    {
     "ename": "NameError",
     "evalue": "name 'soup_t' is not defined",
     "output_type": "error",
     "traceback": [
      "\u001b[0;31m---------------------------------------------------------------------------\u001b[0m",
      "\u001b[0;31mNameError\u001b[0m                                 Traceback (most recent call last)",
      "Cell \u001b[0;32mIn [1], line 1\u001b[0m\n\u001b[0;32m----> 1\u001b[0m soup_t\u001b[38;5;241m.\u001b[39mfind_all(\u001b[38;5;124m\"\u001b[39m\u001b[38;5;124mscript\u001b[39m\u001b[38;5;124m\"\u001b[39m)\n",
      "\u001b[0;31mNameError\u001b[0m: name 'soup_t' is not defined"
     ]
    }
   ],
   "source": [
    "soup_t.find_all(\"script\")"
   ]
  },
  {
   "cell_type": "markdown",
   "id": "e0791c37-9b57-487c-a53a-4bb7195b0599",
   "metadata": {
    "jp-MarkdownHeadingCollapsed": true,
    "tags": []
   },
   "source": [
    "### Independent approach: Download via google with specific queries limiting to bgg"
   ]
  },
  {
   "cell_type": "markdown",
   "id": "431edad4-b3e4-4450-bfdd-67b007aea140",
   "metadata": {},
   "source": [
    "For example, the following seem to offer decent results for a difficult game query.\n",
    "\n",
    "intitle:\"ark nova\" site:boardgamegeek.com\n",
    "\n",
    "\"ark nova\" site:boardgamegeek.com\n",
    "\n",
    "ark-nova site:boardgamegeek.com\n",
    "\n",
    "For the game \"On Mars\", the third option produced the best results. For \"Beyond the sun\", the second option seemed best."
   ]
  },
  {
   "cell_type": "markdown",
   "id": "aec26f38-6025-4968-abb5-b8abdc0ff0ab",
   "metadata": {},
   "source": []
  },
  {
   "cell_type": "code",
   "execution_count": 165,
   "id": "566565af-4821-41b2-a8ae-b6ac7d6c425a",
   "metadata": {},
   "outputs": [],
   "source": [
    "path = Path('boardgame-pictures-google')"
   ]
  },
  {
   "cell_type": "markdown",
   "id": "096add16-77ba-4ae7-aed5-0fc8289fd3de",
   "metadata": {},
   "source": [
    "Uncleaned Searches is for a dictionary giving the correct board game names in the end"
   ]
  },
  {
   "cell_type": "code",
   "execution_count": 3,
   "id": "066c6d2f-cbb5-451e-9f22-026879c9210b",
   "metadata": {},
   "outputs": [],
   "source": [
    "searches='Gloomhaven','Brass Birmingham','Pandemic Legacy Season 1','Ark Nova','Terraforming Mars','Gloomhaven Jaws of the Lion','Twilight Imperium Fourth Edition','Star Wars Rebellion','Gaia Project','War of the Ring Second Edition','Spirit Island','Through the Ages A New Story of Civilization','Great Western Trail','Twilight Struggle','Dune Imperium','Scythe','The Castles of Burgundy','Nemesis','7 Wonders Duel','Brass Lancashire','Concordia','A Feast for Odin','Terra Mystica','Wingspan','Arkham Horror The Card Game','Clank Legacy Acquisitions Incorporated','Eclipse Second Dawn for the Galaxy','Root','Everdell','Viticulture Essential Edition','Orleans','Lost Ruins of Arnak','Mage Knight Board Game','Food Chain Magnate','Barrage','Marvel Champions The Card Game','Puerto Rico','Too Many Bones','Caverna The Cave Farmers','Blood Rage','Pax Pamir Second Edition','Agricola','Underwater Cities','The Crew Mission Deep Sea','Anachrony','Maracaibo','Mansions of Madness Second Edition','Pandemic Legacy Season 2','The Crew The Quest for Planet Nine','On Mars','Tzolkin The Mayan Calendar','Power Grid','Clans of Caledonia','Crokinole','Le Havre','Star Wars Imperial Assault','Cascadia','Kingdom Death Monster','Pandemic Legacy Season 0','Mechs vs Minions','Lisboa','The Quacks of Quedlinburg','The Gallerist','Paladins of the West Kingdom','Azul','Android Netrunner','Eclipse','Aeons End','The 7th Continent','Through the Ages A Story of Civilization','Race for the Galaxy','Clank A DeckBuilding Adventure','Five Tribes','Fields of Arle','Teotihuacan City of Gods','Grand Austria Hotel','Agricola Revised Edition','Robinson Crusoe Adventures on the Cursed Island','Kanban EV','The Voyages of Marco Polo','7 Wonders','Lords of Waterdeep','Dominant Species','Sleeping Gods','Great Western Trail Second Edition','Tainted Grail The Fall of Avalon','Architects of the West Kingdom','El Grande','Keyflower','Caylus','Battlestar Galactica The Board Game','Beyond the Sun','Mombasa','Dominion Intrigue','Troyes','Raiders of the North Sea','The Lord of the Rings Journeys in MiddleEarth','Twilight Imperium Third Edition','Eldritch Horror','Lorenzo il Magnifico'"
   ]
  },
  {
   "cell_type": "code",
   "execution_count": 167,
   "id": "fcea9a53-7bb6-4871-90cc-1b5367cdc2e6",
   "metadata": {},
   "outputs": [],
   "source": [
    "uncleaned_searches=\"Gloomhaven\",\"Brass: Birmingham\",\"Pandemic Legacy: Season 1\",\"Ark Nova\",\"Terraforming Mars\",\"Gloomhaven: Jaws of the Lion\",\"Twilight Imperium: Fourth Edition\",\"Star Wars: Rebellion\",\"Gaia Project\",\"War of the Ring: Second Edition\",\"Spirit Island\",\"Through the Ages: A New Story of Civilization\",\"Great Western Trail\",\"Twilight Struggle\",\"Dune: Imperium\",\"Scythe\",\"The Castles of Burgundy\",\"Nemesis\",\"7 Wonders Duel\",\"Brass: Lancashire\",\"Concordia\",\"A Feast for Odin\",\"Terra Mystica\",\"Wingspan\",\"Arkham Horror: The Card Game\",\"Clank!: Legacy – Acquisitions Incorporated\",\"Eclipse: Second Dawn for the Galaxy\",\"Root\",\"Everdell\",\"Viticulture Essential Edition\",\"Orléans\",\"Lost Ruins of Arnak\",\"Mage Knight Board Game\",\"Food Chain Magnate\",\"Barrage\",\"Marvel Champions: The Card Game\",\"Puerto Rico\",\"Too Many Bones\",\"Caverna: The Cave Farmers\",\"Blood Rage\",\"Pax Pamir: Second Edition\",\"Agricola\",\"Underwater Cities\",\"The Crew: Mission Deep Sea\",\"Anachrony\",\"Maracaibo\",\"Mansions of Madness: Second Edition\",\"Pandemic Legacy: Season 2\",\"The Crew: The Quest for Planet Nine\",\"On Mars\",\"Tzolk'in: The Mayan Calendar\",\"Power Grid\",\"Clans of Caledonia\",\"Crokinole\",\"Le Havre\",\"Star Wars: Imperial Assault\",\"Cascadia\",\"Kingdom Death: Monster\",\"Pandemic Legacy: Season 0\",\"Mechs vs. Minions\",\"Lisboa\",\"The Quacks of Quedlinburg\",\"The Gallerist\",\"Paladins of the West Kingdom\",\"Azul\",\"Android: Netrunner\",\"Eclipse\",\"Aeon's End\",\"The 7th Continent\",\"Through the Ages: A Story of Civilization\",\"Race for the Galaxy\",\"Clank!: A Deck-Building Adventure\",\"Five Tribes\",\"Fields of Arle\",\"Teotihuacan: City of Gods\",\"Grand Austria Hotel\",\"Agricola (Revised Edition)\",\"Robinson Crusoe: Adventures on the Cursed Island\",\"Kanban EV\",\"The Voyages of Marco Polo\",\"7 Wonders\",\"Lords of Waterdeep\",\"Dominant Species\",\"Sleeping Gods\",\"Great Western Trail (Second Edition)\",\"Tainted Grail: The Fall of Avalon\",\"Architects of the West Kingdom\",\"El Grande\",\"Keyflower\",\"Caylus\",\"Battlestar Galactica: The Board Game\",\"Beyond the Sun\",\"Mombasa\",\"Dominion: Intrigue\",\"Troyes\",\"Raiders of the North Sea\",\"The Lord of the Rings: Journeys in Middle-Earth\",\"Twilight Imperium: Third Edition\",\"Eldritch Horror\",\"Lorenzo il Magnifico\""
   ]
  },
  {
   "cell_type": "code",
   "execution_count": 168,
   "id": "26f7397b-0ca2-4320-a47d-08f865473727",
   "metadata": {},
   "outputs": [],
   "source": [
    "search_dict=dict(zip(searches,uncleaned_searches))\n",
    "#search_dict"
   ]
  },
  {
   "cell_type": "code",
   "execution_count": null,
   "id": "11e64abc-4c37-45db-90c7-06956d41753f",
   "metadata": {},
   "outputs": [],
   "source": []
  },
  {
   "cell_type": "raw",
   "id": "0073ff04-6e1b-474e-957e-af08a542b97c",
   "metadata": {},
   "source": [
    "from time import sleep\n",
    "\n",
    "for o in searches:\n",
    "    dest = (path/o)\n",
    "    dest.mkdir(exist_ok=True, parents=True)\n",
    "    download_images(dest, urls=search_images(f'{o} boardgame photo',150))\n",
    "    sleep(10)  # Pause between searches to avoid over-loading server\n",
    "    resize_images(path/o, max_size=400, dest=path/o)"
   ]
  },
  {
   "cell_type": "raw",
   "id": "bb591f5c-197c-46de-8c03-656e1e65e105",
   "metadata": {},
   "source": [
    "failed = verify_images(get_image_files(path))\n",
    "failed.map(Path.unlink)\n",
    "len(failed)"
   ]
  },
  {
   "cell_type": "markdown",
   "id": "9fabd970-148d-4eaf-9abb-065a04843f15",
   "metadata": {
    "jp-MarkdownHeadingCollapsed": true,
    "tags": []
   },
   "source": [
    "### Copied an attempt, didn't work\n",
    "\n",
    "https://www.geeksforgeeks.org/how-to-download-google-images-using-python/?tab=article"
   ]
  },
  {
   "cell_type": "raw",
   "id": "e938f981-53e1-4d89-9a50-61828c80b987",
   "metadata": {},
   "source": [
    "# importing google_images_download module\n",
    "from google_images_download import google_images_download "
   ]
  },
  {
   "cell_type": "raw",
   "id": "1f772e6a-a1d7-463c-a28c-2b2bb4594407",
   "metadata": {},
   "source": [
    "# creating object\n",
    "response = google_images_download.googleimagesdownload() "
   ]
  },
  {
   "cell_type": "raw",
   "id": "47e1b660-8cff-4b70-b7d1-5ba90ff0ef75",
   "metadata": {},
   "source": [
    "search_queries = searches[:5]"
   ]
  },
  {
   "cell_type": "raw",
   "id": "7ba265a4-8a3e-4dfc-90dc-38d8233edd50",
   "metadata": {},
   "source": [
    "def downloadimages(query):\n",
    "    # keywords is the search query\n",
    "    # format is the image file format\n",
    "    # limit is the number of images to be downloaded\n",
    "    # print urls is to print the image file url\n",
    "    # size is the image size which can\n",
    "    # be specified manually (\"large, medium, icon\")\n",
    "    # aspect ratio denotes the height width ratio\n",
    "    # of images to download. (\"tall, square, wide, panoramic\")\n",
    "    arguments = {\"keywords\": query,\n",
    "                 \"format\": \"jpg\",\n",
    "                 \"limit\":4,\n",
    "                 \"print_urls\":True,\n",
    "                 \"size\": \"medium\",\n",
    "                 \"aspect_ratio\":\"panoramic\"}\n",
    "    try:\n",
    "        response.download(arguments)\n",
    "      \n",
    "    # Handling File NotFound Error    \n",
    "    except FileNotFoundError: \n",
    "        arguments = {\"keywords\": query,\n",
    "                     \"format\": \"jpg\",\n",
    "                     \"limit\":4,\n",
    "                     \"print_urls\":True, \n",
    "                     \"size\": \"medium\"}\n",
    "                       \n",
    "        # Providing arguments for the searched query\n",
    "        try:\n",
    "            # Downloading the photos based\n",
    "            # on the given arguments\n",
    "            response.download(arguments) \n",
    "        except:\n",
    "            pass"
   ]
  },
  {
   "cell_type": "raw",
   "id": "3479c5a2-3a4a-4073-b882-7874200468cd",
   "metadata": {},
   "source": [
    "downloadimages('gloomhaven')"
   ]
  },
  {
   "cell_type": "raw",
   "id": "c63f7aa2-9510-4fda-b4d5-05ca856b9d6b",
   "metadata": {},
   "source": [
    "# Driver Code\n",
    "for query in search_queries:\n",
    "    downloadimages(query) \n",
    "    print() "
   ]
  },
  {
   "cell_type": "markdown",
   "id": "1f958145-a623-4ca2-ac9e-a96da8ebd952",
   "metadata": {
    "jp-MarkdownHeadingCollapsed": true,
    "tags": []
   },
   "source": [
    "### Another attempt using Selenium\n",
    "Generated basic script in Selenium IDE, then iterated upon it"
   ]
  },
  {
   "cell_type": "code",
   "execution_count": null,
   "id": "787120da-628a-409c-9329-b8f5cceac314",
   "metadata": {},
   "outputs": [],
   "source": [
    "# Generated by Selenium IDE\n",
    "import pytest\n",
    "import time\n",
    "import json\n",
    "from selenium import webdriver\n",
    "from selenium.webdriver.common.by import By\n",
    "from selenium.webdriver.common.action_chains import ActionChains\n",
    "from selenium.webdriver.support import expected_conditions\n",
    "from selenium.webdriver.support.wait import WebDriverWait\n",
    "from selenium.webdriver.common.keys import Keys\n",
    "from selenium.webdriver.common.desired_capabilities import DesiredCapabilities\n"
   ]
  },
  {
   "cell_type": "code",
   "execution_count": 13,
   "id": "2db60276-aae1-477d-a000-9045261a0697",
   "metadata": {},
   "outputs": [
    {
     "ename": "WebDriverException",
     "evalue": "Message: unknown error: cannot find Chrome binary\nStacktrace:\n#0 0x55a783741463 <unknown>\n#1 0x55a7835058d8 <unknown>\n#2 0x55a78352b04a <unknown>\n#3 0x55a783528c05 <unknown>\n#4 0x55a78356c802 <unknown>\n#5 0x55a78356c2af <unknown>\n#6 0x55a783564443 <unknown>\n#7 0x55a7835353c5 <unknown>\n#8 0x55a783536531 <unknown>\n#9 0x55a783793dce <unknown>\n#10 0x55a783797192 <unknown>\n#11 0x55a78377893e <unknown>\n#12 0x55a783798103 <unknown>\n#13 0x55a78376bd85 <unknown>\n#14 0x55a7837b90a8 <unknown>\n#15 0x55a7837b9239 <unknown>\n#16 0x55a7837d4492 <unknown>\n#17 0x7fbdcab64609 start_thread\n",
     "output_type": "error",
     "traceback": [
      "\u001b[0;31m---------------------------------------------------------------------------\u001b[0m",
      "\u001b[0;31mWebDriverException\u001b[0m                        Traceback (most recent call last)",
      "Cell \u001b[0;32mIn [13], line 5\u001b[0m\n\u001b[1;32m      2\u001b[0m \u001b[38;5;28;01mfrom\u001b[39;00m \u001b[38;5;21;01mselenium\u001b[39;00m\u001b[38;5;21;01m.\u001b[39;00m\u001b[38;5;21;01mwebdriver\u001b[39;00m\u001b[38;5;21;01m.\u001b[39;00m\u001b[38;5;21;01mchrome\u001b[39;00m\u001b[38;5;21;01m.\u001b[39;00m\u001b[38;5;21;01mservice\u001b[39;00m \u001b[38;5;28;01mimport\u001b[39;00m Service\n\u001b[1;32m      3\u001b[0m \u001b[38;5;28;01mfrom\u001b[39;00m \u001b[38;5;21;01mwebdriver_manager\u001b[39;00m\u001b[38;5;21;01m.\u001b[39;00m\u001b[38;5;21;01mchrome\u001b[39;00m \u001b[38;5;28;01mimport\u001b[39;00m ChromeDriverManager\n\u001b[0;32m----> 5\u001b[0m driver \u001b[38;5;241m=\u001b[39m webdriver\u001b[38;5;241m.\u001b[39mChrome(service\u001b[38;5;241m=\u001b[39mService(ChromeDriverManager()\u001b[38;5;241m.\u001b[39minstall()))\n\u001b[1;32m      6\u001b[0m driver\u001b[38;5;241m.\u001b[39mget(\u001b[38;5;124m\"\u001b[39m\u001b[38;5;124mhttps://www.google.com\u001b[39m\u001b[38;5;124m\"\u001b[39m)\n",
      "File \u001b[0;32m~/mambaforge/lib/python3.10/site-packages/selenium/webdriver/chrome/webdriver.py:81\u001b[0m, in \u001b[0;36mWebDriver.__init__\u001b[0;34m(self, executable_path, port, options, service_args, desired_capabilities, service_log_path, chrome_options, service, keep_alive)\u001b[0m\n\u001b[1;32m     78\u001b[0m \u001b[38;5;28;01mif\u001b[39;00m \u001b[38;5;129;01mnot\u001b[39;00m service:\n\u001b[1;32m     79\u001b[0m     service \u001b[38;5;241m=\u001b[39m Service(executable_path, port, service_args, service_log_path)\n\u001b[0;32m---> 81\u001b[0m \u001b[38;5;28;43msuper\u001b[39;49m\u001b[43m(\u001b[49m\u001b[43m)\u001b[49m\u001b[38;5;241;43m.\u001b[39;49m\u001b[38;5;21;43m__init__\u001b[39;49m\u001b[43m(\u001b[49m\n\u001b[1;32m     82\u001b[0m \u001b[43m    \u001b[49m\u001b[43mDesiredCapabilities\u001b[49m\u001b[38;5;241;43m.\u001b[39;49m\u001b[43mCHROME\u001b[49m\u001b[43m[\u001b[49m\u001b[38;5;124;43m\"\u001b[39;49m\u001b[38;5;124;43mbrowserName\u001b[39;49m\u001b[38;5;124;43m\"\u001b[39;49m\u001b[43m]\u001b[49m\u001b[43m,\u001b[49m\n\u001b[1;32m     83\u001b[0m \u001b[43m    \u001b[49m\u001b[38;5;124;43m\"\u001b[39;49m\u001b[38;5;124;43mgoog\u001b[39;49m\u001b[38;5;124;43m\"\u001b[39;49m\u001b[43m,\u001b[49m\n\u001b[1;32m     84\u001b[0m \u001b[43m    \u001b[49m\u001b[43mport\u001b[49m\u001b[43m,\u001b[49m\n\u001b[1;32m     85\u001b[0m \u001b[43m    \u001b[49m\u001b[43moptions\u001b[49m\u001b[43m,\u001b[49m\n\u001b[1;32m     86\u001b[0m \u001b[43m    \u001b[49m\u001b[43mservice_args\u001b[49m\u001b[43m,\u001b[49m\n\u001b[1;32m     87\u001b[0m \u001b[43m    \u001b[49m\u001b[43mdesired_capabilities\u001b[49m\u001b[43m,\u001b[49m\n\u001b[1;32m     88\u001b[0m \u001b[43m    \u001b[49m\u001b[43mservice_log_path\u001b[49m\u001b[43m,\u001b[49m\n\u001b[1;32m     89\u001b[0m \u001b[43m    \u001b[49m\u001b[43mservice\u001b[49m\u001b[43m,\u001b[49m\n\u001b[1;32m     90\u001b[0m \u001b[43m    \u001b[49m\u001b[43mkeep_alive\u001b[49m\u001b[43m,\u001b[49m\n\u001b[1;32m     91\u001b[0m \u001b[43m\u001b[49m\u001b[43m)\u001b[49m\n",
      "File \u001b[0;32m~/mambaforge/lib/python3.10/site-packages/selenium/webdriver/chromium/webdriver.py:106\u001b[0m, in \u001b[0;36mChromiumDriver.__init__\u001b[0;34m(self, browser_name, vendor_prefix, port, options, service_args, desired_capabilities, service_log_path, service, keep_alive)\u001b[0m\n\u001b[1;32m    103\u001b[0m \u001b[38;5;28mself\u001b[39m\u001b[38;5;241m.\u001b[39mservice\u001b[38;5;241m.\u001b[39mstart()\n\u001b[1;32m    105\u001b[0m \u001b[38;5;28;01mtry\u001b[39;00m:\n\u001b[0;32m--> 106\u001b[0m     \u001b[38;5;28;43msuper\u001b[39;49m\u001b[43m(\u001b[49m\u001b[43m)\u001b[49m\u001b[38;5;241;43m.\u001b[39;49m\u001b[38;5;21;43m__init__\u001b[39;49m\u001b[43m(\u001b[49m\n\u001b[1;32m    107\u001b[0m \u001b[43m        \u001b[49m\u001b[43mcommand_executor\u001b[49m\u001b[38;5;241;43m=\u001b[39;49m\u001b[43mChromiumRemoteConnection\u001b[49m\u001b[43m(\u001b[49m\n\u001b[1;32m    108\u001b[0m \u001b[43m            \u001b[49m\u001b[43mremote_server_addr\u001b[49m\u001b[38;5;241;43m=\u001b[39;49m\u001b[38;5;28;43mself\u001b[39;49m\u001b[38;5;241;43m.\u001b[39;49m\u001b[43mservice\u001b[49m\u001b[38;5;241;43m.\u001b[39;49m\u001b[43mservice_url\u001b[49m\u001b[43m,\u001b[49m\n\u001b[1;32m    109\u001b[0m \u001b[43m            \u001b[49m\u001b[43mbrowser_name\u001b[49m\u001b[38;5;241;43m=\u001b[39;49m\u001b[43mbrowser_name\u001b[49m\u001b[43m,\u001b[49m\n\u001b[1;32m    110\u001b[0m \u001b[43m            \u001b[49m\u001b[43mvendor_prefix\u001b[49m\u001b[38;5;241;43m=\u001b[39;49m\u001b[43mvendor_prefix\u001b[49m\u001b[43m,\u001b[49m\n\u001b[1;32m    111\u001b[0m \u001b[43m            \u001b[49m\u001b[43mkeep_alive\u001b[49m\u001b[38;5;241;43m=\u001b[39;49m\u001b[43mkeep_alive\u001b[49m\u001b[43m,\u001b[49m\n\u001b[1;32m    112\u001b[0m \u001b[43m            \u001b[49m\u001b[43mignore_proxy\u001b[49m\u001b[38;5;241;43m=\u001b[39;49m\u001b[43m_ignore_proxy\u001b[49m\u001b[43m,\u001b[49m\n\u001b[1;32m    113\u001b[0m \u001b[43m        \u001b[49m\u001b[43m)\u001b[49m\u001b[43m,\u001b[49m\n\u001b[1;32m    114\u001b[0m \u001b[43m        \u001b[49m\u001b[43moptions\u001b[49m\u001b[38;5;241;43m=\u001b[39;49m\u001b[43moptions\u001b[49m\u001b[43m,\u001b[49m\n\u001b[1;32m    115\u001b[0m \u001b[43m    \u001b[49m\u001b[43m)\u001b[49m\n\u001b[1;32m    116\u001b[0m \u001b[38;5;28;01mexcept\u001b[39;00m \u001b[38;5;167;01mException\u001b[39;00m:\n\u001b[1;32m    117\u001b[0m     \u001b[38;5;28mself\u001b[39m\u001b[38;5;241m.\u001b[39mquit()\n",
      "File \u001b[0;32m~/mambaforge/lib/python3.10/site-packages/selenium/webdriver/remote/webdriver.py:288\u001b[0m, in \u001b[0;36mWebDriver.__init__\u001b[0;34m(self, command_executor, desired_capabilities, browser_profile, proxy, keep_alive, file_detector, options)\u001b[0m\n\u001b[1;32m    286\u001b[0m \u001b[38;5;28mself\u001b[39m\u001b[38;5;241m.\u001b[39m_authenticator_id \u001b[38;5;241m=\u001b[39m \u001b[38;5;28;01mNone\u001b[39;00m\n\u001b[1;32m    287\u001b[0m \u001b[38;5;28mself\u001b[39m\u001b[38;5;241m.\u001b[39mstart_client()\n\u001b[0;32m--> 288\u001b[0m \u001b[38;5;28;43mself\u001b[39;49m\u001b[38;5;241;43m.\u001b[39;49m\u001b[43mstart_session\u001b[49m\u001b[43m(\u001b[49m\u001b[43mcapabilities\u001b[49m\u001b[43m,\u001b[49m\u001b[43m \u001b[49m\u001b[43mbrowser_profile\u001b[49m\u001b[43m)\u001b[49m\n",
      "File \u001b[0;32m~/mambaforge/lib/python3.10/site-packages/selenium/webdriver/remote/webdriver.py:381\u001b[0m, in \u001b[0;36mWebDriver.start_session\u001b[0;34m(self, capabilities, browser_profile)\u001b[0m\n\u001b[1;32m    379\u001b[0m w3c_caps \u001b[38;5;241m=\u001b[39m _make_w3c_caps(capabilities)\n\u001b[1;32m    380\u001b[0m parameters \u001b[38;5;241m=\u001b[39m {\u001b[38;5;124m\"\u001b[39m\u001b[38;5;124mcapabilities\u001b[39m\u001b[38;5;124m\"\u001b[39m: w3c_caps}\n\u001b[0;32m--> 381\u001b[0m response \u001b[38;5;241m=\u001b[39m \u001b[38;5;28;43mself\u001b[39;49m\u001b[38;5;241;43m.\u001b[39;49m\u001b[43mexecute\u001b[49m\u001b[43m(\u001b[49m\u001b[43mCommand\u001b[49m\u001b[38;5;241;43m.\u001b[39;49m\u001b[43mNEW_SESSION\u001b[49m\u001b[43m,\u001b[49m\u001b[43m \u001b[49m\u001b[43mparameters\u001b[49m\u001b[43m)\u001b[49m\n\u001b[1;32m    382\u001b[0m \u001b[38;5;28;01mif\u001b[39;00m \u001b[38;5;124m\"\u001b[39m\u001b[38;5;124msessionId\u001b[39m\u001b[38;5;124m\"\u001b[39m \u001b[38;5;129;01mnot\u001b[39;00m \u001b[38;5;129;01min\u001b[39;00m response:\n\u001b[1;32m    383\u001b[0m     response \u001b[38;5;241m=\u001b[39m response[\u001b[38;5;124m\"\u001b[39m\u001b[38;5;124mvalue\u001b[39m\u001b[38;5;124m\"\u001b[39m]\n",
      "File \u001b[0;32m~/mambaforge/lib/python3.10/site-packages/selenium/webdriver/remote/webdriver.py:444\u001b[0m, in \u001b[0;36mWebDriver.execute\u001b[0;34m(self, driver_command, params)\u001b[0m\n\u001b[1;32m    442\u001b[0m response \u001b[38;5;241m=\u001b[39m \u001b[38;5;28mself\u001b[39m\u001b[38;5;241m.\u001b[39mcommand_executor\u001b[38;5;241m.\u001b[39mexecute(driver_command, params)\n\u001b[1;32m    443\u001b[0m \u001b[38;5;28;01mif\u001b[39;00m response:\n\u001b[0;32m--> 444\u001b[0m     \u001b[38;5;28;43mself\u001b[39;49m\u001b[38;5;241;43m.\u001b[39;49m\u001b[43merror_handler\u001b[49m\u001b[38;5;241;43m.\u001b[39;49m\u001b[43mcheck_response\u001b[49m\u001b[43m(\u001b[49m\u001b[43mresponse\u001b[49m\u001b[43m)\u001b[49m\n\u001b[1;32m    445\u001b[0m     response[\u001b[38;5;124m\"\u001b[39m\u001b[38;5;124mvalue\u001b[39m\u001b[38;5;124m\"\u001b[39m] \u001b[38;5;241m=\u001b[39m \u001b[38;5;28mself\u001b[39m\u001b[38;5;241m.\u001b[39m_unwrap_value(response\u001b[38;5;241m.\u001b[39mget(\u001b[38;5;124m\"\u001b[39m\u001b[38;5;124mvalue\u001b[39m\u001b[38;5;124m\"\u001b[39m, \u001b[38;5;28;01mNone\u001b[39;00m))\n\u001b[1;32m    446\u001b[0m     \u001b[38;5;28;01mreturn\u001b[39;00m response\n",
      "File \u001b[0;32m~/mambaforge/lib/python3.10/site-packages/selenium/webdriver/remote/errorhandler.py:249\u001b[0m, in \u001b[0;36mErrorHandler.check_response\u001b[0;34m(self, response)\u001b[0m\n\u001b[1;32m    247\u001b[0m         alert_text \u001b[38;5;241m=\u001b[39m value[\u001b[38;5;124m\"\u001b[39m\u001b[38;5;124malert\u001b[39m\u001b[38;5;124m\"\u001b[39m]\u001b[38;5;241m.\u001b[39mget(\u001b[38;5;124m\"\u001b[39m\u001b[38;5;124mtext\u001b[39m\u001b[38;5;124m\"\u001b[39m)\n\u001b[1;32m    248\u001b[0m     \u001b[38;5;28;01mraise\u001b[39;00m exception_class(message, screen, stacktrace, alert_text)  \u001b[38;5;66;03m# type: ignore[call-arg]  # mypy is not smart enough here\u001b[39;00m\n\u001b[0;32m--> 249\u001b[0m \u001b[38;5;28;01mraise\u001b[39;00m exception_class(message, screen, stacktrace)\n",
      "\u001b[0;31mWebDriverException\u001b[0m: Message: unknown error: cannot find Chrome binary\nStacktrace:\n#0 0x55a783741463 <unknown>\n#1 0x55a7835058d8 <unknown>\n#2 0x55a78352b04a <unknown>\n#3 0x55a783528c05 <unknown>\n#4 0x55a78356c802 <unknown>\n#5 0x55a78356c2af <unknown>\n#6 0x55a783564443 <unknown>\n#7 0x55a7835353c5 <unknown>\n#8 0x55a783536531 <unknown>\n#9 0x55a783793dce <unknown>\n#10 0x55a783797192 <unknown>\n#11 0x55a78377893e <unknown>\n#12 0x55a783798103 <unknown>\n#13 0x55a78376bd85 <unknown>\n#14 0x55a7837b90a8 <unknown>\n#15 0x55a7837b9239 <unknown>\n#16 0x55a7837d4492 <unknown>\n#17 0x7fbdcab64609 start_thread\n"
     ]
    }
   ],
   "source": [
    "from selenium import webdriver\n",
    "from selenium.webdriver.chrome.service import Service\n",
    "from webdriver_manager.chrome import ChromeDriverManager\n",
    "\n",
    "driver = webdriver.Chrome(service=Service(ChromeDriverManager().install()))\n",
    "driver.get(\"https://www.google.com\")"
   ]
  },
  {
   "cell_type": "code",
   "execution_count": 10,
   "id": "b0545b83-8b0c-4bfd-a3d8-b2e006413aad",
   "metadata": {},
   "outputs": [
    {
     "name": "stderr",
     "output_type": "stream",
     "text": [
      "/tmp/ipykernel_1460/1956462404.py:1: DeprecationWarning: executable_path has been deprecated, please pass in a Service object\n",
      "  browser = webdriver.Chrome(\"/home/jonas/programs/chromedriver\")\n"
     ]
    },
    {
     "ename": "WebDriverException",
     "evalue": "Message: Service /home/jonas/programs/chromedriver unexpectedly exited. Status code was: 127\n",
     "output_type": "error",
     "traceback": [
      "\u001b[0;31m---------------------------------------------------------------------------\u001b[0m",
      "\u001b[0;31mWebDriverException\u001b[0m                        Traceback (most recent call last)",
      "Cell \u001b[0;32mIn [10], line 1\u001b[0m\n\u001b[0;32m----> 1\u001b[0m browser \u001b[38;5;241m=\u001b[39m webdriver\u001b[38;5;241m.\u001b[39mChrome(\u001b[38;5;124m\"\u001b[39m\u001b[38;5;124m/home/jonas/programs/chromedriver\u001b[39m\u001b[38;5;124m\"\u001b[39m)\n\u001b[1;32m      2\u001b[0m browser\u001b[38;5;241m.\u001b[39mget(\u001b[38;5;124m'\u001b[39m\u001b[38;5;124mhttp://selenium.dev/\u001b[39m\u001b[38;5;124m'\u001b[39m)\n",
      "File \u001b[0;32m~/mambaforge/lib/python3.10/site-packages/selenium/webdriver/chrome/webdriver.py:81\u001b[0m, in \u001b[0;36mWebDriver.__init__\u001b[0;34m(self, executable_path, port, options, service_args, desired_capabilities, service_log_path, chrome_options, service, keep_alive)\u001b[0m\n\u001b[1;32m     78\u001b[0m \u001b[38;5;28;01mif\u001b[39;00m \u001b[38;5;129;01mnot\u001b[39;00m service:\n\u001b[1;32m     79\u001b[0m     service \u001b[38;5;241m=\u001b[39m Service(executable_path, port, service_args, service_log_path)\n\u001b[0;32m---> 81\u001b[0m \u001b[38;5;28;43msuper\u001b[39;49m\u001b[43m(\u001b[49m\u001b[43m)\u001b[49m\u001b[38;5;241;43m.\u001b[39;49m\u001b[38;5;21;43m__init__\u001b[39;49m\u001b[43m(\u001b[49m\n\u001b[1;32m     82\u001b[0m \u001b[43m    \u001b[49m\u001b[43mDesiredCapabilities\u001b[49m\u001b[38;5;241;43m.\u001b[39;49m\u001b[43mCHROME\u001b[49m\u001b[43m[\u001b[49m\u001b[38;5;124;43m\"\u001b[39;49m\u001b[38;5;124;43mbrowserName\u001b[39;49m\u001b[38;5;124;43m\"\u001b[39;49m\u001b[43m]\u001b[49m\u001b[43m,\u001b[49m\n\u001b[1;32m     83\u001b[0m \u001b[43m    \u001b[49m\u001b[38;5;124;43m\"\u001b[39;49m\u001b[38;5;124;43mgoog\u001b[39;49m\u001b[38;5;124;43m\"\u001b[39;49m\u001b[43m,\u001b[49m\n\u001b[1;32m     84\u001b[0m \u001b[43m    \u001b[49m\u001b[43mport\u001b[49m\u001b[43m,\u001b[49m\n\u001b[1;32m     85\u001b[0m \u001b[43m    \u001b[49m\u001b[43moptions\u001b[49m\u001b[43m,\u001b[49m\n\u001b[1;32m     86\u001b[0m \u001b[43m    \u001b[49m\u001b[43mservice_args\u001b[49m\u001b[43m,\u001b[49m\n\u001b[1;32m     87\u001b[0m \u001b[43m    \u001b[49m\u001b[43mdesired_capabilities\u001b[49m\u001b[43m,\u001b[49m\n\u001b[1;32m     88\u001b[0m \u001b[43m    \u001b[49m\u001b[43mservice_log_path\u001b[49m\u001b[43m,\u001b[49m\n\u001b[1;32m     89\u001b[0m \u001b[43m    \u001b[49m\u001b[43mservice\u001b[49m\u001b[43m,\u001b[49m\n\u001b[1;32m     90\u001b[0m \u001b[43m    \u001b[49m\u001b[43mkeep_alive\u001b[49m\u001b[43m,\u001b[49m\n\u001b[1;32m     91\u001b[0m \u001b[43m\u001b[49m\u001b[43m)\u001b[49m\n",
      "File \u001b[0;32m~/mambaforge/lib/python3.10/site-packages/selenium/webdriver/chromium/webdriver.py:103\u001b[0m, in \u001b[0;36mChromiumDriver.__init__\u001b[0;34m(self, browser_name, vendor_prefix, port, options, service_args, desired_capabilities, service_log_path, service, keep_alive)\u001b[0m\n\u001b[1;32m    100\u001b[0m     \u001b[38;5;28;01mraise\u001b[39;00m \u001b[38;5;167;01mAttributeError\u001b[39;00m(\u001b[38;5;124m\"\u001b[39m\u001b[38;5;124mservice cannot be None\u001b[39m\u001b[38;5;124m\"\u001b[39m)\n\u001b[1;32m    102\u001b[0m \u001b[38;5;28mself\u001b[39m\u001b[38;5;241m.\u001b[39mservice \u001b[38;5;241m=\u001b[39m service\n\u001b[0;32m--> 103\u001b[0m \u001b[38;5;28;43mself\u001b[39;49m\u001b[38;5;241;43m.\u001b[39;49m\u001b[43mservice\u001b[49m\u001b[38;5;241;43m.\u001b[39;49m\u001b[43mstart\u001b[49m\u001b[43m(\u001b[49m\u001b[43m)\u001b[49m\n\u001b[1;32m    105\u001b[0m \u001b[38;5;28;01mtry\u001b[39;00m:\n\u001b[1;32m    106\u001b[0m     \u001b[38;5;28msuper\u001b[39m()\u001b[38;5;241m.\u001b[39m\u001b[38;5;21m__init__\u001b[39m(\n\u001b[1;32m    107\u001b[0m         command_executor\u001b[38;5;241m=\u001b[39mChromiumRemoteConnection(\n\u001b[1;32m    108\u001b[0m             remote_server_addr\u001b[38;5;241m=\u001b[39m\u001b[38;5;28mself\u001b[39m\u001b[38;5;241m.\u001b[39mservice\u001b[38;5;241m.\u001b[39mservice_url,\n\u001b[0;32m   (...)\u001b[0m\n\u001b[1;32m    114\u001b[0m         options\u001b[38;5;241m=\u001b[39moptions,\n\u001b[1;32m    115\u001b[0m     )\n",
      "File \u001b[0;32m~/mambaforge/lib/python3.10/site-packages/selenium/webdriver/common/service.py:106\u001b[0m, in \u001b[0;36mService.start\u001b[0;34m(self)\u001b[0m\n\u001b[1;32m    104\u001b[0m count \u001b[38;5;241m=\u001b[39m \u001b[38;5;241m0\u001b[39m\n\u001b[1;32m    105\u001b[0m \u001b[38;5;28;01mwhile\u001b[39;00m \u001b[38;5;28;01mTrue\u001b[39;00m:\n\u001b[0;32m--> 106\u001b[0m     \u001b[38;5;28;43mself\u001b[39;49m\u001b[38;5;241;43m.\u001b[39;49m\u001b[43massert_process_still_running\u001b[49m\u001b[43m(\u001b[49m\u001b[43m)\u001b[49m\n\u001b[1;32m    107\u001b[0m     \u001b[38;5;28;01mif\u001b[39;00m \u001b[38;5;28mself\u001b[39m\u001b[38;5;241m.\u001b[39mis_connectable():\n\u001b[1;32m    108\u001b[0m         \u001b[38;5;28;01mbreak\u001b[39;00m\n",
      "File \u001b[0;32m~/mambaforge/lib/python3.10/site-packages/selenium/webdriver/common/service.py:119\u001b[0m, in \u001b[0;36mService.assert_process_still_running\u001b[0;34m(self)\u001b[0m\n\u001b[1;32m    117\u001b[0m return_code \u001b[38;5;241m=\u001b[39m \u001b[38;5;28mself\u001b[39m\u001b[38;5;241m.\u001b[39mprocess\u001b[38;5;241m.\u001b[39mpoll()\n\u001b[1;32m    118\u001b[0m \u001b[38;5;28;01mif\u001b[39;00m return_code:\n\u001b[0;32m--> 119\u001b[0m     \u001b[38;5;28;01mraise\u001b[39;00m WebDriverException(\u001b[38;5;124mf\u001b[39m\u001b[38;5;124m\"\u001b[39m\u001b[38;5;124mService \u001b[39m\u001b[38;5;132;01m{\u001b[39;00m\u001b[38;5;28mself\u001b[39m\u001b[38;5;241m.\u001b[39mpath\u001b[38;5;132;01m}\u001b[39;00m\u001b[38;5;124m unexpectedly exited. Status code was: \u001b[39m\u001b[38;5;132;01m{\u001b[39;00mreturn_code\u001b[38;5;132;01m}\u001b[39;00m\u001b[38;5;124m\"\u001b[39m)\n",
      "\u001b[0;31mWebDriverException\u001b[0m: Message: Service /home/jonas/programs/chromedriver unexpectedly exited. Status code was: 127\n"
     ]
    }
   ],
   "source": [
    "browser = webdriver.Chrome(\"/home/jonas/programs/chromedriver\")\n",
    "browser.get('http://selenium.dev/')"
   ]
  },
  {
   "cell_type": "code",
   "execution_count": 8,
   "id": "8baeba2a-b737-420a-8596-ec49d79ee3cd",
   "metadata": {},
   "outputs": [
    {
     "name": "stderr",
     "output_type": "stream",
     "text": [
      "/tmp/ipykernel_1460/1543986041.py:1: DeprecationWarning: executable_path has been deprecated, please pass in a Service object\n",
      "  browser = webdriver.Chrome('../../programs/chromedriver')\n"
     ]
    },
    {
     "ename": "AttributeError",
     "evalue": "'Service' object has no attribute 'process'",
     "output_type": "error",
     "traceback": [
      "\u001b[0;31m---------------------------------------------------------------------------\u001b[0m",
      "\u001b[0;31mAttributeError\u001b[0m                            Traceback (most recent call last)",
      "Cell \u001b[0;32mIn [8], line 1\u001b[0m\n\u001b[0;32m----> 1\u001b[0m browser \u001b[38;5;241m=\u001b[39m webdriver\u001b[38;5;241m.\u001b[39mChrome(\u001b[38;5;124m'\u001b[39m\u001b[38;5;124m../../programs/chromedriver\u001b[39m\u001b[38;5;124m'\u001b[39m)\n\u001b[1;32m      2\u001b[0m browser\u001b[38;5;241m.\u001b[39mget(\u001b[38;5;124m'\u001b[39m\u001b[38;5;124mhttp://selenium.dev/\u001b[39m\u001b[38;5;124m'\u001b[39m)\n",
      "File \u001b[0;32m~/mambaforge/lib/python3.10/site-packages/selenium/webdriver/chrome/webdriver.py:81\u001b[0m, in \u001b[0;36mWebDriver.__init__\u001b[0;34m(self, executable_path, port, options, service_args, desired_capabilities, service_log_path, chrome_options, service, keep_alive)\u001b[0m\n\u001b[1;32m     78\u001b[0m \u001b[38;5;28;01mif\u001b[39;00m \u001b[38;5;129;01mnot\u001b[39;00m service:\n\u001b[1;32m     79\u001b[0m     service \u001b[38;5;241m=\u001b[39m Service(executable_path, port, service_args, service_log_path)\n\u001b[0;32m---> 81\u001b[0m \u001b[38;5;28;43msuper\u001b[39;49m\u001b[43m(\u001b[49m\u001b[43m)\u001b[49m\u001b[38;5;241;43m.\u001b[39;49m\u001b[38;5;21;43m__init__\u001b[39;49m\u001b[43m(\u001b[49m\n\u001b[1;32m     82\u001b[0m \u001b[43m    \u001b[49m\u001b[43mDesiredCapabilities\u001b[49m\u001b[38;5;241;43m.\u001b[39;49m\u001b[43mCHROME\u001b[49m\u001b[43m[\u001b[49m\u001b[38;5;124;43m\"\u001b[39;49m\u001b[38;5;124;43mbrowserName\u001b[39;49m\u001b[38;5;124;43m\"\u001b[39;49m\u001b[43m]\u001b[49m\u001b[43m,\u001b[49m\n\u001b[1;32m     83\u001b[0m \u001b[43m    \u001b[49m\u001b[38;5;124;43m\"\u001b[39;49m\u001b[38;5;124;43mgoog\u001b[39;49m\u001b[38;5;124;43m\"\u001b[39;49m\u001b[43m,\u001b[49m\n\u001b[1;32m     84\u001b[0m \u001b[43m    \u001b[49m\u001b[43mport\u001b[49m\u001b[43m,\u001b[49m\n\u001b[1;32m     85\u001b[0m \u001b[43m    \u001b[49m\u001b[43moptions\u001b[49m\u001b[43m,\u001b[49m\n\u001b[1;32m     86\u001b[0m \u001b[43m    \u001b[49m\u001b[43mservice_args\u001b[49m\u001b[43m,\u001b[49m\n\u001b[1;32m     87\u001b[0m \u001b[43m    \u001b[49m\u001b[43mdesired_capabilities\u001b[49m\u001b[43m,\u001b[49m\n\u001b[1;32m     88\u001b[0m \u001b[43m    \u001b[49m\u001b[43mservice_log_path\u001b[49m\u001b[43m,\u001b[49m\n\u001b[1;32m     89\u001b[0m \u001b[43m    \u001b[49m\u001b[43mservice\u001b[49m\u001b[43m,\u001b[49m\n\u001b[1;32m     90\u001b[0m \u001b[43m    \u001b[49m\u001b[43mkeep_alive\u001b[49m\u001b[43m,\u001b[49m\n\u001b[1;32m     91\u001b[0m \u001b[43m\u001b[49m\u001b[43m)\u001b[49m\n",
      "File \u001b[0;32m~/mambaforge/lib/python3.10/site-packages/selenium/webdriver/chromium/webdriver.py:103\u001b[0m, in \u001b[0;36mChromiumDriver.__init__\u001b[0;34m(self, browser_name, vendor_prefix, port, options, service_args, desired_capabilities, service_log_path, service, keep_alive)\u001b[0m\n\u001b[1;32m    100\u001b[0m     \u001b[38;5;28;01mraise\u001b[39;00m \u001b[38;5;167;01mAttributeError\u001b[39;00m(\u001b[38;5;124m\"\u001b[39m\u001b[38;5;124mservice cannot be None\u001b[39m\u001b[38;5;124m\"\u001b[39m)\n\u001b[1;32m    102\u001b[0m \u001b[38;5;28mself\u001b[39m\u001b[38;5;241m.\u001b[39mservice \u001b[38;5;241m=\u001b[39m service\n\u001b[0;32m--> 103\u001b[0m \u001b[38;5;28;43mself\u001b[39;49m\u001b[38;5;241;43m.\u001b[39;49m\u001b[43mservice\u001b[49m\u001b[38;5;241;43m.\u001b[39;49m\u001b[43mstart\u001b[49m\u001b[43m(\u001b[49m\u001b[43m)\u001b[49m\n\u001b[1;32m    105\u001b[0m \u001b[38;5;28;01mtry\u001b[39;00m:\n\u001b[1;32m    106\u001b[0m     \u001b[38;5;28msuper\u001b[39m()\u001b[38;5;241m.\u001b[39m\u001b[38;5;21m__init__\u001b[39m(\n\u001b[1;32m    107\u001b[0m         command_executor\u001b[38;5;241m=\u001b[39mChromiumRemoteConnection(\n\u001b[1;32m    108\u001b[0m             remote_server_addr\u001b[38;5;241m=\u001b[39m\u001b[38;5;28mself\u001b[39m\u001b[38;5;241m.\u001b[39mservice\u001b[38;5;241m.\u001b[39mservice_url,\n\u001b[0;32m   (...)\u001b[0m\n\u001b[1;32m    114\u001b[0m         options\u001b[38;5;241m=\u001b[39moptions,\n\u001b[1;32m    115\u001b[0m     )\n",
      "File \u001b[0;32m~/mambaforge/lib/python3.10/site-packages/selenium/webdriver/common/service.py:106\u001b[0m, in \u001b[0;36mService.start\u001b[0;34m(self)\u001b[0m\n\u001b[1;32m    104\u001b[0m count \u001b[38;5;241m=\u001b[39m \u001b[38;5;241m0\u001b[39m\n\u001b[1;32m    105\u001b[0m \u001b[38;5;28;01mwhile\u001b[39;00m \u001b[38;5;28;01mTrue\u001b[39;00m:\n\u001b[0;32m--> 106\u001b[0m     \u001b[38;5;28;43mself\u001b[39;49m\u001b[38;5;241;43m.\u001b[39;49m\u001b[43massert_process_still_running\u001b[49m\u001b[43m(\u001b[49m\u001b[43m)\u001b[49m\n\u001b[1;32m    107\u001b[0m     \u001b[38;5;28;01mif\u001b[39;00m \u001b[38;5;28mself\u001b[39m\u001b[38;5;241m.\u001b[39mis_connectable():\n\u001b[1;32m    108\u001b[0m         \u001b[38;5;28;01mbreak\u001b[39;00m\n",
      "File \u001b[0;32m~/mambaforge/lib/python3.10/site-packages/selenium/webdriver/common/service.py:117\u001b[0m, in \u001b[0;36mService.assert_process_still_running\u001b[0;34m(self)\u001b[0m\n\u001b[1;32m    115\u001b[0m \u001b[38;5;28;01mdef\u001b[39;00m \u001b[38;5;21massert_process_still_running\u001b[39m(\u001b[38;5;28mself\u001b[39m) \u001b[38;5;241m-\u001b[39m\u001b[38;5;241m>\u001b[39m \u001b[38;5;28;01mNone\u001b[39;00m:\n\u001b[1;32m    116\u001b[0m     \u001b[38;5;124;03m\"\"\"Check if the underlying process is still running.\"\"\"\u001b[39;00m\n\u001b[0;32m--> 117\u001b[0m     return_code \u001b[38;5;241m=\u001b[39m \u001b[38;5;28;43mself\u001b[39;49m\u001b[38;5;241;43m.\u001b[39;49m\u001b[43mprocess\u001b[49m\u001b[38;5;241m.\u001b[39mpoll()\n\u001b[1;32m    118\u001b[0m     \u001b[38;5;28;01mif\u001b[39;00m return_code:\n\u001b[1;32m    119\u001b[0m         \u001b[38;5;28;01mraise\u001b[39;00m WebDriverException(\u001b[38;5;124mf\u001b[39m\u001b[38;5;124m\"\u001b[39m\u001b[38;5;124mService \u001b[39m\u001b[38;5;132;01m{\u001b[39;00m\u001b[38;5;28mself\u001b[39m\u001b[38;5;241m.\u001b[39mpath\u001b[38;5;132;01m}\u001b[39;00m\u001b[38;5;124m unexpectedly exited. Status code was: \u001b[39m\u001b[38;5;132;01m{\u001b[39;00mreturn_code\u001b[38;5;132;01m}\u001b[39;00m\u001b[38;5;124m\"\u001b[39m)\n",
      "\u001b[0;31mAttributeError\u001b[0m: 'Service' object has no attribute 'process'"
     ]
    }
   ],
   "source": [
    "browser = webdriver.Chrome('../../programs/chromedriver')\n",
    "browser.get('http://selenium.dev/')"
   ]
  },
  {
   "cell_type": "code",
   "execution_count": null,
   "id": "1c9cb1f2-86f2-48f5-9b57-a0f90c11884c",
   "metadata": {},
   "outputs": [],
   "source": []
  },
  {
   "cell_type": "code",
   "execution_count": null,
   "id": "3bb7d5e9-9735-48a0-aa86-ff878d534ea7",
   "metadata": {},
   "outputs": [],
   "source": [
    "\n",
    "class TestGloomhaven():\n",
    "  def setup_method(self, method):\n",
    "    self.driver = webdriver.Chrome()\n",
    "    self.vars = {}\n",
    "    self.link_list = []\n",
    "\n",
    "  def teardown_method(self, method):\n",
    "    self.driver.quit()\n",
    "  \n",
    "  def test_gloomhaven(self):\n",
    "    # Test name: Gloomhaven\n",
    "    # Step # | name | target | value\n",
    "    # 1 | open | https://boardgamegeek.com/image/2437871/gloomhaven | \n",
    "    self.driver.get(\"https://boardgamegeek.com/image/2437871/gloomhaven\")\n",
    "    # 2 | click | css=.tw-right-0 > .svg-inline--fa > path | \n",
    "    #self.driver.find_element(By.CSS_SELECTOR, \".tw-right-0 > .svg-inline--fa > path\").click()\n",
    "    # 3 | executeScript | return window.location.href | pageurl\n",
    "    #self.vars[\"pageurl\"] = self.driver.execute_script(\"return window.location.href\")\n",
    "    for j in range(10):\n",
    "        self.driver.find_element(By.CSS_SELECTOR, \".tw-right-0 > .svg-inline--fa > path\").click()\n",
    "        self.link_list.append(self.driver.execute_script(\"return window.location.href\"))\n",
    "    return self.link_list\n",
    "    \n",
    "  \n"
   ]
  },
  {
   "cell_type": "code",
   "execution_count": 19,
   "id": "23490f0e-80ff-449c-86d0-95a24e7ae857",
   "metadata": {},
   "outputs": [],
   "source": [
    "tester=TestGloomhaven()"
   ]
  },
  {
   "cell_type": "code",
   "execution_count": 20,
   "id": "e4db46b7-621d-4ed3-8c1b-ebb2adbbe158",
   "metadata": {},
   "outputs": [
    {
     "ename": "TypeError",
     "evalue": "TestGloomhaven.setup_method() missing 1 required positional argument: 'method'",
     "output_type": "error",
     "traceback": [
      "\u001b[0;31m---------------------------------------------------------------------------\u001b[0m",
      "\u001b[0;31mTypeError\u001b[0m                                 Traceback (most recent call last)",
      "Cell \u001b[0;32mIn [20], line 1\u001b[0m\n\u001b[0;32m----> 1\u001b[0m tester\u001b[38;5;241m.\u001b[39msetup_method()\n",
      "\u001b[0;31mTypeError\u001b[0m: TestGloomhaven.setup_method() missing 1 required positional argument: 'method'"
     ]
    }
   ],
   "source": [
    "tester.setup_method()"
   ]
  },
  {
   "cell_type": "code",
   "execution_count": 21,
   "id": "209e5d7d-6516-4520-9afd-b1665fc3ae93",
   "metadata": {},
   "outputs": [
    {
     "ename": "AttributeError",
     "evalue": "'TestGloomhaven' object has no attribute 'driver'",
     "output_type": "error",
     "traceback": [
      "\u001b[0;31m---------------------------------------------------------------------------\u001b[0m",
      "\u001b[0;31mAttributeError\u001b[0m                            Traceback (most recent call last)",
      "Cell \u001b[0;32mIn [21], line 1\u001b[0m\n\u001b[0;32m----> 1\u001b[0m tester\u001b[38;5;241m.\u001b[39mtest_gloomhaven()\n",
      "Cell \u001b[0;32mIn [14], line 26\u001b[0m, in \u001b[0;36mTestGloomhaven.test_gloomhaven\u001b[0;34m(self)\u001b[0m\n\u001b[1;32m     22\u001b[0m \u001b[38;5;28;01mdef\u001b[39;00m \u001b[38;5;21mtest_gloomhaven\u001b[39m(\u001b[38;5;28mself\u001b[39m):\n\u001b[1;32m     23\u001b[0m   \u001b[38;5;66;03m# Test name: Gloomhaven\u001b[39;00m\n\u001b[1;32m     24\u001b[0m   \u001b[38;5;66;03m# Step # | name | target | value\u001b[39;00m\n\u001b[1;32m     25\u001b[0m   \u001b[38;5;66;03m# 1 | open | https://boardgamegeek.com/image/2437871/gloomhaven | \u001b[39;00m\n\u001b[0;32m---> 26\u001b[0m   \u001b[38;5;28;43mself\u001b[39;49m\u001b[38;5;241;43m.\u001b[39;49m\u001b[43mdriver\u001b[49m\u001b[38;5;241m.\u001b[39mget(\u001b[38;5;124m\"\u001b[39m\u001b[38;5;124mhttps://boardgamegeek.com/image/2437871/gloomhaven\u001b[39m\u001b[38;5;124m\"\u001b[39m)\n\u001b[1;32m     27\u001b[0m   \u001b[38;5;66;03m# 2 | click | css=.tw-right-0 > .svg-inline--fa > path | \u001b[39;00m\n\u001b[1;32m     28\u001b[0m   \u001b[38;5;66;03m#self.driver.find_element(By.CSS_SELECTOR, \".tw-right-0 > .svg-inline--fa > path\").click()\u001b[39;00m\n\u001b[1;32m     29\u001b[0m   \u001b[38;5;66;03m# 3 | executeScript | return window.location.href | pageurl\u001b[39;00m\n\u001b[1;32m     30\u001b[0m   \u001b[38;5;66;03m#self.vars[\"pageurl\"] = self.driver.execute_script(\"return window.location.href\")\u001b[39;00m\n\u001b[1;32m     31\u001b[0m   \u001b[38;5;28;01mfor\u001b[39;00m j \u001b[38;5;129;01min\u001b[39;00m \u001b[38;5;28mrange\u001b[39m(\u001b[38;5;241m10\u001b[39m):\n",
      "\u001b[0;31mAttributeError\u001b[0m: 'TestGloomhaven' object has no attribute 'driver'"
     ]
    }
   ],
   "source": [
    "tester.test_gloomhaven()"
   ]
  },
  {
   "cell_type": "code",
   "execution_count": 2,
   "id": "3498b74b-71ee-4c02-8947-57be9e4b6ee6",
   "metadata": {},
   "outputs": [
    {
     "ename": "WebDriverException",
     "evalue": "Message: 'chromedriver' executable needs to be in PATH. Please see https://chromedriver.chromium.org/home\n",
     "output_type": "error",
     "traceback": [
      "\u001b[0;31m---------------------------------------------------------------------------\u001b[0m",
      "\u001b[0;31mWebDriverException\u001b[0m                        Traceback (most recent call last)",
      "File \u001b[0;32m~/mambaforge/lib/python3.10/site-packages/selenium/webdriver/common/service.py:97\u001b[0m, in \u001b[0;36mService.start\u001b[0;34m(self)\u001b[0m\n\u001b[1;32m     96\u001b[0m \u001b[38;5;28;01mtry\u001b[39;00m:\n\u001b[0;32m---> 97\u001b[0m     path \u001b[38;5;241m=\u001b[39m \u001b[43mSeleniumManager\u001b[49m\u001b[38;5;241;43m.\u001b[39;49m\u001b[43mdriver_location\u001b[49m\u001b[43m(\u001b[49m\u001b[43mbrowser\u001b[49m\u001b[43m)\u001b[49m\n\u001b[1;32m     98\u001b[0m \u001b[38;5;28;01mexcept\u001b[39;00m WebDriverException \u001b[38;5;28;01mas\u001b[39;00m new_err:\n",
      "File \u001b[0;32m~/mambaforge/lib/python3.10/site-packages/selenium/webdriver/common/selenium_manager.py:68\u001b[0m, in \u001b[0;36mSeleniumManager.driver_location\u001b[0;34m(browser)\u001b[0m\n\u001b[1;32m     67\u001b[0m args \u001b[38;5;241m=\u001b[39m (\u001b[38;5;28mstr\u001b[39m(SeleniumManager\u001b[38;5;241m.\u001b[39mget_binary()), \u001b[38;5;124m\"\u001b[39m\u001b[38;5;124m--browser\u001b[39m\u001b[38;5;124m\"\u001b[39m, browser)\n\u001b[0;32m---> 68\u001b[0m result \u001b[38;5;241m=\u001b[39m \u001b[43mSeleniumManager\u001b[49m\u001b[38;5;241;43m.\u001b[39;49m\u001b[43mrun\u001b[49m\u001b[43m(\u001b[49m\u001b[43margs\u001b[49m\u001b[43m)\u001b[49m\n\u001b[1;32m     69\u001b[0m command \u001b[38;5;241m=\u001b[39m result\u001b[38;5;241m.\u001b[39msplit(\u001b[38;5;124m\"\u001b[39m\u001b[38;5;130;01m\\t\u001b[39;00m\u001b[38;5;124m\"\u001b[39m)[\u001b[38;5;241m-\u001b[39m\u001b[38;5;241m1\u001b[39m]\u001b[38;5;241m.\u001b[39mstrip()\n",
      "File \u001b[0;32m~/mambaforge/lib/python3.10/site-packages/selenium/webdriver/common/selenium_manager.py:85\u001b[0m, in \u001b[0;36mSeleniumManager.run\u001b[0;34m(args)\u001b[0m\n\u001b[1;32m     84\u001b[0m \u001b[38;5;28;01mif\u001b[39;00m \u001b[38;5;129;01mnot\u001b[39;00m re\u001b[38;5;241m.\u001b[39mmatch(\u001b[38;5;124m\"\u001b[39m\u001b[38;5;124m^INFO\u001b[39m\u001b[38;5;130;01m\\t\u001b[39;00m\u001b[38;5;124m\"\u001b[39m, result):\n\u001b[0;32m---> 85\u001b[0m     \u001b[38;5;28;01mraise\u001b[39;00m WebDriverException(\u001b[38;5;124mf\u001b[39m\u001b[38;5;124m\"\u001b[39m\u001b[38;5;124mUnsuccessful command executed: \u001b[39m\u001b[38;5;132;01m{\u001b[39;00margs\u001b[38;5;132;01m}\u001b[39;00m\u001b[38;5;124m\"\u001b[39m)\n\u001b[1;32m     87\u001b[0m \u001b[38;5;28;01mreturn\u001b[39;00m result\n",
      "\u001b[0;31mWebDriverException\u001b[0m: Message: Unsuccessful command executed: ('/home/jonas/mambaforge/lib/python3.10/site-packages/selenium/webdriver/common/linux/selenium-manager', '--browser', 'chrome')\n",
      "\nDuring handling of the above exception, another exception occurred:\n",
      "\u001b[0;31mWebDriverException\u001b[0m                        Traceback (most recent call last)",
      "Cell \u001b[0;32mIn [2], line 1\u001b[0m\n\u001b[0;32m----> 1\u001b[0m browser \u001b[38;5;241m=\u001b[39m webdriver\u001b[38;5;241m.\u001b[39mChrome()\n\u001b[1;32m      2\u001b[0m browser\u001b[38;5;241m.\u001b[39mget(\u001b[38;5;124m'\u001b[39m\u001b[38;5;124mhttp://selenium.dev/\u001b[39m\u001b[38;5;124m'\u001b[39m)\n",
      "File \u001b[0;32m~/mambaforge/lib/python3.10/site-packages/selenium/webdriver/chrome/webdriver.py:81\u001b[0m, in \u001b[0;36mWebDriver.__init__\u001b[0;34m(self, executable_path, port, options, service_args, desired_capabilities, service_log_path, chrome_options, service, keep_alive)\u001b[0m\n\u001b[1;32m     78\u001b[0m \u001b[38;5;28;01mif\u001b[39;00m \u001b[38;5;129;01mnot\u001b[39;00m service:\n\u001b[1;32m     79\u001b[0m     service \u001b[38;5;241m=\u001b[39m Service(executable_path, port, service_args, service_log_path)\n\u001b[0;32m---> 81\u001b[0m \u001b[38;5;28;43msuper\u001b[39;49m\u001b[43m(\u001b[49m\u001b[43m)\u001b[49m\u001b[38;5;241;43m.\u001b[39;49m\u001b[38;5;21;43m__init__\u001b[39;49m\u001b[43m(\u001b[49m\n\u001b[1;32m     82\u001b[0m \u001b[43m    \u001b[49m\u001b[43mDesiredCapabilities\u001b[49m\u001b[38;5;241;43m.\u001b[39;49m\u001b[43mCHROME\u001b[49m\u001b[43m[\u001b[49m\u001b[38;5;124;43m\"\u001b[39;49m\u001b[38;5;124;43mbrowserName\u001b[39;49m\u001b[38;5;124;43m\"\u001b[39;49m\u001b[43m]\u001b[49m\u001b[43m,\u001b[49m\n\u001b[1;32m     83\u001b[0m \u001b[43m    \u001b[49m\u001b[38;5;124;43m\"\u001b[39;49m\u001b[38;5;124;43mgoog\u001b[39;49m\u001b[38;5;124;43m\"\u001b[39;49m\u001b[43m,\u001b[49m\n\u001b[1;32m     84\u001b[0m \u001b[43m    \u001b[49m\u001b[43mport\u001b[49m\u001b[43m,\u001b[49m\n\u001b[1;32m     85\u001b[0m \u001b[43m    \u001b[49m\u001b[43moptions\u001b[49m\u001b[43m,\u001b[49m\n\u001b[1;32m     86\u001b[0m \u001b[43m    \u001b[49m\u001b[43mservice_args\u001b[49m\u001b[43m,\u001b[49m\n\u001b[1;32m     87\u001b[0m \u001b[43m    \u001b[49m\u001b[43mdesired_capabilities\u001b[49m\u001b[43m,\u001b[49m\n\u001b[1;32m     88\u001b[0m \u001b[43m    \u001b[49m\u001b[43mservice_log_path\u001b[49m\u001b[43m,\u001b[49m\n\u001b[1;32m     89\u001b[0m \u001b[43m    \u001b[49m\u001b[43mservice\u001b[49m\u001b[43m,\u001b[49m\n\u001b[1;32m     90\u001b[0m \u001b[43m    \u001b[49m\u001b[43mkeep_alive\u001b[49m\u001b[43m,\u001b[49m\n\u001b[1;32m     91\u001b[0m \u001b[43m\u001b[49m\u001b[43m)\u001b[49m\n",
      "File \u001b[0;32m~/mambaforge/lib/python3.10/site-packages/selenium/webdriver/chromium/webdriver.py:103\u001b[0m, in \u001b[0;36mChromiumDriver.__init__\u001b[0;34m(self, browser_name, vendor_prefix, port, options, service_args, desired_capabilities, service_log_path, service, keep_alive)\u001b[0m\n\u001b[1;32m    100\u001b[0m     \u001b[38;5;28;01mraise\u001b[39;00m \u001b[38;5;167;01mAttributeError\u001b[39;00m(\u001b[38;5;124m\"\u001b[39m\u001b[38;5;124mservice cannot be None\u001b[39m\u001b[38;5;124m\"\u001b[39m)\n\u001b[1;32m    102\u001b[0m \u001b[38;5;28mself\u001b[39m\u001b[38;5;241m.\u001b[39mservice \u001b[38;5;241m=\u001b[39m service\n\u001b[0;32m--> 103\u001b[0m \u001b[38;5;28;43mself\u001b[39;49m\u001b[38;5;241;43m.\u001b[39;49m\u001b[43mservice\u001b[49m\u001b[38;5;241;43m.\u001b[39;49m\u001b[43mstart\u001b[49m\u001b[43m(\u001b[49m\u001b[43m)\u001b[49m\n\u001b[1;32m    105\u001b[0m \u001b[38;5;28;01mtry\u001b[39;00m:\n\u001b[1;32m    106\u001b[0m     \u001b[38;5;28msuper\u001b[39m()\u001b[38;5;241m.\u001b[39m\u001b[38;5;21m__init__\u001b[39m(\n\u001b[1;32m    107\u001b[0m         command_executor\u001b[38;5;241m=\u001b[39mChromiumRemoteConnection(\n\u001b[1;32m    108\u001b[0m             remote_server_addr\u001b[38;5;241m=\u001b[39m\u001b[38;5;28mself\u001b[39m\u001b[38;5;241m.\u001b[39mservice\u001b[38;5;241m.\u001b[39mservice_url,\n\u001b[0;32m   (...)\u001b[0m\n\u001b[1;32m    114\u001b[0m         options\u001b[38;5;241m=\u001b[39moptions,\n\u001b[1;32m    115\u001b[0m     )\n",
      "File \u001b[0;32m~/mambaforge/lib/python3.10/site-packages/selenium/webdriver/common/service.py:100\u001b[0m, in \u001b[0;36mService.start\u001b[0;34m(self)\u001b[0m\n\u001b[1;32m     98\u001b[0m         \u001b[38;5;28;01mexcept\u001b[39;00m WebDriverException \u001b[38;5;28;01mas\u001b[39;00m new_err:\n\u001b[1;32m     99\u001b[0m             logger\u001b[38;5;241m.\u001b[39mdebug(\u001b[38;5;124m\"\u001b[39m\u001b[38;5;124mUnable to obtain driver using Selenium Manager: \u001b[39m\u001b[38;5;124m\"\u001b[39m \u001b[38;5;241m+\u001b[39m new_err\u001b[38;5;241m.\u001b[39mmsg)\n\u001b[0;32m--> 100\u001b[0m             \u001b[38;5;28;01mraise\u001b[39;00m err\n\u001b[1;32m    102\u001b[0m         \u001b[38;5;28mself\u001b[39m\u001b[38;5;241m.\u001b[39m_start_process(path)\n\u001b[1;32m    104\u001b[0m count \u001b[38;5;241m=\u001b[39m \u001b[38;5;241m0\u001b[39m\n",
      "File \u001b[0;32m~/mambaforge/lib/python3.10/site-packages/selenium/webdriver/common/service.py:91\u001b[0m, in \u001b[0;36mService.start\u001b[0;34m(self)\u001b[0m\n\u001b[1;32m     83\u001b[0m \u001b[38;5;124;03m\"\"\"\u001b[39;00m\n\u001b[1;32m     84\u001b[0m \u001b[38;5;124;03mStarts the Service.\u001b[39;00m\n\u001b[1;32m     85\u001b[0m \n\u001b[0;32m   (...)\u001b[0m\n\u001b[1;32m     88\u001b[0m \u001b[38;5;124;03m   or when it can't connect to the service\u001b[39;00m\n\u001b[1;32m     89\u001b[0m \u001b[38;5;124;03m\"\"\"\u001b[39;00m\n\u001b[1;32m     90\u001b[0m \u001b[38;5;28;01mtry\u001b[39;00m:\n\u001b[0;32m---> 91\u001b[0m     \u001b[38;5;28;43mself\u001b[39;49m\u001b[38;5;241;43m.\u001b[39;49m\u001b[43m_start_process\u001b[49m\u001b[43m(\u001b[49m\u001b[38;5;28;43mself\u001b[39;49m\u001b[38;5;241;43m.\u001b[39;49m\u001b[43mpath\u001b[49m\u001b[43m)\u001b[49m\n\u001b[1;32m     92\u001b[0m \u001b[38;5;28;01mexcept\u001b[39;00m WebDriverException \u001b[38;5;28;01mas\u001b[39;00m err:\n\u001b[1;32m     93\u001b[0m     \u001b[38;5;28;01mif\u001b[39;00m \u001b[38;5;124m\"\u001b[39m\u001b[38;5;124mexecutable needs to be in PATH\u001b[39m\u001b[38;5;124m\"\u001b[39m \u001b[38;5;129;01min\u001b[39;00m err\u001b[38;5;241m.\u001b[39mmsg:\n",
      "File \u001b[0;32m~/mambaforge/lib/python3.10/site-packages/selenium/webdriver/common/service.py:203\u001b[0m, in \u001b[0;36mService._start_process\u001b[0;34m(self, path)\u001b[0m\n\u001b[1;32m    201\u001b[0m \u001b[38;5;28;01mexcept\u001b[39;00m \u001b[38;5;167;01mOSError\u001b[39;00m \u001b[38;5;28;01mas\u001b[39;00m err:\n\u001b[1;32m    202\u001b[0m     \u001b[38;5;28;01mif\u001b[39;00m err\u001b[38;5;241m.\u001b[39merrno \u001b[38;5;241m==\u001b[39m errno\u001b[38;5;241m.\u001b[39mENOENT:\n\u001b[0;32m--> 203\u001b[0m         \u001b[38;5;28;01mraise\u001b[39;00m WebDriverException(\n\u001b[1;32m    204\u001b[0m             \u001b[38;5;124mf\u001b[39m\u001b[38;5;124m\"\u001b[39m\u001b[38;5;124m'\u001b[39m\u001b[38;5;132;01m{\u001b[39;00mos\u001b[38;5;241m.\u001b[39mpath\u001b[38;5;241m.\u001b[39mbasename(\u001b[38;5;28mself\u001b[39m\u001b[38;5;241m.\u001b[39mpath)\u001b[38;5;132;01m}\u001b[39;00m\u001b[38;5;124m'\u001b[39m\u001b[38;5;124m executable needs to be in PATH. \u001b[39m\u001b[38;5;132;01m{\u001b[39;00m\u001b[38;5;28mself\u001b[39m\u001b[38;5;241m.\u001b[39mstart_error_message\u001b[38;5;132;01m}\u001b[39;00m\u001b[38;5;124m\"\u001b[39m\n\u001b[1;32m    205\u001b[0m         )\n\u001b[1;32m    206\u001b[0m     \u001b[38;5;28;01melif\u001b[39;00m err\u001b[38;5;241m.\u001b[39merrno \u001b[38;5;241m==\u001b[39m errno\u001b[38;5;241m.\u001b[39mEACCES:\n\u001b[1;32m    207\u001b[0m         \u001b[38;5;28;01mraise\u001b[39;00m WebDriverException(\n\u001b[1;32m    208\u001b[0m             \u001b[38;5;124mf\u001b[39m\u001b[38;5;124m\"\u001b[39m\u001b[38;5;124m'\u001b[39m\u001b[38;5;132;01m{\u001b[39;00mos\u001b[38;5;241m.\u001b[39mpath\u001b[38;5;241m.\u001b[39mbasename(\u001b[38;5;28mself\u001b[39m\u001b[38;5;241m.\u001b[39mpath)\u001b[38;5;132;01m}\u001b[39;00m\u001b[38;5;124m'\u001b[39m\u001b[38;5;124m executable may have wrong permissions. \u001b[39m\u001b[38;5;132;01m{\u001b[39;00m\u001b[38;5;28mself\u001b[39m\u001b[38;5;241m.\u001b[39mstart_error_message\u001b[38;5;132;01m}\u001b[39;00m\u001b[38;5;124m\"\u001b[39m\n\u001b[1;32m    209\u001b[0m         )\n",
      "\u001b[0;31mWebDriverException\u001b[0m: Message: 'chromedriver' executable needs to be in PATH. Please see https://chromedriver.chromium.org/home\n"
     ]
    }
   ],
   "source": []
  },
  {
   "cell_type": "code",
   "execution_count": null,
   "id": "d692eac6-c8b5-498c-ae66-d01be8461da6",
   "metadata": {},
   "outputs": [],
   "source": []
  },
  {
   "cell_type": "code",
   "execution_count": null,
   "id": "9d49051f-c08a-4da2-bb14-4bfad1113a77",
   "metadata": {},
   "outputs": [],
   "source": []
  }
 ],
 "metadata": {
  "kernelspec": {
   "display_name": "Python 3 (ipykernel)",
   "language": "python",
   "name": "python3"
  },
  "language_info": {
   "codemirror_mode": {
    "name": "ipython",
    "version": 3
   },
   "file_extension": ".py",
   "mimetype": "text/x-python",
   "name": "python",
   "nbconvert_exporter": "python",
   "pygments_lexer": "ipython3",
   "version": "3.10.6"
  }
 },
 "nbformat": 4,
 "nbformat_minor": 5
}
